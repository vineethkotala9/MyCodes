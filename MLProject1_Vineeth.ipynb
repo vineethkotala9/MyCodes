{
 "cells": [
  {
   "cell_type": "markdown",
   "id": "d403454c",
   "metadata": {},
   "source": [
    "## ML Project 1"
   ]
  },
  {
   "cell_type": "code",
   "execution_count": 24,
   "id": "4728302b",
   "metadata": {},
   "outputs": [],
   "source": [
    "import numpy as np\n",
    "import matplotlib.pyplot as plt"
   ]
  },
  {
   "cell_type": "code",
   "execution_count": 2,
   "id": "9f429ddf",
   "metadata": {},
   "outputs": [],
   "source": [
    "y_val=np.load(\"y_val.npy\")\n",
    "y_train= np.load(\"y_train.npy\")\n",
    "\n",
    "x_val= np.load(\"X_val.npy\")\n",
    "x_train= np.load(\"X_train.npy\")"
   ]
  },
  {
   "cell_type": "code",
   "execution_count": 11,
   "id": "4b3d00e1",
   "metadata": {},
   "outputs": [
    {
     "data": {
      "text/plain": [
       "(8000, 20000)"
      ]
     },
     "execution_count": 11,
     "metadata": {},
     "output_type": "execute_result"
    }
   ],
   "source": [
    "np.shape(x_train)"
   ]
  },
  {
   "cell_type": "code",
   "execution_count": 16,
   "id": "6499365e",
   "metadata": {},
   "outputs": [
    {
     "data": {
      "text/plain": [
       "array([[4.77168202e-01, 1.04365945e-01, 4.38000679e-01, ...,\n",
       "        1.58722294e-04, 1.31738849e-03, 7.95907855e-01],\n",
       "       [7.34000802e-01, 7.93504715e-02, 8.36406231e-01, ...,\n",
       "        2.51015136e-03, 2.93268226e-02, 5.45742102e-02],\n",
       "       [1.57281280e-01, 4.47364092e-01, 2.81550169e-01, ...,\n",
       "        5.26649177e-01, 2.36357388e-04, 7.64917552e-01],\n",
       "       ...,\n",
       "       [3.78791094e-01, 7.55949020e-02, 4.04572010e-01, ...,\n",
       "        6.03047788e-01, 3.21115530e-03, 7.69789100e-01],\n",
       "       [3.60332727e-02, 5.84659100e-01, 2.73674607e-01, ...,\n",
       "        2.13794038e-01, 3.00218072e-02, 1.21923476e-01],\n",
       "       [6.21727705e-02, 7.54159808e-01, 9.73835111e-01, ...,\n",
       "        4.30405699e-03, 5.51002264e-01, 7.08560884e-01]], dtype=float32)"
      ]
     },
     "execution_count": 16,
     "metadata": {},
     "output_type": "execute_result"
    }
   ],
   "source": [
    "np.column_stack([ones_val, x_val])"
   ]
  },
  {
   "cell_type": "code",
   "execution_count": 17,
   "id": "e5437ed3",
   "metadata": {},
   "outputs": [
    {
     "data": {
      "text/plain": [
       "array([[1.00000000e+00, 4.77168202e-01, 1.04365945e-01, ...,\n",
       "        1.58722294e-04, 1.31738849e-03, 7.95907855e-01],\n",
       "       [1.00000000e+00, 7.34000802e-01, 7.93504715e-02, ...,\n",
       "        2.51015136e-03, 2.93268226e-02, 5.45742102e-02],\n",
       "       [1.00000000e+00, 1.57281280e-01, 4.47364092e-01, ...,\n",
       "        5.26649177e-01, 2.36357388e-04, 7.64917552e-01],\n",
       "       ...,\n",
       "       [1.00000000e+00, 3.78791094e-01, 7.55949020e-02, ...,\n",
       "        6.03047788e-01, 3.21115530e-03, 7.69789100e-01],\n",
       "       [1.00000000e+00, 3.60332727e-02, 5.84659100e-01, ...,\n",
       "        2.13794038e-01, 3.00218072e-02, 1.21923476e-01],\n",
       "       [1.00000000e+00, 6.21727705e-02, 7.54159808e-01, ...,\n",
       "        4.30405699e-03, 5.51002264e-01, 7.08560884e-01]], dtype=float32)"
      ]
     },
     "execution_count": 17,
     "metadata": {},
     "output_type": "execute_result"
    }
   ],
   "source": [
    "np.column_stack([ones_val, x_val])"
   ]
  },
  {
   "cell_type": "code",
   "execution_count": 18,
   "id": "e7c585cb",
   "metadata": {},
   "outputs": [],
   "source": [
    "ones_train=np.ones_like(y_train)\n"
   ]
  },
  {
   "cell_type": "code",
   "execution_count": 19,
   "id": "9c05d701",
   "metadata": {},
   "outputs": [],
   "source": [
    "ones_val= np.ones_like(y_val)"
   ]
  },
  {
   "cell_type": "code",
   "execution_count": 20,
   "id": "63c221b0",
   "metadata": {},
   "outputs": [],
   "source": [
    "X_train= np.column_stack([ones_train, x_train])\n",
    "X_val= np.column_stack([ones_val, x_val])"
   ]
  },
  {
   "cell_type": "code",
   "execution_count": 21,
   "id": "b705d2d9",
   "metadata": {},
   "outputs": [
    {
     "data": {
      "text/plain": [
       "(8000, 20001)"
      ]
     },
     "execution_count": 21,
     "metadata": {},
     "output_type": "execute_result"
    }
   ],
   "source": [
    "np.shape(X_train)"
   ]
  },
  {
   "cell_type": "code",
   "execution_count": null,
   "id": "f3cc0707",
   "metadata": {},
   "outputs": [],
   "source": [
    "## Finding optimized λ value\n",
    "\n",
    "def solve(λ):\n",
    "    \n",
    "    I= np.eye(X_train.shape[1])\n",
    "    θ= np.linalg.solve(X_train.T @ X_train + λ * I, X_train.T @ y_train)\n",
    "    \n",
    "    prediction= X_val @ θ\n",
    "    e= prediction - y_val\n",
    "    \n",
    "    MSE_val= (e.T @ e)/len(X_train)\n",
    "    return MSE_val"
   ]
  },
  {
   "cell_type": "code",
   "execution_count": null,
   "id": "7b70e74a",
   "metadata": {},
   "outputs": [],
   "source": [
    "possible_λ = [0.01, 0.1, 1, 10, 100]\n",
    "\n",
    "for λ in possible_λ:\n",
    "    MSE_val = solve(λ)\n",
    "    print(MSE_val)"
   ]
  },
  {
   "cell_type": "code",
   "execution_count": 11,
   "id": "2feaae1c",
   "metadata": {},
   "outputs": [],
   "source": [
    "λ= 100\n",
    "I= np.eye(X_train.shape[1])\n",
    "θ= np.linalg.solve(X_train.T @ X_train + λ * I, X_train.T @ y_train)"
   ]
  },
  {
   "cell_type": "code",
   "execution_count": 13,
   "id": "e7d268fd",
   "metadata": {},
   "outputs": [
    {
     "data": {
      "text/plain": [
       "array([ 0.88265261,  0.36476647,  0.21471551, ..., -0.01309184,\n",
       "       -0.0503789 , -0.06815213])"
      ]
     },
     "execution_count": 13,
     "metadata": {},
     "output_type": "execute_result"
    }
   ],
   "source": [
    "θ\n"
   ]
  },
  {
   "cell_type": "code",
   "execution_count": 12,
   "id": "8fea4e23",
   "metadata": {},
   "outputs": [],
   "source": [
    "# Prediction Function\n",
    "\n",
    "def f(X):\n",
    "    prediction= X @ θ\n",
    "    return prediction"
   ]
  },
  {
   "cell_type": "code",
   "execution_count": null,
   "id": "b6ece33d",
   "metadata": {},
   "outputs": [],
   "source": []
  }
 ],
 "metadata": {
  "kernelspec": {
   "display_name": "Python 3 (ipykernel)",
   "language": "python",
   "name": "python3"
  },
  "language_info": {
   "codemirror_mode": {
    "name": "ipython",
    "version": 3
   },
   "file_extension": ".py",
   "mimetype": "text/x-python",
   "name": "python",
   "nbconvert_exporter": "python",
   "pygments_lexer": "ipython3",
   "version": "3.9.7"
  }
 },
 "nbformat": 4,
 "nbformat_minor": 5
}
