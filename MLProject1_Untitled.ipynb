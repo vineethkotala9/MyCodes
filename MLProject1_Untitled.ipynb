{
 "cells": [
  {
   "cell_type": "code",
   "execution_count": 1,
   "id": "1e3e6ec6",
   "metadata": {},
   "outputs": [],
   "source": [
    "import numpy as np\n",
    "import matplotlib.pyplot as plt"
   ]
  },
  {
   "cell_type": "code",
   "execution_count": 2,
   "id": "9afdf3a8",
   "metadata": {},
   "outputs": [],
   "source": [
    "y_val=np.load(\"y_val.npy\")\n",
    "y_train= np.load(\"y_train.npy\")\n",
    "\n",
    "x_val= np.load(\"X_val.npy\")\n",
    "x_train= np.load(\"X_train.npy\")"
   ]
  },
  {
   "cell_type": "code",
   "execution_count": 14,
   "id": "7e43ce9b",
   "metadata": {},
   "outputs": [
    {
     "data": {
      "text/plain": [
       "(8000, 20001)"
      ]
     },
     "execution_count": 14,
     "metadata": {},
     "output_type": "execute_result"
    }
   ],
   "source": [
    "np.shape(X_train)"
   ]
  },
  {
   "cell_type": "code",
   "execution_count": 15,
   "id": "5a98f90e",
   "metadata": {},
   "outputs": [
    {
     "data": {
      "text/plain": [
       "(8000,)"
      ]
     },
     "execution_count": 15,
     "metadata": {},
     "output_type": "execute_result"
    }
   ],
   "source": [
    "np.shape(y_train)"
   ]
  },
  {
   "cell_type": "code",
   "execution_count": 16,
   "id": "1eaecf79",
   "metadata": {},
   "outputs": [
    {
     "data": {
      "text/plain": [
       "(2000, 20001)"
      ]
     },
     "execution_count": 16,
     "metadata": {},
     "output_type": "execute_result"
    }
   ],
   "source": [
    "np.shape(X_val)"
   ]
  },
  {
   "cell_type": "code",
   "execution_count": 17,
   "id": "1b8f11f2",
   "metadata": {},
   "outputs": [
    {
     "data": {
      "text/plain": [
       "(2000,)"
      ]
     },
     "execution_count": 17,
     "metadata": {},
     "output_type": "execute_result"
    }
   ],
   "source": [
    "np.shape(y_val)"
   ]
  },
  {
   "cell_type": "code",
   "execution_count": 19,
   "id": "51a44b18",
   "metadata": {},
   "outputs": [
    {
     "ename": "NameError",
     "evalue": "name 'I' is not defined",
     "output_type": "error",
     "traceback": [
      "\u001b[0;31m---------------------------------------------------------------------------\u001b[0m",
      "\u001b[0;31mNameError\u001b[0m                                 Traceback (most recent call last)",
      "\u001b[0;32m/var/folders/9j/06_x2b392tz7ygplj3gq4h8c0000gn/T/ipykernel_25443/1022521013.py\u001b[0m in \u001b[0;36m<module>\u001b[0;34m\u001b[0m\n\u001b[0;32m----> 1\u001b[0;31m \u001b[0mnp\u001b[0m\u001b[0;34m.\u001b[0m\u001b[0mshape\u001b[0m\u001b[0;34m(\u001b[0m\u001b[0mI\u001b[0m\u001b[0;34m)\u001b[0m\u001b[0;34m\u001b[0m\u001b[0;34m\u001b[0m\u001b[0m\n\u001b[0m",
      "\u001b[0;31mNameError\u001b[0m: name 'I' is not defined"
     ]
    }
   ],
   "source": [
    "np.shape(I)"
   ]
  },
  {
   "cell_type": "code",
   "execution_count": 4,
   "id": "878a3ee5",
   "metadata": {},
   "outputs": [],
   "source": [
    "ones_train=np.ones_like(y_train)"
   ]
  },
  {
   "cell_type": "code",
   "execution_count": 5,
   "id": "7be14464",
   "metadata": {},
   "outputs": [],
   "source": [
    "ones_val= np.ones_like(y_val)"
   ]
  },
  {
   "cell_type": "code",
   "execution_count": 6,
   "id": "89b9d43b",
   "metadata": {},
   "outputs": [],
   "source": [
    "X_train= np.column_stack([ones_train, x_train])\n",
    "X_val= np.column_stack([ones_val, x_val])"
   ]
  },
  {
   "cell_type": "code",
   "execution_count": 7,
   "id": "c299b9b1",
   "metadata": {},
   "outputs": [
    {
     "data": {
      "text/plain": [
       "(8000, 20001)"
      ]
     },
     "execution_count": 7,
     "metadata": {},
     "output_type": "execute_result"
    }
   ],
   "source": [
    "np.shape(X_train)"
   ]
  },
  {
   "cell_type": "code",
   "execution_count": 8,
   "id": "8ad17a23",
   "metadata": {},
   "outputs": [],
   "source": [
    "def solve(λ):\n",
    "    \n",
    "    I= np.eye(X_train.shape[1])\n",
    "    θ= np.linalg.solve(X_train.T @ X_train + λ * I, X_train.T @ y_train)\n",
    "    \n",
    "    prediction= X_val @ θ\n",
    "    e= prediction - y_val\n",
    "    \n",
    "    MSE_val= (e.T @ e)/len(X_train)\n",
    "    return MSE_val"
   ]
  },
  {
   "cell_type": "code",
   "execution_count": 12,
   "id": "3eb7a109",
   "metadata": {},
   "outputs": [
    {
     "data": {
      "text/plain": [
       "array([[1., 0., 0., ..., 0., 0., 0.],\n",
       "       [0., 1., 0., ..., 0., 0., 0.],\n",
       "       [0., 0., 1., ..., 0., 0., 0.],\n",
       "       ...,\n",
       "       [0., 0., 0., ..., 1., 0., 0.],\n",
       "       [0., 0., 0., ..., 0., 1., 0.],\n",
       "       [0., 0., 0., ..., 0., 0., 1.]])"
      ]
     },
     "execution_count": 12,
     "metadata": {},
     "output_type": "execute_result"
    }
   ],
   "source": [
    "np.eye(X_train.shape[1])"
   ]
  },
  {
   "cell_type": "code",
   "execution_count": null,
   "id": "9c8f56bb",
   "metadata": {},
   "outputs": [],
   "source": []
  }
 ],
 "metadata": {
  "kernelspec": {
   "display_name": "Python 3 (ipykernel)",
   "language": "python",
   "name": "python3"
  },
  "language_info": {
   "codemirror_mode": {
    "name": "ipython",
    "version": 3
   },
   "file_extension": ".py",
   "mimetype": "text/x-python",
   "name": "python",
   "nbconvert_exporter": "python",
   "pygments_lexer": "ipython3",
   "version": "3.9.7"
  }
 },
 "nbformat": 4,
 "nbformat_minor": 5
}
