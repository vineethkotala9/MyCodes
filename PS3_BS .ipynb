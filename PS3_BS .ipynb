{
 "cells": [
  {
   "cell_type": "code",
   "execution_count": 89,
   "id": "60230155",
   "metadata": {},
   "outputs": [],
   "source": [
    "import pandas as pd\n",
    "import numpy as np\n",
    "import pandas_datareader as pdr\n",
    "import scipy.stats as ss"
   ]
  },
  {
   "cell_type": "code",
   "execution_count": 90,
   "id": "e7492a72",
   "metadata": {},
   "outputs": [],
   "source": [
    "# input data\n",
    "\n",
    "t0 = '1/9/2023'\n",
    "t1 = '1/12/2023'\n",
    "t2 = '1/9/2025'\n",
    "t3 = '1/14/2025'\n",
    "f1 = 0.915067\n",
    "S =  11108.45 \n",
    "q = .01032\n",
    "f2 = 0.915013036\n"
   ]
  },
  {
   "cell_type": "code",
   "execution_count": 91,
   "id": "8b527de3",
   "metadata": {},
   "outputs": [],
   "source": [
    "dates = list((t0, t1, t2, t3))"
   ]
  },
  {
   "cell_type": "code",
   "execution_count": 92,
   "id": "991f779a",
   "metadata": {},
   "outputs": [],
   "source": [
    "dates = [pd.to_datetime(i) for i in dates]"
   ]
  },
  {
   "cell_type": "code",
   "execution_count": 93,
   "id": "44f99221",
   "metadata": {},
   "outputs": [
    {
     "data": {
      "text/plain": [
       "Timedelta('731 days 00:00:00')"
      ]
     },
     "execution_count": 93,
     "metadata": {},
     "output_type": "execute_result"
    }
   ],
   "source": [
    "delta = dates[2] - dates[0]\n",
    "delta"
   ]
  },
  {
   "cell_type": "code",
   "execution_count": 94,
   "id": "d0e8abc8",
   "metadata": {},
   "outputs": [
    {
     "data": {
      "text/plain": [
       "2.0027397260273974"
      ]
     },
     "execution_count": 94,
     "metadata": {},
     "output_type": "execute_result"
    }
   ],
   "source": [
    "T = delta.days/365\n",
    "T"
   ]
  },
  {
   "cell_type": "code",
   "execution_count": 95,
   "id": "0d67dac2",
   "metadata": {},
   "outputs": [
    {
     "data": {
      "text/plain": [
       "0.04431828619074147"
      ]
     },
     "execution_count": 95,
     "metadata": {},
     "output_type": "execute_result"
    }
   ],
   "source": [
    "r = -np.log(f1)/T\n",
    "r"
   ]
  },
  {
   "cell_type": "code",
   "execution_count": 96,
   "id": "cf38f0c9",
   "metadata": {},
   "outputs": [],
   "source": [
    "def bsf(O, S, K, r, sigma, q, T, disFac):\n",
    "    \n",
    "    O = str(O)\n",
    "    \n",
    "    d1 = (np.log(S/K) + (r - q + (0.5 * sigma**2)) * T) / (sigma * np.sqrt(T))\n",
    "    d2 = (np.log(S/K) + (r - q - (0.5 * sigma**2)) * T) / (sigma * np.sqrt(T))\n",
    "    \n",
    "    if \"Call\" in O:\n",
    "        result = disFac * (S * np.exp((r - q)*T) * ss.norm.cdf(d1, 0,1) - K * ss.norm.cdf(d2, 0, 1))\n",
    "    elif \"Put\" in O:\n",
    "        result = disFac * (K * ss.norm.cdf(-d2, 0, 1) - S * np.exp((r - q)*T) * ss.norm.cdf(-d1, 0,1))\n",
    "    elif \"Dp\" in O:\n",
    "        result = disFac * (ss.norm.cdf(-d2, 0, 1))\n",
    "    else:\n",
    "        result = disFac * (-ss.norm.cdf(d2, 0, 1))\n",
    "    \n",
    "        \n",
    "    return result"
   ]
  },
  {
   "cell_type": "code",
   "execution_count": 97,
   "id": "948cdca6",
   "metadata": {},
   "outputs": [
    {
     "data": {
      "text/plain": [
       "859.9541046603317"
      ]
     },
     "execution_count": 97,
     "metadata": {},
     "output_type": "execute_result"
    }
   ],
   "source": [
    "bsf(\"Put\", S, S, r, .20, q, T, f2)"
   ]
  },
  {
   "cell_type": "code",
   "execution_count": 98,
   "id": "d1be06a5",
   "metadata": {},
   "outputs": [],
   "source": [
    "opt = ['Put', 'Call', 'Put', 'Dp', 'Put']\n",
    "strikes = [ 12996.89, 12996.89, 11108.45,  8886.76,  8886.76 ]\n",
    "impl_vol = [0.2551568, 0.2551568, 0.2813162, 0.2924907, 0.2924907]"
   ]
  },
  {
   "cell_type": "code",
   "execution_count": 99,
   "id": "e668270b",
   "metadata": {},
   "outputs": [
    {
     "data": {
      "text/html": [
       "<div>\n",
       "<style scoped>\n",
       "    .dataframe tbody tr th:only-of-type {\n",
       "        vertical-align: middle;\n",
       "    }\n",
       "\n",
       "    .dataframe tbody tr th {\n",
       "        vertical-align: top;\n",
       "    }\n",
       "\n",
       "    .dataframe thead th {\n",
       "        text-align: right;\n",
       "    }\n",
       "</style>\n",
       "<table border=\"1\" class=\"dataframe\">\n",
       "  <thead>\n",
       "    <tr style=\"text-align: right;\">\n",
       "      <th></th>\n",
       "      <th>O</th>\n",
       "      <th>K</th>\n",
       "      <th>sigma</th>\n",
       "      <th>V</th>\n",
       "    </tr>\n",
       "  </thead>\n",
       "  <tbody>\n",
       "    <tr>\n",
       "      <th>0</th>\n",
       "      <td>Put</td>\n",
       "      <td>12996.89</td>\n",
       "      <td>0.255157</td>\n",
       "      <td>0.0</td>\n",
       "    </tr>\n",
       "    <tr>\n",
       "      <th>1</th>\n",
       "      <td>Call</td>\n",
       "      <td>12996.89</td>\n",
       "      <td>0.255157</td>\n",
       "      <td>0.0</td>\n",
       "    </tr>\n",
       "    <tr>\n",
       "      <th>2</th>\n",
       "      <td>Put</td>\n",
       "      <td>11108.45</td>\n",
       "      <td>0.281316</td>\n",
       "      <td>0.0</td>\n",
       "    </tr>\n",
       "    <tr>\n",
       "      <th>3</th>\n",
       "      <td>Dp</td>\n",
       "      <td>8886.76</td>\n",
       "      <td>0.292491</td>\n",
       "      <td>0.0</td>\n",
       "    </tr>\n",
       "    <tr>\n",
       "      <th>4</th>\n",
       "      <td>Put</td>\n",
       "      <td>8886.76</td>\n",
       "      <td>0.292491</td>\n",
       "      <td>0.0</td>\n",
       "    </tr>\n",
       "  </tbody>\n",
       "</table>\n",
       "</div>"
      ],
      "text/plain": [
       "      O         K     sigma    V\n",
       "0   Put  12996.89  0.255157  0.0\n",
       "1  Call  12996.89  0.255157  0.0\n",
       "2   Put  11108.45  0.281316  0.0\n",
       "3    Dp   8886.76  0.292491  0.0\n",
       "4   Put   8886.76  0.292491  0.0"
      ]
     },
     "execution_count": 99,
     "metadata": {},
     "output_type": "execute_result"
    }
   ],
   "source": [
    "df = pd.DataFrame({'O': opt, 'K': strikes, 'sigma': impl_vol, 'V': np.zeros(5)})\n",
    "df"
   ]
  },
  {
   "cell_type": "code",
   "execution_count": 100,
   "id": "37462e71",
   "metadata": {},
   "outputs": [
    {
     "data": {
      "text/html": [
       "<div>\n",
       "<style scoped>\n",
       "    .dataframe tbody tr th:only-of-type {\n",
       "        vertical-align: middle;\n",
       "    }\n",
       "\n",
       "    .dataframe tbody tr th {\n",
       "        vertical-align: top;\n",
       "    }\n",
       "\n",
       "    .dataframe thead th {\n",
       "        text-align: right;\n",
       "    }\n",
       "</style>\n",
       "<table border=\"1\" class=\"dataframe\">\n",
       "  <thead>\n",
       "    <tr style=\"text-align: right;\">\n",
       "      <th></th>\n",
       "      <th>O</th>\n",
       "      <th>K</th>\n",
       "      <th>sigma</th>\n",
       "      <th>V</th>\n",
       "    </tr>\n",
       "  </thead>\n",
       "  <tbody>\n",
       "    <tr>\n",
       "      <th>0</th>\n",
       "      <td>Put</td>\n",
       "      <td>12996.89</td>\n",
       "      <td>0.255157</td>\n",
       "      <td>1174.172614</td>\n",
       "    </tr>\n",
       "    <tr>\n",
       "      <th>1</th>\n",
       "      <td>Call</td>\n",
       "      <td>12996.89</td>\n",
       "      <td>0.255157</td>\n",
       "      <td>1174.172614</td>\n",
       "    </tr>\n",
       "    <tr>\n",
       "      <th>2</th>\n",
       "      <td>Put</td>\n",
       "      <td>11108.45</td>\n",
       "      <td>0.281316</td>\n",
       "      <td>2042.245213</td>\n",
       "    </tr>\n",
       "    <tr>\n",
       "      <th>3</th>\n",
       "      <td>Dp</td>\n",
       "      <td>8886.76</td>\n",
       "      <td>0.292491</td>\n",
       "      <td>3295.341097</td>\n",
       "    </tr>\n",
       "    <tr>\n",
       "      <th>4</th>\n",
       "      <td>Put</td>\n",
       "      <td>8886.76</td>\n",
       "      <td>0.292491</td>\n",
       "      <td>3295.341097</td>\n",
       "    </tr>\n",
       "  </tbody>\n",
       "</table>\n",
       "</div>"
      ],
      "text/plain": [
       "      O         K     sigma            V\n",
       "0   Put  12996.89  0.255157  1174.172614\n",
       "1  Call  12996.89  0.255157  1174.172614\n",
       "2   Put  11108.45  0.281316  2042.245213\n",
       "3    Dp   8886.76  0.292491  3295.341097\n",
       "4   Put   8886.76  0.292491  3295.341097"
      ]
     },
     "execution_count": 100,
     "metadata": {},
     "output_type": "execute_result"
    }
   ],
   "source": [
    "df.assign(V = lambda df: bsf(df.O,  S, df.K, r, df.sigma, q, T, f2))"
   ]
  },
  {
   "cell_type": "markdown",
   "id": "bf4e600b",
   "metadata": {},
   "source": [
    "**the values calculated for 'V' are all for Call option as shown below**"
   ]
  },
  {
   "cell_type": "code",
   "execution_count": 101,
   "id": "f7a0056e",
   "metadata": {},
   "outputs": [
    {
     "data": {
      "text/html": [
       "<div>\n",
       "<style scoped>\n",
       "    .dataframe tbody tr th:only-of-type {\n",
       "        vertical-align: middle;\n",
       "    }\n",
       "\n",
       "    .dataframe tbody tr th {\n",
       "        vertical-align: top;\n",
       "    }\n",
       "\n",
       "    .dataframe thead th {\n",
       "        text-align: right;\n",
       "    }\n",
       "</style>\n",
       "<table border=\"1\" class=\"dataframe\">\n",
       "  <thead>\n",
       "    <tr style=\"text-align: right;\">\n",
       "      <th></th>\n",
       "      <th>O</th>\n",
       "      <th>K</th>\n",
       "      <th>sigma</th>\n",
       "      <th>V</th>\n",
       "    </tr>\n",
       "  </thead>\n",
       "  <tbody>\n",
       "    <tr>\n",
       "      <th>0</th>\n",
       "      <td>Put</td>\n",
       "      <td>12996.89</td>\n",
       "      <td>0.255157</td>\n",
       "      <td>1174.172614</td>\n",
       "    </tr>\n",
       "    <tr>\n",
       "      <th>1</th>\n",
       "      <td>Call</td>\n",
       "      <td>12996.89</td>\n",
       "      <td>0.255157</td>\n",
       "      <td>1174.172614</td>\n",
       "    </tr>\n",
       "    <tr>\n",
       "      <th>2</th>\n",
       "      <td>Put</td>\n",
       "      <td>11108.45</td>\n",
       "      <td>0.281316</td>\n",
       "      <td>2042.245213</td>\n",
       "    </tr>\n",
       "    <tr>\n",
       "      <th>3</th>\n",
       "      <td>Dp</td>\n",
       "      <td>8886.76</td>\n",
       "      <td>0.292491</td>\n",
       "      <td>3295.341097</td>\n",
       "    </tr>\n",
       "    <tr>\n",
       "      <th>4</th>\n",
       "      <td>Put</td>\n",
       "      <td>8886.76</td>\n",
       "      <td>0.292491</td>\n",
       "      <td>3295.341097</td>\n",
       "    </tr>\n",
       "  </tbody>\n",
       "</table>\n",
       "</div>"
      ],
      "text/plain": [
       "      O         K     sigma            V\n",
       "0   Put  12996.89  0.255157  1174.172614\n",
       "1  Call  12996.89  0.255157  1174.172614\n",
       "2   Put  11108.45  0.281316  2042.245213\n",
       "3    Dp   8886.76  0.292491  3295.341097\n",
       "4   Put   8886.76  0.292491  3295.341097"
      ]
     },
     "execution_count": 101,
     "metadata": {},
     "output_type": "execute_result"
    }
   ],
   "source": [
    "df.assign(V = lambda df: bsf(\"Call\",  S, df.K, r, df.sigma, q, T, f2))"
   ]
  },
  {
   "cell_type": "code",
   "execution_count": 102,
   "id": "d9c5b475",
   "metadata": {},
   "outputs": [
    {
     "data": {
      "text/html": [
       "<div>\n",
       "<style scoped>\n",
       "    .dataframe tbody tr th:only-of-type {\n",
       "        vertical-align: middle;\n",
       "    }\n",
       "\n",
       "    .dataframe tbody tr th {\n",
       "        vertical-align: top;\n",
       "    }\n",
       "\n",
       "    .dataframe thead th {\n",
       "        text-align: right;\n",
       "    }\n",
       "</style>\n",
       "<table border=\"1\" class=\"dataframe\">\n",
       "  <thead>\n",
       "    <tr style=\"text-align: right;\">\n",
       "      <th></th>\n",
       "      <th>O</th>\n",
       "      <th>K</th>\n",
       "      <th>sigma</th>\n",
       "      <th>V</th>\n",
       "    </tr>\n",
       "  </thead>\n",
       "  <tbody>\n",
       "    <tr>\n",
       "      <th>0</th>\n",
       "      <td>Put</td>\n",
       "      <td>12996.89</td>\n",
       "      <td>0.255157</td>\n",
       "      <td>Put</td>\n",
       "    </tr>\n",
       "    <tr>\n",
       "      <th>1</th>\n",
       "      <td>Call</td>\n",
       "      <td>12996.89</td>\n",
       "      <td>0.255157</td>\n",
       "      <td>Call</td>\n",
       "    </tr>\n",
       "    <tr>\n",
       "      <th>2</th>\n",
       "      <td>Put</td>\n",
       "      <td>11108.45</td>\n",
       "      <td>0.281316</td>\n",
       "      <td>Put</td>\n",
       "    </tr>\n",
       "    <tr>\n",
       "      <th>3</th>\n",
       "      <td>Dp</td>\n",
       "      <td>8886.76</td>\n",
       "      <td>0.292491</td>\n",
       "      <td>Dp</td>\n",
       "    </tr>\n",
       "    <tr>\n",
       "      <th>4</th>\n",
       "      <td>Put</td>\n",
       "      <td>8886.76</td>\n",
       "      <td>0.292491</td>\n",
       "      <td>Put</td>\n",
       "    </tr>\n",
       "  </tbody>\n",
       "</table>\n",
       "</div>"
      ],
      "text/plain": [
       "      O         K     sigma     V\n",
       "0   Put  12996.89  0.255157   Put\n",
       "1  Call  12996.89  0.255157  Call\n",
       "2   Put  11108.45  0.281316   Put\n",
       "3    Dp   8886.76  0.292491    Dp\n",
       "4   Put   8886.76  0.292491   Put"
      ]
     },
     "execution_count": 102,
     "metadata": {},
     "output_type": "execute_result"
    }
   ],
   "source": [
    "df.assign(V = lambda df: df.O)"
   ]
  },
  {
   "cell_type": "markdown",
   "id": "4b3230d2",
   "metadata": {},
   "source": [
    "**as I find from above that the function is calling df.O properly, but when I use it in the formula, it is only considering Call for all the rows**"
   ]
  }
 ],
 "metadata": {
  "kernelspec": {
   "display_name": "Python 3 (ipykernel)",
   "language": "python",
   "name": "python3"
  },
  "language_info": {
   "codemirror_mode": {
    "name": "ipython",
    "version": 3
   },
   "file_extension": ".py",
   "mimetype": "text/x-python",
   "name": "python",
   "nbconvert_exporter": "python",
   "pygments_lexer": "ipython3",
   "version": "3.9.12"
  }
 },
 "nbformat": 4,
 "nbformat_minor": 5
}
