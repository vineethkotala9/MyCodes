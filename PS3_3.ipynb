{
 "cells": [
  {
   "cell_type": "markdown",
   "metadata": {},
   "source": [
    "# FIN 514 - Lecture 3 Python Codes\n",
    "**Spring 2022**\n",
    "\n",
    "This notebook provides the values for European options, American options and the callable notes from Lecture 3\n",
    "\n",
    "## Packages and Configurations\n",
    "\n",
    "The following common packages will be use on this notebook.\n",
    "\n",
    "* numpy - [https://numpy.org/](https://numpy.org/)\n",
    "* Pandas - [https://pandas.pydata.org/](https://pandas.pydata.org/)\n",
    "* matplotlib - [https://matplotlib.org/](https://matplotlib.org/)\n",
    "* Scipy Statistical functions - [https://docs.scipy.org/doc/scipy/reference/stats.html](https://docs.scipy.org/doc/scipy/reference/stats.html)\n"
   ]
  },
  {
   "cell_type": "code",
   "execution_count": 3,
   "metadata": {},
   "outputs": [],
   "source": [
    "import numpy as np\n",
    "import pandas as pd\n",
    "import scipy.stats as st\n",
    "import matplotlib.pyplot as plt"
   ]
  },
  {
   "cell_type": "markdown",
   "metadata": {},
   "source": []
  },
  {
   "cell_type": "markdown",
   "metadata": {},
   "source": [
    "\n"
   ]
  },
  {
   "cell_type": "markdown",
   "metadata": {},
   "source": []
  },
  {
   "cell_type": "code",
   "execution_count": 1,
   "metadata": {},
   "outputs": [],
   "source": [
    "# ENTER INPUT FOR: start_step\n",
    "N = 100"
   ]
  },
  {
   "cell_type": "code",
   "execution_count": 43,
   "metadata": {},
   "outputs": [],
   "source": [
    "# ENTER INPUT FOR: S0 = Original Stock Price\n",
    "S0 = 227.29\n",
    "# ENTER INPUT FOR: K = Excercise Price of Call Option\n",
    "K = 193.20\n",
    "# ENTER INPUT FOR: sigma = Annualized (Future) Volatility of Stock Price Returns\n",
    "sigma = 0.3573\n",
    "# ENTER INPUT FOR: r = Annualized Continously Compounded Risk-free Rate\n",
    "r = 0.048\n",
    "# ENTER INPUT FOR: T = Time Length of Option in which to Exercise (In Years)\n",
    "T = 1\n",
    "# ENTER INPUT FOR: D = proportional dividend\n",
    "D = 0.0219\n",
    "# ENTER INPUT FOR: ND = number of dividends and TD = array of dividend dates\n",
    "ND = 4\n",
    "TD = np.zeros([ND]) #creates an array with 4 entries\n",
    "TD = [1/12, 4/12, 7/12, 10/12]\n",
    "Tac = [3/12, 6/12, 9/12]"
   ]
  },
  {
   "cell_type": "code",
   "execution_count": 42,
   "metadata": {},
   "outputs": [
    {
     "data": {
      "text/plain": [
       "[0.25, 0.5, 0.75]"
      ]
     },
     "execution_count": 42,
     "metadata": {},
     "output_type": "execute_result"
    }
   ],
   "source": [
    "Tac"
   ]
  },
  {
   "cell_type": "markdown",
   "metadata": {},
   "source": [
    "## Stock value tree"
   ]
  },
  {
   "cell_type": "code",
   "execution_count": 44,
   "metadata": {},
   "outputs": [],
   "source": [
    "def Stock_tree(N, S0, sigma, r, T, D, TD):\n",
    "    \n",
    "    stock_value = np.zeros([N+1, N+1])    \n",
    "    \n",
    "    delta = T / N\n",
    "    u = np.exp(r*delta + sigma * (delta)**0.5)\n",
    "    d = np.exp(r*delta - sigma * (delta)**0.5)\n",
    "    print(\"u = \", u, \"d=\", d)\n",
    "\n",
    "    # FIRST LET'S BUILD A STOCK PRICE TREE WITH DIVIDENDS  \n",
    "    # Let's have dividends at grid points rather than times\n",
    "    jD1 = [i/delta for i in TD]\n",
    "    jD = [np.ceil(i) for i in jD1]\n",
    "    print(jD)\n",
    "    \n",
    "    stock_value[0,0] = S0\n",
    "    for j in range (1,N+1):\n",
    "        stock_value[j, 0] = stock_value[j-1, 0]*d \n",
    "        for i in range(1, j+1):    \n",
    "            stock_value[j, i] = stock_value[j-1, i-1]*u      \n",
    "\n",
    "    # This adjusts all stock prices for that j by the size of the dividend    \n",
    "        if j in jD: stock_value[j, :] *= (1-D)\n",
    "    print(stock_value[3,0], stock_value[50,0], stock_value[50,50], stock_value[100,0], stock_value[100,100])        \n",
    "    return stock_value"
   ]
  },
  {
   "cell_type": "code",
   "execution_count": 45,
   "metadata": {},
   "outputs": [
    {
     "name": "stdout",
     "output_type": "stream",
     "text": [
      "u =  1.0368735670785485 d= 0.9653640450761569\n",
      "[9.0, 34.0, 59.0, 84.0]\n",
      "204.48134220721911 37.31666485389899 1329.3428558939984 6.126681665793567 7774.879794607821\n"
     ]
    },
    {
     "data": {
      "text/plain": [
       "array([[2.27290000e+02, 0.00000000e+00, 0.00000000e+00, ...,\n",
       "        0.00000000e+00, 0.00000000e+00, 0.00000000e+00],\n",
       "       [2.19417594e+02, 2.35670993e+02, 0.00000000e+00, ...,\n",
       "        0.00000000e+00, 0.00000000e+00, 0.00000000e+00],\n",
       "       [2.11817856e+02, 2.27508303e+02, 2.44361023e+02, ...,\n",
       "        0.00000000e+00, 0.00000000e+00, 0.00000000e+00],\n",
       "       ...,\n",
       "       [6.57420249e+00, 7.06118777e+00, 7.58424657e+00, ...,\n",
       "        7.23172790e+03, 0.00000000e+00, 0.00000000e+00],\n",
       "       [6.34649871e+00, 6.81661679e+00, 7.32155895e+00, ...,\n",
       "        6.98125010e+03, 7.49838750e+03, 0.00000000e+00],\n",
       "       [6.12668167e+00, 6.58051675e+00, 7.06796976e+00, ...,\n",
       "        6.73944783e+03, 7.23867369e+03, 7.77487979e+03]])"
      ]
     },
     "execution_count": 45,
     "metadata": {},
     "output_type": "execute_result"
    }
   ],
   "source": [
    "stock = Stock_tree(N, S0, sigma, r, T, D, TD)\n",
    "stock"
   ]
  },
  {
   "cell_type": "code",
   "execution_count": 46,
   "metadata": {},
   "outputs": [],
   "source": [
    "#Coupon dates\n",
    "Cpn = 0.1185\n",
    "NC = 12\n",
    "TC = list(np.linspace(1/NC, 1, NC))\n",
    "Face = 1000"
   ]
  },
  {
   "cell_type": "code",
   "execution_count": 97,
   "metadata": {},
   "outputs": [],
   "source": [
    "\n",
    "def ac_option(S0, Face, K, T, r, sigma, N, stock_value, Cpn, NC, TC, Tac):\n",
    "    \n",
    "     # LIST TO SAVE RESULTS\n",
    "    convertible_result = []\n",
    "        \n",
    "    # CREATE TWO DIMENSIONAL ARRAY OF SIZE [N+1,N+1] TO STORE ALL STEPS\n",
    "    # option_value[N+1, N+1]\n",
    "    option_value = np.zeros([N+1, N+1])\n",
    "    \n",
    "    Deltat = T / N\n",
    "    u = np.exp(r*Deltat+sigma * (Deltat)**0.5)\n",
    "    d = np.exp(r*Deltat-sigma * (Deltat)**0.5)\n",
    "    q = (np.exp(r * Deltat) - d) / (u - d)\n",
    "\n",
    "    #First, let's calculate the coupon dates and accrued interest\n",
    "\n",
    "    #jC1 are the exact values of j where the coupons are paid\n",
    "    #jC are the values of j where we first factor in the coupons - \n",
    "    #where int will give us the j immediately before or on the coupon/call date\n",
    "    jc1 = [j/Deltat for j in TC]\n",
    "    jc = [int(j) for j in jc1]\n",
    "    #jcall = int(tcall/Deltat)\n",
    "    #print(\"call period starts\", jcall)\n",
    "    \n",
    "    jac1 = [j/Deltat for j in Tac]\n",
    "    jac = [int(j) for j in jac1]\n",
    "\n",
    "    \n",
    "    j = N\n",
    "    \n",
    "    for i in range(0, j+1):\n",
    "        if stock_value[j,i] >= K:\n",
    "            option_value[j,i] = Face*(1+Cpn/NC)\n",
    "        else:\n",
    "            option_value[j,i] = Face/K*stock_value[j,i] + Face*(Cpn/NC)\n",
    "    \n",
    "                             \n",
    "    for j in range(N-1, -1, -1):\n",
    "        \n",
    "        if j in jac: \n",
    "            next_ac_date = Tac[jac.index(j)]\n",
    "            prev_ac_date = Tac[jac.index(j)-1] \n",
    "            print(\"auto call date\",j,jac.index(j),next_ac_date,prev_ac_date) \n",
    "        \n",
    "            ndt = Tac[jac.index(j)]-Deltat*j\n",
    "       \n",
    "        \n",
    "        for i in range(0, j+1):\n",
    "            cont = np.exp(-r * Deltat) * (q * option_value[j + 1, i + 1] + (1-q) * option_value[j + 1, i])\n",
    "            if j in jc:\n",
    "                cont = cont + Face*Cpn/NC*np.exp(-r*(TC[jc.index(j)]-Deltat*j))\n",
    "\n",
    "            option_value[j, i] = cont\n",
    "            \n",
    "\n",
    "            if j in jac:\n",
    "                if stock_value[j,i]>= S0:\n",
    "                    option_value[j, i] = Face*(1+Cpn/NC)\n",
    "                    \n",
    "                elif stock_value[j,i] * np.exp(r*ndt + sigma * (ndt)**0.5) >= S0:\n",
    "                    option_value[j, i] = Face*(1+Cpn/NC) * np.exp(-r*ndt)\n",
    "                    print(option_value[j,i])\n",
    "\n",
    "\n",
    "    output = {'num_steps': N, 'Value': option_value[0,0]}\n",
    "    convertible_result.append(output)\n",
    "\n",
    "    return convertible_result\n",
    "\n",
    "\n"
   ]
  },
  {
   "cell_type": "code",
   "execution_count": 99,
   "metadata": {},
   "outputs": [
    {
     "name": "stdout",
     "output_type": "stream",
     "text": [
      "auto call date 75 2 0.75 0.5\n",
      "auto call date 50 1 0.5 0.25\n",
      "auto call date 25 0 0.25 0.75\n"
     ]
    },
    {
     "data": {
      "text/plain": [
       "[{'num_steps': 100, 'Value': 972.9871806870709}]"
      ]
     },
     "execution_count": 99,
     "metadata": {},
     "output_type": "execute_result"
    }
   ],
   "source": [
    "value = ac_option(S0, Face, K, T, r, sigma, N, stock, Cpn, NC, TC, Tac)\n",
    "value"
   ]
  },
  {
   "cell_type": "markdown",
   "metadata": {},
   "source": [
    "# Problem 2"
   ]
  },
  {
   "cell_type": "code",
   "execution_count": 230,
   "metadata": {},
   "outputs": [],
   "source": [
    "# ENTER INPUT FOR: S0 = Original Stock Price\n",
    "S0 = 100\n",
    "# ENTER INPUT FOR: K = Excercise Price of Call Option\n",
    "K = 105\n",
    "# ENTER INPUT FOR: sigma = Annualized (Future) Volatility of Stock Price Returns\n",
    "sigma = 0.3\n",
    "# ENTER INPUT FOR: r = Annualized Continously Compounded Risk-free Rate\n",
    "r = 0.04\n",
    "# ENTER INPUT FOR: T = Time Length of Option in which to Exercise (In Years)\n",
    "T = 0.5\n",
    "# ENTER INPUT FOR: D = proportional dividend\n",
    "D = 0.0\n",
    "# ENTER INPUT FOR: ND = number of dividends and TD = array of dividend dates\n",
    "ND = 0\n",
    "TD = np.zeros([ND]) #creates an array with 4 entries"
   ]
  },
  {
   "cell_type": "markdown",
   "metadata": {},
   "source": [
    "# •\tCox, Ross and Rubinstein"
   ]
  },
  {
   "cell_type": "code",
   "execution_count": 246,
   "metadata": {},
   "outputs": [],
   "source": [
    "def crr_European(S0, K, T, r, sigma, N, D, TD):\n",
    "    \n",
    "    # LIST TO SAVE RESULTS\n",
    "    Euro_result = []\n",
    "        \n",
    "    # CREATE TWO DIMENSIONAL ARRAY OF SIZE [N+1,N+1] TO STORE ALL STEPS\n",
    "    # option_value[N+1, N+1]\n",
    "    stock_value = np.zeros ([N+1, N+1])\n",
    "    option_value = np.zeros([N+1, N+1])\n",
    "    \n",
    "    # FOR LOOP STATEMENT: For a Binomial Tree from start_step to N\n",
    "    \n",
    "    Deltat = T / N\n",
    "    u = np.exp(sigma*(Deltat)**0.5)\n",
    "    d = np.exp(-sigma*(Deltat)**0.5)\n",
    "    q = (np.exp(r * Deltat) - d) / (u - d)\n",
    "    #print(\"u: \", u, \"d: \", d)\n",
    "    \n",
    "    ######################################################################################################################\n",
    "    \n",
    "    #STOCK TREE\n",
    "    \n",
    "    jD1 = [i/Deltat for i in TD]\n",
    "    jD = [np.ceil(i) for i in jD1]\n",
    "    \n",
    "    \n",
    "    stock_value[0,0] = S0\n",
    "    for j in range (1,N+1):\n",
    "        stock_value[j, 0] = stock_value[j-1, 0]*d \n",
    "        for i in range(1, j+1):    \n",
    "            stock_value[j, i] = stock_value[j-1, i-1]*u      \n",
    "\n",
    "    # This adjusts all stock prices for that j by the size of the dividend    \n",
    "        if j in jD: stock_value[j, :] *= (1-D)\n",
    "    #######################################################################################################################        \n",
    "        \n",
    "    # Start at the last step number because we are going to be moving backwards from step number n to step number 0\n",
    "    j = N \n",
    "    for i in range(0, j+1):    \n",
    "    # Then, calculate the value of the option at that exact position within the binomial tree\n",
    " \n",
    "        option_value[j, i] = np.maximum(K - stock_value[j, i], 0)\n",
    "    \n",
    "    # Now, lets calculate the option value at each position (i) within the binomial tree at each previous step number (j) until time zero\n",
    "    for j in range(N-1, -1, -1):\n",
    "\n",
    "    # Then, create a FOR iteration on the position number (i), from the top position all the way down to the bottom position of 0 (all down jumps)\n",
    "        for i in range(j, -1, -1):\n",
    "            \n",
    "    # Now, calculation the continuation value of the option at that specific position and step number           \n",
    "            cv = np.exp(-r * Deltat) * (q*option_value[j+1,i+1] + (1-q)* option_value[j+1,i])\n",
    "            option_value[j, i] = cv\n",
    "    # RELAY OUTPUTS TO DICTIONARY\n",
    "    output = option_value[0,0]\n",
    "    Euro_result.append(output)\n",
    "    \n",
    "\n",
    "    return Euro_result, option_value\n"
   ]
  },
  {
   "cell_type": "markdown",
   "metadata": {},
   "source": [
    "# •\tRendleman and Bartter"
   ]
  },
  {
   "cell_type": "code",
   "execution_count": null,
   "metadata": {},
   "outputs": [],
   "source": []
  },
  {
   "cell_type": "code",
   "execution_count": 247,
   "metadata": {},
   "outputs": [],
   "source": [
    "def rb_European(S0, K, T, r, sigma, N, D, TD):\n",
    "    \n",
    "    # LIST TO SAVE RESULTS\n",
    "    Euro_result = []\n",
    "        \n",
    "    # CREATE TWO DIMENSIONAL ARRAY OF SIZE [N+1,N+1] TO STORE ALL STEPS\n",
    "    # option_value[N+1, N+1]\n",
    "    stock_value = np.zeros ([N+1, N+1])\n",
    "    option_value = np.zeros([N+1, N+1])\n",
    "    \n",
    "    # FOR LOOP STATEMENT: For a Binomial Tree from start_step to N\n",
    "    \n",
    "    Deltat = T / N\n",
    "    u = np.exp((r-D-0.5*sigma**2)*Deltat + sigma*(Deltat)**0.5)\n",
    "    d = np.exp((r-D-0.5*sigma**2)*Deltat - sigma*(Deltat)**0.5)\n",
    "    q = (np.exp(r * Deltat) - d) / (u - d)\n",
    "    #print(\"u: \", u, \"d: \", d)\n",
    "    \n",
    "    ######################################################################################################################\n",
    "    \n",
    "    #STOCK TREE\n",
    "    \n",
    "    jD1 = [i/Deltat for i in TD]\n",
    "    jD = [np.ceil(i) for i in jD1]\n",
    "    \n",
    "    \n",
    "    stock_value[0,0] = S0\n",
    "    for j in range (1,N+1):\n",
    "        stock_value[j, 0] = stock_value[j-1, 0]*d \n",
    "        for i in range(1, j+1):    \n",
    "            stock_value[j, i] = stock_value[j-1, i-1]*u      \n",
    "\n",
    "    # This adjusts all stock prices for that j by the size of the dividend    \n",
    "        if j in jD: stock_value[j, :] *= (1-D)\n",
    "    #######################################################################################################################        \n",
    "        \n",
    "    # Start at the last step number because we are going to be moving backwards from step number n to step number 0\n",
    "    j = N \n",
    "    for i in range(0, j+1):    \n",
    "    # Then, calculate the value of the option at that exact position within the binomial tree\n",
    " \n",
    "        option_value[j, i] = np.maximum(K - stock_value[j, i], 0)\n",
    "    \n",
    "    # Now, lets calculate the option value at each position (i) within the binomial tree at each previous step number (j) until time zero\n",
    "    for j in range(N-1, -1, -1):\n",
    "\n",
    "    # Then, create a FOR iteration on the position number (i), from the top position all the way down to the bottom position of 0 (all down jumps)\n",
    "        for i in range(j, -1, -1):\n",
    "            \n",
    "    # Now, calculation the continuation value of the option at that specific position and step number           \n",
    "            cv = np.exp(-r * Deltat) * (q*option_value[j+1,i+1] + (1-q)* option_value[j+1,i])\n",
    "            option_value[j, i] = cv\n",
    "    # RELAY OUTPUTS TO DICTIONARY\n",
    "    output = option_value[0,0]\n",
    "    Euro_result.append(output)\n",
    "    \n",
    "\n",
    "    return Euro_result, option_value\n"
   ]
  },
  {
   "cell_type": "markdown",
   "metadata": {},
   "source": [
    "# •\tLeisen and Reimer"
   ]
  },
  {
   "cell_type": "code",
   "execution_count": null,
   "metadata": {},
   "outputs": [],
   "source": []
  },
  {
   "cell_type": "code",
   "execution_count": 248,
   "metadata": {},
   "outputs": [],
   "source": [
    "def lr_European(S0, K, T, r, sigma, N, D, TD):\n",
    "    \n",
    "    # LIST TO SAVE RESULTS\n",
    "    Euro_result = []\n",
    "        \n",
    "    # CREATE TWO DIMENSIONAL ARRAY OF SIZE [N+1,N+1] TO STORE ALL STEPS\n",
    "    # option_value[N+1, N+1]\n",
    "    stock_value = np.zeros ([N+1, N+1])\n",
    "    option_value = np.zeros([N+1, N+1])\n",
    "    \n",
    "    # FOR LOOP STATEMENT: For a Binomial Tree from start_step to N\n",
    "    \n",
    "    Deltat = T / N\n",
    "    \n",
    "    def hf(x,N):\n",
    "        return 0.5 + np.sign(x) * np.sqrt(0.25 - (0.25 * np.exp(-(x/(N+1/3))**2 * (N + 1/6))))\n",
    "\n",
    "    \n",
    "    d1 = (np.log(S0/K) + (r-D+0.5*sigma**2)*Deltat)/(sigma*Deltat**0.5)\n",
    "    d2 = (np.log(S0/K) + (r-D-0.5*sigma**2)*Deltat)/(sigma*Deltat**0.5)\n",
    "    \n",
    "    u = np.exp((r-D)*Deltat) * hf(d1,N)/hf(d2,N)\n",
    "               \n",
    "               \n",
    "    d = (np.exp((r-D)*Deltat) - hf(d2,N)*u)/(1-hf(d2,N))\n",
    "    \n",
    "\n",
    "         \n",
    "    q = (np.exp(r * Deltat) - d) / (u - d)\n",
    "    #print(\"u: \", u, \"d: \", d)\n",
    "    \n",
    "    ######################################################################################################################\n",
    "    \n",
    "    #STOCK TREE\n",
    "    \n",
    "    jD1 = [i/Deltat for i in TD]\n",
    "    jD = [np.ceil(i) for i in jD1]\n",
    "    #print(\"Dividend points\", jD)\n",
    "    \n",
    "    stock_value[0,0] = S0\n",
    "    for j in range (1,N+1):\n",
    "        stock_value[j, 0] = stock_value[j-1, 0]*d \n",
    "        for i in range(1, j+1):    \n",
    "            stock_value[j, i] = stock_value[j-1, i-1]*u      \n",
    "\n",
    "    # This adjusts all stock prices for that j by the size of the dividend    \n",
    "        if j in jD: stock_value[j, :] *= (1-D)\n",
    "    #######################################################################################################################        \n",
    "        \n",
    "    # Start at the last step number because we are going to be moving backwards from step number n to step number 0\n",
    "    j = N \n",
    "    for i in range(0, j+1):    \n",
    "    # Then, calculate the value of the option at that exact position within the binomial tree\n",
    " \n",
    "        option_value[j, i] = np.maximum(K - stock_value[j, i], 0)\n",
    "    \n",
    "    # Now, lets calculate the option value at each position (i) within the binomial tree at each previous step number (j) until time zero\n",
    "    for j in range(N-1, -1, -1):\n",
    "\n",
    "    # Then, create a FOR iteration on the position number (i), from the top position all the way down to the bottom position of 0 (all down jumps)\n",
    "        for i in range(j, -1, -1):\n",
    "            \n",
    "    # Now, calculation the continuation value of the option at that specific position and step number           \n",
    "            cv = np.exp(-r * Deltat) * (q*option_value[j+1,i+1] + (1-q)* option_value[j+1,i])\n",
    "            option_value[j, i] = cv\n",
    "    # RELAY OUTPUTS TO DICTIONARY\n",
    "    output = option_value[0,0]\n",
    "    Euro_result.append(output)\n",
    "    #print(Euro_result)\n",
    "\n",
    "    return Euro_result, option_value\n"
   ]
  },
  {
   "cell_type": "markdown",
   "metadata": {},
   "source": [
    "# Performance"
   ]
  },
  {
   "cell_type": "code",
   "execution_count": null,
   "metadata": {},
   "outputs": [],
   "source": [
    "\n"
   ]
  },
  {
   "cell_type": "code",
   "execution_count": 244,
   "metadata": {},
   "outputs": [
    {
     "name": "stdout",
     "output_type": "stream",
     "text": [
      "u:  1.0174713778641205 d:  0.9828286296359545\n",
      "u:  1.0174544201491376 d:  0.9828122492952971\n",
      "u:  1.0018888253229683 d:  0.9990266985050614\n",
      "crr_arr: \n",
      " [10.12180064] \n",
      " \n",
      "rb_arr:  \n",
      " [10.12263718] \n",
      " \n",
      "lr_arr:  \n",
      " [2.95496845]\n"
     ]
    }
   ],
   "source": [
    "y = 1\n",
    "crr_arr = np.zeros(y)\n",
    "rb_arr = np.zeros(y)\n",
    "lr_arr = np.zeros(y)\n",
    "x = 150\n",
    "\n",
    "for i in range(x, x+1):\n",
    "    \n",
    "    crr_arr[i-x] = crr_European(S0, K, T, r, sigma, i, D, TD)[0][0]\n",
    "    rb_arr[i-x] = rb_European(S0, K, T, r, sigma, i, D, TD)[0][0]\n",
    "    lr_arr[i-x] = lr_European(S0, K, T, r, sigma, i, D, TD)[0][0]\n",
    "    \n",
    "print(\"crr_arr:\", \"\\n\", crr_arr,\"\\n\", \"\\n\"\n",
    "      \"rb_arr: \",\"\\n\", rb_arr, \"\\n\", \"\\n\"\n",
    "      \"lr_arr: \", \"\\n\", lr_arr)\n"
   ]
  },
  {
   "cell_type": "code",
   "execution_count": 250,
   "metadata": {},
   "outputs": [],
   "source": [
    "def bsf(O, S, K, r, sigma, q, T, disFac):\n",
    "    \n",
    "    O = str(O)\n",
    "    \n",
    "    d1 = (np.log(S/K) + (r - q + (0.5 * sigma**2)) * T) / (sigma * np.sqrt(T))\n",
    "    d2 = (np.log(S/K) + (r - q - (0.5 * sigma**2)) * T) / (sigma * np.sqrt(T))\n",
    "    \n",
    "    if \"Call\" in O:\n",
    "        result = disFac * (S * np.exp((r - q)*T) * ss.norm.cdf(d1, 0,1) - K * ss.norm.cdf(d2, 0, 1))\n",
    "    elif \"Put\" in O:\n",
    "        result = disFac * (K * ss.norm.cdf(-d2, 0, 1) - S * np.exp((r - q)*T) * ss.norm.cdf(-d1, 0,1))\n",
    "    elif \"Dp\" in O:\n",
    "        result = disFac * (ss.norm.cdf(-d2, 0, 1))\n",
    "    else:\n",
    "        result = disFac * (-ss.norm.cdf(d2, 0, 1))\n",
    "    \n",
    "        \n",
    "    return result"
   ]
  },
  {
   "cell_type": "code",
   "execution_count": 254,
   "metadata": {},
   "outputs": [],
   "source": [
    "import scipy.stats as ss"
   ]
  },
  {
   "cell_type": "code",
   "execution_count": null,
   "metadata": {},
   "outputs": [],
   "source": []
  },
  {
   "cell_type": "code",
   "execution_count": 257,
   "metadata": {},
   "outputs": [
    {
     "data": {
      "text/plain": [
       "10.10930334495747"
      ]
     },
     "execution_count": 257,
     "metadata": {},
     "output_type": "execute_result"
    }
   ],
   "source": [
    "disFac = np.exp(-r*T)\n",
    "\n",
    "bsm = bsf(\"Put\", S0, K, r, sigma, 0, T, disFac)\n",
    "bsm"
   ]
  },
  {
   "cell_type": "code",
   "execution_count": 312,
   "metadata": {},
   "outputs": [],
   "source": [
    "crr_arr = np.zeros(201)\n",
    "rb_arr = np.zeros(201)\n",
    "lr_arr = np.zeros(201)\n",
    "x = 50\n",
    "\n",
    "for i in range(x, 251):\n",
    "    \n",
    "    crr_arr[i-x] = crr_European(S0, K, T, r, sigma, i, D, TD)[0][0] - bsm\n",
    "    rb_arr[i-x] = rb_European(S0, K, T, r, sigma, i, D, TD)[0][0] - bsm\n",
    "    lr_arr[i-x] = lr_European(S0, K, T, r, sigma, i, D, TD)[0][0] - bsm\n",
    "    \n",
    "#print(\"crr_arr:\", \"\\n\", crr_arr,\"\\n\", \"\\n\",      \"rb_arr: \",\"\\n\", rb_arr, \"\\n\", \"\\n\",      \"lr_arr: \", \"\\n\", lr_arr)"
   ]
  },
  {
   "cell_type": "code",
   "execution_count": 321,
   "metadata": {},
   "outputs": [],
   "source": [
    "x = [251, 451, 651, 851, 1001]"
   ]
  },
  {
   "cell_type": "code",
   "execution_count": 325,
   "metadata": {},
   "outputs": [],
   "source": [
    "crr_arr2 = np.zeros(201)\n",
    "rb_arr2 = np.zeros(201)\n",
    "lr_arr2 = np.zeros(201)\n",
    "x = 251\n",
    "\n",
    "for i in range(x, 451):\n",
    "    \n",
    "    crr_arr2[i-x] = crr_European(S0, K, T, r, sigma, i, D, TD)[0][0] - bsm\n",
    "    rb_arr2[i-x] = rb_European(S0, K, T, r, sigma, i, D, TD)[0][0] - bsm\n",
    "    lr_arr2[i-x] = lr_European(S0, K, T, r, sigma, i, D, TD)[0][0] - bsm"
   ]
  },
  {
   "cell_type": "code",
   "execution_count": 326,
   "metadata": {},
   "outputs": [],
   "source": [
    "crr_arr3 = np.zeros(200)\n",
    "rb_arr3 = np.zeros(200)\n",
    "lr_arr3 = np.zeros(200)\n",
    "x = 451\n",
    "\n",
    "for i in range(x, 651):\n",
    "    \n",
    "    crr_arr3[i-x] = crr_European(S0, K, T, r, sigma, i, D, TD)[0][0] - bsm\n",
    "    rb_arr3[i-x] = rb_European(S0, K, T, r, sigma, i, D, TD)[0][0] - bsm\n",
    "    lr_arr3[i-x] = lr_European(S0, K, T, r, sigma, i, D, TD)[0][0] - bsm"
   ]
  },
  {
   "cell_type": "code",
   "execution_count": 327,
   "metadata": {},
   "outputs": [],
   "source": [
    "crr_arr4 = np.zeros(200)\n",
    "rb_arr4 = np.zeros(200)\n",
    "lr_arr4 = np.zeros(200)\n",
    "x = 651\n",
    "\n",
    "for i in range(x, 851):\n",
    "    \n",
    "    crr_arr4[i-x] = crr_European(S0, K, T, r, sigma, i, D, TD)[0][0] - bsm\n",
    "    rb_arr4[i-x] = rb_European(S0, K, T, r, sigma, i, D, TD)[0][0] - bsm\n",
    "    lr_arr4[i-x] = lr_European(S0, K, T, r, sigma, i, D, TD)[0][0] - bsm"
   ]
  },
  {
   "cell_type": "code",
   "execution_count": null,
   "metadata": {},
   "outputs": [],
   "source": [
    "crr_arr5 = np.zeros(200)\n",
    "rb_arr5 = np.zeros(200)\n",
    "lr_arr5 = np.zeros(200)\n",
    "x = 851\n",
    "\n",
    "for i in range(x, 1001):\n",
    "    \n",
    "    crr_arr5[i-x] = crr_European(S0, K, T, r, sigma, i, D, TD)[0][0] - bsm\n",
    "    rb_arr5[i-x] = rb_European(S0, K, T, r, sigma, i, D, TD)[0][0] - bsm\n",
    "    lr_arr5[i-x] = lr_European(S0, K, T, r, sigma, i, D, TD)[0][0] - bsm"
   ]
  },
  {
   "cell_type": "code",
   "execution_count": 362,
   "metadata": {},
   "outputs": [],
   "source": [
    "crr_ar = np.concatenate((crr_arr,  cr2, crr_arr3, crr_arr4))\n",
    "rb_ar = np.concatenate((rb_arr,  rb2, rb_arr3, rb_arr4))\n",
    "lr_ar = np.concatenate((lr_arr,  lr2, lr_arr3, lr_arr4))"
   ]
  },
  {
   "cell_type": "code",
   "execution_count": 348,
   "metadata": {},
   "outputs": [],
   "source": [
    "cr2 = crr_arr2 \n",
    "rb2 = rb_arr2\n",
    "lr2 = lr_arr2"
   ]
  },
  {
   "cell_type": "code",
   "execution_count": 361,
   "metadata": {},
   "outputs": [],
   "source": [
    "cr2 = cr2[:-1]\n",
    "rb2 = rb2[:-1]\n",
    "lr2 = lr2[:-1]"
   ]
  },
  {
   "cell_type": "code",
   "execution_count": 364,
   "metadata": {},
   "outputs": [
    {
     "data": {
      "text/html": [
       "<div>\n",
       "<style scoped>\n",
       "    .dataframe tbody tr th:only-of-type {\n",
       "        vertical-align: middle;\n",
       "    }\n",
       "\n",
       "    .dataframe tbody tr th {\n",
       "        vertical-align: top;\n",
       "    }\n",
       "\n",
       "    .dataframe thead th {\n",
       "        text-align: right;\n",
       "    }\n",
       "</style>\n",
       "<table border=\"1\" class=\"dataframe\">\n",
       "  <thead>\n",
       "    <tr style=\"text-align: right;\">\n",
       "      <th></th>\n",
       "      <th>N</th>\n",
       "      <th>CRR</th>\n",
       "      <th>R&amp;B</th>\n",
       "      <th>L&amp;R</th>\n",
       "    </tr>\n",
       "  </thead>\n",
       "  <tbody>\n",
       "    <tr>\n",
       "      <th>0</th>\n",
       "      <td>50</td>\n",
       "      <td>0.007624</td>\n",
       "      <td>-0.002123</td>\n",
       "      <td>-6.919757</td>\n",
       "    </tr>\n",
       "    <tr>\n",
       "      <th>1</th>\n",
       "      <td>51</td>\n",
       "      <td>0.028756</td>\n",
       "      <td>0.032954</td>\n",
       "      <td>-6.927965</td>\n",
       "    </tr>\n",
       "    <tr>\n",
       "      <th>2</th>\n",
       "      <td>52</td>\n",
       "      <td>0.003946</td>\n",
       "      <td>-0.006070</td>\n",
       "      <td>-6.933158</td>\n",
       "    </tr>\n",
       "    <tr>\n",
       "      <th>3</th>\n",
       "      <td>53</td>\n",
       "      <td>0.029440</td>\n",
       "      <td>0.033117</td>\n",
       "      <td>-6.943487</td>\n",
       "    </tr>\n",
       "    <tr>\n",
       "      <th>4</th>\n",
       "      <td>54</td>\n",
       "      <td>0.000443</td>\n",
       "      <td>-0.009828</td>\n",
       "      <td>-6.946154</td>\n",
       "    </tr>\n",
       "    <tr>\n",
       "      <th>...</th>\n",
       "      <td>...</td>\n",
       "      <td>...</td>\n",
       "      <td>...</td>\n",
       "      <td>...</td>\n",
       "    </tr>\n",
       "    <tr>\n",
       "      <th>796</th>\n",
       "      <td>846</td>\n",
       "      <td>0.001903</td>\n",
       "      <td>0.002366</td>\n",
       "      <td>-7.188437</td>\n",
       "    </tr>\n",
       "    <tr>\n",
       "      <th>797</th>\n",
       "      <td>847</td>\n",
       "      <td>-0.000012</td>\n",
       "      <td>-0.002267</td>\n",
       "      <td>-7.188437</td>\n",
       "    </tr>\n",
       "    <tr>\n",
       "      <th>798</th>\n",
       "      <td>848</td>\n",
       "      <td>0.001922</td>\n",
       "      <td>0.002358</td>\n",
       "      <td>-7.188437</td>\n",
       "    </tr>\n",
       "    <tr>\n",
       "      <th>799</th>\n",
       "      <td>849</td>\n",
       "      <td>-0.000067</td>\n",
       "      <td>-0.002182</td>\n",
       "      <td>-7.188437</td>\n",
       "    </tr>\n",
       "    <tr>\n",
       "      <th>800</th>\n",
       "      <td>850</td>\n",
       "      <td>0.001941</td>\n",
       "      <td>0.002349</td>\n",
       "      <td>-7.188437</td>\n",
       "    </tr>\n",
       "  </tbody>\n",
       "</table>\n",
       "<p>801 rows × 4 columns</p>\n",
       "</div>"
      ],
      "text/plain": [
       "       N       CRR       R&B       L&R\n",
       "0     50  0.007624 -0.002123 -6.919757\n",
       "1     51  0.028756  0.032954 -6.927965\n",
       "2     52  0.003946 -0.006070 -6.933158\n",
       "3     53  0.029440  0.033117 -6.943487\n",
       "4     54  0.000443 -0.009828 -6.946154\n",
       "..   ...       ...       ...       ...\n",
       "796  846  0.001903  0.002366 -7.188437\n",
       "797  847 -0.000012 -0.002267 -7.188437\n",
       "798  848  0.001922  0.002358 -7.188437\n",
       "799  849 -0.000067 -0.002182 -7.188437\n",
       "800  850  0.001941  0.002349 -7.188437\n",
       "\n",
       "[801 rows x 4 columns]"
      ]
     },
     "execution_count": 364,
     "metadata": {},
     "output_type": "execute_result"
    }
   ],
   "source": [
    "df = pd.DataFrame({\"N\": np.arange(50,851), \"CRR\": crr_ar, \"R&B\": rb_ar, \"L&R\": lr_ar})\n",
    "df"
   ]
  },
  {
   "cell_type": "code",
   "execution_count": 390,
   "metadata": {},
   "outputs": [
    {
     "data": {
      "image/png": "[encoded data removed]",
      "text/plain": [
       "<Figure size 1440x720 with 2 Axes>"
      ]
     },
     "metadata": {
      "needs_background": "light"
     },
     "output_type": "display_data"
    }
   ],
   "source": [
    "fig, ax1 = plt.subplots(figsize=(20,10))\n",
    "ax1.plot(df['N'], df[\"CRR\"],color=\"gray\",linestyle=\"-\",label=\"CRR\")\n",
    "ax1.plot(df['N'], df[\"R&B\"],color=\"brown\",linestyle=\"-\",label=\"CRR\")\n",
    "ax1.set_ylabel(\"error CRR R&B\")\n",
    "ax1.legend();\n",
    "\n",
    "\n",
    "\n",
    "ax2 = ax1.twinx()\n",
    "ax2.plot(df['N'], df[\"L&R\"], color =\"forestgreen\", linestyle = \"-.\", label =\"L&R\", linewidth =3)\n",
    "ax2.set_ylabel(\"error R&B\");\n"
   ]
  }
 ],
 "metadata": {
  "kernelspec": {
   "display_name": "Python 3 (ipykernel)",
   "language": "python",
   "name": "python3"
  },
  "language_info": {
   "codemirror_mode": {
    "name": "ipython",
    "version": 3
   },
   "file_extension": ".py",
   "mimetype": "text/x-python",
   "name": "python",
   "nbconvert_exporter": "python",
   "pygments_lexer": "ipython3",
   "version": "3.9.12"
  }
 },
 "nbformat": 4,
 "nbformat_minor": 4
}
