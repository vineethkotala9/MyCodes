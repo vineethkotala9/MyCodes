{
 "cells": [
  {
   "cell_type": "code",
   "execution_count": 2,
   "metadata": {
    "id": "7WJIBNxBB4pX"
   },
   "outputs": [],
   "source": [
    "import jax.numpy as jnp\n",
    "import jax\n",
    "from jax import random\n",
    "import matplotlib.pyplot as plt\n",
    "from jax import lax"
   ]
  },
  {
   "cell_type": "code",
   "execution_count": 12,
   "metadata": {
    "colab": {
     "base_uri": "https://localhost:8080/"
    },
    "id": "QwrAd9KHB2ob",
    "outputId": "7a709f67-41b0-4d06-f124-38c3614c7e92"
   },
   "outputs": [
    {
     "data": {
      "text/plain": [
       "DeviceArray(4.272576, dtype=float32)"
      ]
     },
     "execution_count": 12,
     "metadata": {},
     "output_type": "execute_result"
    }
   ],
   "source": [
    "Spot = 36   # stock price\n",
    "k = 12   # Polynmial order\n",
    "\n",
    "Spot = 36   # stock price\n",
    "σ = 0.2     # stock volatility\n",
    "K = 40      # strike price\n",
    "r = 0.06    # risk free rate\n",
    "n = 100000  # Number of simualted paths\n",
    "m = 50      # Number of exercise dates\n",
    "T = 1       # maturity\n",
    "order = 12   # Polynmial order\n",
    "dt = T / m\n",
    "\n",
    "S0 = jnp.ones((1,n))*Spot\n",
    "discount = jnp.exp(-r * dt)\n",
    "\n",
    "\n",
    "# Random price generation\n",
    "\n",
    "def Prices(S0,m):\n",
    "  dB = jnp.sqrt(dt) * jax.random.normal(key=random.PRNGKey(m), shape=(1,jnp.size(S0)))[0]\n",
    "  S0= S0 + r * S0 * dt + σ * S0 * dB\n",
    "  \n",
    "  return S0, S0\n",
    "SF, S_list = lax.scan(Prices, S0, jnp.arange(m))\n",
    "S= jnp.stack(S_list)[:,0]\n",
    "\n",
    "\n",
    "##################################################\n",
    "\n",
    "def payoff_put(S):\n",
    "    return jnp.maximum(K - S, 0.)\n",
    "\n",
    "##################################################\n",
    "\n",
    "# Scaling prices\n",
    "\n",
    "def scale(S0,m):\n",
    "  dB = jnp.sqrt(dt) * jax.random.normal(key=random.PRNGKey(m), shape=(1,jnp.size(S0)))[0]\n",
    "  S0= S0 + r * S0 * dt + σ * S0 * dB\n",
    "  xmin = S0.min(axis = 1)\n",
    "  xmax = S0.max(axis = 1)\n",
    "  a = 2 / (xmax - xmin)\n",
    "  b = 1 - a * xmax\n",
    "  c = a *S0 + b\n",
    "  return S0, c\n",
    "f, c = lax.scan(scale, S0, jnp.arange(m))\n",
    "Sc= jnp.stack(c)[:,0]\n",
    "\n",
    "###################################################\n",
    "\n",
    "B = jnp.array([jnp.ones(len(Sc[0])), Sc[0]])\n",
    "B0 = jnp.array(Sc[0])\n",
    "\n",
    "\n",
    "def payoff_put(S):\n",
    "    return jnp.maximum(K - S, 0.)\n",
    "\n",
    "\n",
    "\n",
    "###################################################\n",
    "\n",
    "def compute(S0,m):\n",
    "  dB = jnp.sqrt(dt) * jax.random.normal(key=random.PRNGKey(m), shape=(1,jnp.size(S0)))[0]\n",
    "  S0= S0 + r * S0 * dt + σ * S0 * dB\n",
    "  xmin = S0.min(axis = 1)\n",
    "  xmax = S0.max(axis = 1)\n",
    "  a = 2 / (xmax - xmin)\n",
    "  b = 1 - a * xmax\n",
    "  c = a *S0 + b\n",
    "  #######################################\n",
    "  def Che(B, k):\n",
    "    C1 = B[0]\n",
    "    C2 = B[1]\n",
    "    C3 = 2 * B0 * C2 - C1\n",
    "    \n",
    "    B = jnp.array([C2, C3])\n",
    "    return B, C3\n",
    "  f, H = lax.scan(Che, B, jnp.ones(k-2))\n",
    "  jnp.concatenate([B, H], axis=0)\n",
    "  #######################################\n",
    "  value_if_exercise = payoff_put(S[-1])\n",
    "  discounted_future_cashflows = value_if_exercise * discount\n",
    "  X = jnp.concatenate([B, H], axis=0).T\n",
    "  y = discounted_future_cashflows\n",
    "  Θ = jnp.linalg.solve(X.T @ X, X.T @ y)\n",
    "  Θ\n",
    "  \n",
    "  \n",
    "  value_if_wait = X @ Θ\n",
    "  \n",
    "  value_if_exercise = payoff_put(S[-2 - m])\n",
    "  exercise = value_if_exercise >= value_if_wait\n",
    "  discounted_future_cashflows = discount * jnp.where(\n",
    "              exercise,\n",
    "              value_if_exercise,\n",
    "              discounted_future_cashflows)\n",
    "  return S0, discounted_future_cashflows\n",
    "f, c = lax.scan(compute, S0, jnp.arange(m))\n",
    "\n",
    "c.mean()\n"
   ]
  }
 ],
 "metadata": {
  "colab": {
   "collapsed_sections": [],
   "provenance": []
  },
  "kernelspec": {
   "display_name": "Python 3 (ipykernel)",
   "language": "python",
   "name": "python3"
  },
  "language_info": {
   "codemirror_mode": {
    "name": "ipython",
    "version": 3
   },
   "file_extension": ".py",
   "mimetype": "text/x-python",
   "name": "python",
   "nbconvert_exporter": "python",
   "pygments_lexer": "ipython3",
   "version": "3.9.7"
  }
 },
 "nbformat": 4,
 "nbformat_minor": 1
}
