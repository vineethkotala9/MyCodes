{
 "cells": [
  {
   "cell_type": "markdown",
   "id": "21f5c6ac",
   "metadata": {},
   "source": [
    "## Project-1 _ Linear model_ finding θ\n",
    "\n",
    "### Group: Venu Madhav Menday (vmenday2); Vineeth Kotala (vkotala2)"
   ]
  },
  {
   "cell_type": "code",
   "execution_count": 1,
   "id": "51bc1691",
   "metadata": {},
   "outputs": [
    {
     "ename": "ModuleNotFoundError",
     "evalue": "No module named 'jax'",
     "output_type": "error",
     "traceback": [
      "\u001b[0;31m---------------------------------------------------------------------------\u001b[0m",
      "\u001b[0;31mModuleNotFoundError\u001b[0m                       Traceback (most recent call last)",
      "\u001b[0;32m/var/folders/9j/06_x2b392tz7ygplj3gq4h8c0000gn/T/ipykernel_24911/3322733769.py\u001b[0m in \u001b[0;36m<module>\u001b[0;34m\u001b[0m\n\u001b[0;32m----> 1\u001b[0;31m \u001b[0;32mimport\u001b[0m \u001b[0mjax\u001b[0m\u001b[0;34m.\u001b[0m\u001b[0mnumpy\u001b[0m \u001b[0;32mas\u001b[0m \u001b[0mjnp\u001b[0m\u001b[0;34m\u001b[0m\u001b[0;34m\u001b[0m\u001b[0m\n\u001b[0m",
      "\u001b[0;31mModuleNotFoundError\u001b[0m: No module named 'jax'"
     ]
    }
   ],
   "source": [
    "import jax.numpy as jnp"
   ]
  },
  {
   "cell_type": "code",
   "execution_count": 19,
   "id": "71f5e06f",
   "metadata": {},
   "outputs": [],
   "source": [
    "y_val = jnp.load(\"y_val.npy\")\n",
    "y_train = jnp.load(\"y_train.npy\")\n",
    "\n",
    "x_val = jnp.load(\"X_val.npy\")\n",
    "x_train = jnp.load(\"X_train.npy\")"
   ]
  },
  {
   "cell_type": "code",
   "execution_count": 20,
   "id": "3a5d38c2",
   "metadata": {},
   "outputs": [],
   "source": [
    "# adding a column of ones to existing features data\n",
    "\n",
    "ones_train = jnp.ones_like(y_train)\n",
    "ones_val= jnp.ones_like(y_val)\n",
    "\n",
    "X_train = jnp.column_stack([ones_train, x_train])\n",
    "X_val = jnp.column_stack([ones_val, x_val])"
   ]
  },
  {
   "cell_type": "code",
   "execution_count": null,
   "id": "cd1a07bd",
   "metadata": {},
   "outputs": [],
   "source": [
    "# creating a function solve to find optimized λ\n",
    "\n",
    "def solve(λ):\n",
    "    \n",
    "    # Training\n",
    "    I = jnp.eye(X_train.shape[1])\n",
    "    θ = jnp.linalg.solve(X_train.T @ X_train + λ * I, X_train.T @ y_train)\n",
    "    \n",
    "    # Evaluation\n",
    "    prediction = X_val @ θ\n",
    "    e = prediction - y_val\n",
    "    \n",
    "    MSE_val = (e.T @ e) / len(X_train)\n",
    "    return MSE_val   "
   ]
  },
  {
   "cell_type": "code",
   "execution_count": null,
   "id": "cfb259dd",
   "metadata": {},
   "outputs": [],
   "source": [
    "# iterating solve function for finding optimized λ\n",
    "\n",
    "possible_λ = [0.01, 0.1, 1, 10, 100]\n",
    "for λ in possible_λ:\n",
    "    MSE_val = solve(λ)\n",
    "    print(MSE_val)"
   ]
  },
  {
   "cell_type": "code",
   "execution_count": 21,
   "id": "5acab31c",
   "metadata": {},
   "outputs": [],
   "source": [
    "λ = 100\n",
    "I = jnp.eye(X_train.shape[1])\n",
    "θ = jnp.linalg.solve(X_train.T @ X_train + λ * I, X_train.T @ y_train)"
   ]
  },
  {
   "cell_type": "code",
   "execution_count": 22,
   "id": "97d4da17",
   "metadata": {},
   "outputs": [
    {
     "name": "stdout",
     "output_type": "stream",
     "text": [
      "[ 0.88235552  0.36521286  0.21939468 ... -0.0128135  -0.05126425\n",
      " -0.06844907]\n"
     ]
    }
   ],
   "source": [
    "jnp.save('theta_values', θ)\n",
    "print(θ)"
   ]
  }
 ],
 "metadata": {
  "kernelspec": {
   "display_name": "Python 3 (ipykernel)",
   "language": "python",
   "name": "python3"
  },
  "language_info": {
   "codemirror_mode": {
    "name": "ipython",
    "version": 3
   },
   "file_extension": ".py",
   "mimetype": "text/x-python",
   "name": "python",
   "nbconvert_exporter": "python",
   "pygments_lexer": "ipython3",
   "version": "3.9.7"
  }
 },
 "nbformat": 4,
 "nbformat_minor": 5
}
