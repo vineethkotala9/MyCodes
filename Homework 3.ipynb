{
 "cells": [
  {
   "cell_type": "code",
   "execution_count": 1,
   "id": "12783a2b",
   "metadata": {},
   "outputs": [],
   "source": [
    "import numpy as np\n",
    "import pandas as pd\n",
    "import numpy_financial as npf\n",
    "import pandas_datareader as pdr"
   ]
  },
  {
   "cell_type": "code",
   "execution_count": 9,
   "id": "dac3277e",
   "metadata": {},
   "outputs": [],
   "source": [
    "def risk(coeff):\n",
    "    for i in range(len(coeff)):\n",
    "        if coeff[i]>0:\n",
    "            print((i),\": a risk-averse investor\")\n",
    "        elif coeff[i]==0:\n",
    "            print((i),\": a risk-neutral investor\")\n",
    "        else:\n",
    "            print((i),\": a risk lover\")"
   ]
  },
  {
   "cell_type": "code",
   "execution_count": 10,
   "id": "cd9d53da",
   "metadata": {},
   "outputs": [
    {
     "name": "stdout",
     "output_type": "stream",
     "text": [
      "0 : a risk-averse investor\n",
      "1 : a risk-averse investor\n",
      "2 : a risk-neutral investor\n",
      "3 : a risk-averse investor\n",
      "4 : a risk lover\n"
     ]
    }
   ],
   "source": [
    "risk([2,4,0,5,-1])"
   ]
  },
  {
   "cell_type": "code",
   "execution_count": 21,
   "id": "dc0507f2",
   "metadata": {},
   "outputs": [],
   "source": [
    "def balance1(a,b,i):\n",
    "    balance=a\n",
    "    while balance<b:\n",
    "        balance+=100+balance*(i)\n",
    "    return balance"
   ]
  },
  {
   "cell_type": "code",
   "execution_count": 22,
   "id": "da6c6044",
   "metadata": {},
   "outputs": [
    {
     "data": {
      "text/plain": [
       "1143.5888099999997"
      ]
     },
     "execution_count": 22,
     "metadata": {},
     "output_type": "execute_result"
    }
   ],
   "source": [
    "balance1(0,1000,0.1)"
   ]
  },
  {
   "cell_type": "code",
   "execution_count": 24,
   "id": "df051e68",
   "metadata": {},
   "outputs": [],
   "source": [
    "def balance2(a,b,i):\n",
    "    balance=balance1(a,b,i)\n",
    "    if balance>1000:\n",
    "         x=\"the final balance is above $1000\"\n",
    "    elif balance==1000:\n",
    "         x=\"the final balance is equal to $1000\"\n",
    "    else:\n",
    "         x=\"the final balance is below $1000\"\n",
    "    return x"
   ]
  },
  {
   "cell_type": "code",
   "execution_count": 25,
   "id": "59c6acc4",
   "metadata": {},
   "outputs": [
    {
     "data": {
      "text/plain": [
       "'the final balance is above $1000'"
      ]
     },
     "execution_count": 25,
     "metadata": {},
     "output_type": "execute_result"
    }
   ],
   "source": [
    "balance2(0,1000,0.1)"
   ]
  },
  {
   "cell_type": "code",
   "execution_count": 28,
   "id": "9789c690",
   "metadata": {},
   "outputs": [],
   "source": [
    "def balance3(a,b,i):\n",
    "    x=a\n",
    "    while x<b:\n",
    "        x+=100+x*(i)\n",
    "    if x>1000:\n",
    "        y=\"the final balance is above $1000\"\n",
    "    elif x==1000:\n",
    "        y=\"the final balance is equal to $1000\"\n",
    "    else:\n",
    "        y=\"the final balance is below $1000\"\n",
    "    return y"
   ]
  },
  {
   "cell_type": "code",
   "execution_count": 30,
   "id": "ec59f06d",
   "metadata": {},
   "outputs": [
    {
     "data": {
      "text/plain": [
       "'the final balance is above $1000'"
      ]
     },
     "execution_count": 30,
     "metadata": {},
     "output_type": "execute_result"
    }
   ],
   "source": [
    "balance3(0,1000,0.1)"
   ]
  },
  {
   "cell_type": "code",
   "execution_count": 31,
   "id": "59feb14e",
   "metadata": {},
   "outputs": [
    {
     "data": {
      "text/plain": [
       "[1000, 1000, 1000, 1000, 1000]"
      ]
     },
     "execution_count": 31,
     "metadata": {},
     "output_type": "execute_result"
    }
   ],
   "source": [
    "cf=[1000,1000,1000,1000,1000]\n",
    "cf"
   ]
  },
  {
   "cell_type": "code",
   "execution_count": 32,
   "id": "b882fae9",
   "metadata": {},
   "outputs": [
    {
     "data": {
      "text/plain": [
       "array([1., 1., 1., 1., 1.])"
      ]
     },
     "execution_count": 32,
     "metadata": {},
     "output_type": "execute_result"
    }
   ],
   "source": [
    "pv=np.ones(5)\n",
    "pv"
   ]
  },
  {
   "cell_type": "code",
   "execution_count": 33,
   "id": "2c65ba8e",
   "metadata": {},
   "outputs": [
    {
     "data": {
      "text/plain": [
       "array([0.11764052, 0.10400157, 0.10978738, 0.12240893, 0.11867558])"
      ]
     },
     "execution_count": 33,
     "metadata": {},
     "output_type": "execute_result"
    }
   ],
   "source": [
    "np.random.seed(0)\n",
    "r=np.random.normal(0.1,0.01,5)\n",
    "r"
   ]
  },
  {
   "cell_type": "code",
   "execution_count": 34,
   "id": "e03a78e7",
   "metadata": {},
   "outputs": [
    {
     "name": "stdout",
     "output_type": "stream",
     "text": [
      "[894.74207405 820.46605232 731.61172078 630.07978116 570.79375274]\n"
     ]
    }
   ],
   "source": [
    "for i in range(len(cf)):\n",
    "    pv[i] = (cf[i])/(1+r[i])**(i+1)\n",
    "print(pv)"
   ]
  },
  {
   "cell_type": "code",
   "execution_count": 35,
   "id": "fdb35dc8",
   "metadata": {},
   "outputs": [
    {
     "data": {
      "text/plain": [
       "3647.693381045227"
      ]
     },
     "execution_count": 35,
     "metadata": {},
     "output_type": "execute_result"
    }
   ],
   "source": [
    "sum(pv)"
   ]
  },
  {
   "cell_type": "code",
   "execution_count": 37,
   "id": "bca6e403",
   "metadata": {},
   "outputs": [],
   "source": [
    "def pv_mul(cf):\n",
    "    n=len(cf)\n",
    "    pv=np.ones(n)\n",
    "    np.random.seed(0)\n",
    "    r=np.random.normal(0.1,0.01,n)\n",
    "    for i in range(n):\n",
    "        pv[i] = (cf[i])/(1+r[i])**(i+1)\n",
    "    return sum(pv) "
   ]
  },
  {
   "cell_type": "code",
   "execution_count": 38,
   "id": "ceee6e8d",
   "metadata": {},
   "outputs": [
    {
     "data": {
      "text/plain": [
       "3647.693381045227"
      ]
     },
     "execution_count": 38,
     "metadata": {},
     "output_type": "execute_result"
    }
   ],
   "source": [
    "pv_mul([1000,1000,1000,1000,1000])\n"
   ]
  },
  {
   "cell_type": "code",
   "execution_count": 39,
   "id": "6b026ee7",
   "metadata": {},
   "outputs": [],
   "source": [
    "l1=['INTC','IBM','FB']"
   ]
  },
  {
   "cell_type": "code",
   "execution_count": 40,
   "id": "ed543a4a",
   "metadata": {},
   "outputs": [
    {
     "data": {
      "text/html": [
       "<div>\n",
       "<style scoped>\n",
       "    .dataframe tbody tr th:only-of-type {\n",
       "        vertical-align: middle;\n",
       "    }\n",
       "\n",
       "    .dataframe tbody tr th {\n",
       "        vertical-align: top;\n",
       "    }\n",
       "\n",
       "    .dataframe thead th {\n",
       "        text-align: right;\n",
       "    }\n",
       "</style>\n",
       "<table border=\"1\" class=\"dataframe\">\n",
       "  <thead>\n",
       "    <tr style=\"text-align: right;\">\n",
       "      <th>Symbols</th>\n",
       "      <th>INTC</th>\n",
       "      <th>IBM</th>\n",
       "      <th>FB</th>\n",
       "    </tr>\n",
       "    <tr>\n",
       "      <th>Date</th>\n",
       "      <th></th>\n",
       "      <th></th>\n",
       "      <th></th>\n",
       "    </tr>\n",
       "  </thead>\n",
       "  <tbody>\n",
       "    <tr>\n",
       "      <th>2020-09-21</th>\n",
       "      <td>47.749672</td>\n",
       "      <td>106.606140</td>\n",
       "      <td>248.149994</td>\n",
       "    </tr>\n",
       "    <tr>\n",
       "      <th>2020-09-22</th>\n",
       "      <td>47.970551</td>\n",
       "      <td>106.836617</td>\n",
       "      <td>254.750000</td>\n",
       "    </tr>\n",
       "    <tr>\n",
       "      <th>2020-09-23</th>\n",
       "      <td>46.885334</td>\n",
       "      <td>105.347252</td>\n",
       "      <td>249.020004</td>\n",
       "    </tr>\n",
       "    <tr>\n",
       "      <th>2020-09-24</th>\n",
       "      <td>47.211861</td>\n",
       "      <td>104.691208</td>\n",
       "      <td>249.529999</td>\n",
       "    </tr>\n",
       "    <tr>\n",
       "      <th>2020-09-25</th>\n",
       "      <td>47.960945</td>\n",
       "      <td>105.453621</td>\n",
       "      <td>254.820007</td>\n",
       "    </tr>\n",
       "  </tbody>\n",
       "</table>\n",
       "</div>"
      ],
      "text/plain": [
       "Symbols          INTC         IBM          FB\n",
       "Date                                         \n",
       "2020-09-21  47.749672  106.606140  248.149994\n",
       "2020-09-22  47.970551  106.836617  254.750000\n",
       "2020-09-23  46.885334  105.347252  249.020004\n",
       "2020-09-24  47.211861  104.691208  249.529999\n",
       "2020-09-25  47.960945  105.453621  254.820007"
      ]
     },
     "execution_count": 40,
     "metadata": {},
     "output_type": "execute_result"
    }
   ],
   "source": [
    "df=pdr.get_data_yahoo(l1, start= '09/21/2020', end= '09/25/2020')['Adj Close']\n",
    "df.head(10)"
   ]
  },
  {
   "cell_type": "code",
   "execution_count": 41,
   "id": "fd48f9d3",
   "metadata": {},
   "outputs": [
    {
     "data": {
      "text/plain": [
       "105.78696746826172"
      ]
     },
     "execution_count": 41,
     "metadata": {},
     "output_type": "execute_result"
    }
   ],
   "source": [
    "df['IBM'].mean()"
   ]
  },
  {
   "cell_type": "code",
   "execution_count": 42,
   "id": "18760c7f",
   "metadata": {},
   "outputs": [
    {
     "data": {
      "text/html": [
       "<div>\n",
       "<style scoped>\n",
       "    .dataframe tbody tr th:only-of-type {\n",
       "        vertical-align: middle;\n",
       "    }\n",
       "\n",
       "    .dataframe tbody tr th {\n",
       "        vertical-align: top;\n",
       "    }\n",
       "\n",
       "    .dataframe thead th {\n",
       "        text-align: right;\n",
       "    }\n",
       "</style>\n",
       "<table border=\"1\" class=\"dataframe\">\n",
       "  <thead>\n",
       "    <tr style=\"text-align: right;\">\n",
       "      <th>Symbols</th>\n",
       "      <th>INTC</th>\n",
       "      <th>IBM</th>\n",
       "      <th>FB</th>\n",
       "    </tr>\n",
       "    <tr>\n",
       "      <th>Date</th>\n",
       "      <th></th>\n",
       "      <th></th>\n",
       "      <th></th>\n",
       "    </tr>\n",
       "  </thead>\n",
       "  <tbody>\n",
       "    <tr>\n",
       "      <th>2020-09-21</th>\n",
       "      <td>47.749672</td>\n",
       "      <td>106.606140</td>\n",
       "      <td>248.149994</td>\n",
       "    </tr>\n",
       "    <tr>\n",
       "      <th>2020-09-22</th>\n",
       "      <td>47.970551</td>\n",
       "      <td>106.836617</td>\n",
       "      <td>254.750000</td>\n",
       "    </tr>\n",
       "  </tbody>\n",
       "</table>\n",
       "</div>"
      ],
      "text/plain": [
       "Symbols          INTC         IBM          FB\n",
       "Date                                         \n",
       "2020-09-21  47.749672  106.606140  248.149994\n",
       "2020-09-22  47.970551  106.836617  254.750000"
      ]
     },
     "execution_count": 42,
     "metadata": {},
     "output_type": "execute_result"
    }
   ],
   "source": [
    "df[df['IBM']>df['IBM'].mean()]"
   ]
  },
  {
   "cell_type": "code",
   "execution_count": 43,
   "id": "2c52bf8a",
   "metadata": {},
   "outputs": [],
   "source": [
    "df.to_csv('df_l1.csv')"
   ]
  },
  {
   "cell_type": "code",
   "execution_count": 44,
   "id": "f3e79c57",
   "metadata": {},
   "outputs": [
    {
     "data": {
      "text/html": [
       "<div>\n",
       "<style scoped>\n",
       "    .dataframe tbody tr th:only-of-type {\n",
       "        vertical-align: middle;\n",
       "    }\n",
       "\n",
       "    .dataframe tbody tr th {\n",
       "        vertical-align: top;\n",
       "    }\n",
       "\n",
       "    .dataframe thead th {\n",
       "        text-align: right;\n",
       "    }\n",
       "</style>\n",
       "<table border=\"1\" class=\"dataframe\">\n",
       "  <thead>\n",
       "    <tr style=\"text-align: right;\">\n",
       "      <th></th>\n",
       "      <th>Date</th>\n",
       "      <th>INTC</th>\n",
       "      <th>IBM</th>\n",
       "      <th>FB</th>\n",
       "    </tr>\n",
       "  </thead>\n",
       "  <tbody>\n",
       "    <tr>\n",
       "      <th>0</th>\n",
       "      <td>2020-09-21</td>\n",
       "      <td>47.749672</td>\n",
       "      <td>106.606140</td>\n",
       "      <td>248.149994</td>\n",
       "    </tr>\n",
       "    <tr>\n",
       "      <th>1</th>\n",
       "      <td>2020-09-22</td>\n",
       "      <td>47.970551</td>\n",
       "      <td>106.836617</td>\n",
       "      <td>254.750000</td>\n",
       "    </tr>\n",
       "    <tr>\n",
       "      <th>2</th>\n",
       "      <td>2020-09-23</td>\n",
       "      <td>46.885334</td>\n",
       "      <td>105.347252</td>\n",
       "      <td>249.020004</td>\n",
       "    </tr>\n",
       "    <tr>\n",
       "      <th>3</th>\n",
       "      <td>2020-09-24</td>\n",
       "      <td>47.211861</td>\n",
       "      <td>104.691208</td>\n",
       "      <td>249.529999</td>\n",
       "    </tr>\n",
       "    <tr>\n",
       "      <th>4</th>\n",
       "      <td>2020-09-25</td>\n",
       "      <td>47.960945</td>\n",
       "      <td>105.453621</td>\n",
       "      <td>254.820007</td>\n",
       "    </tr>\n",
       "  </tbody>\n",
       "</table>\n",
       "</div>"
      ],
      "text/plain": [
       "         Date       INTC         IBM          FB\n",
       "0  2020-09-21  47.749672  106.606140  248.149994\n",
       "1  2020-09-22  47.970551  106.836617  254.750000\n",
       "2  2020-09-23  46.885334  105.347252  249.020004\n",
       "3  2020-09-24  47.211861  104.691208  249.529999\n",
       "4  2020-09-25  47.960945  105.453621  254.820007"
      ]
     },
     "execution_count": 44,
     "metadata": {},
     "output_type": "execute_result"
    }
   ],
   "source": [
    "df2=pd.read_csv('df_l1.csv')\n",
    "df2"
   ]
  },
  {
   "cell_type": "code",
   "execution_count": 45,
   "id": "b661cc03",
   "metadata": {},
   "outputs": [
    {
     "data": {
      "text/html": [
       "<div>\n",
       "<style scoped>\n",
       "    .dataframe tbody tr th:only-of-type {\n",
       "        vertical-align: middle;\n",
       "    }\n",
       "\n",
       "    .dataframe tbody tr th {\n",
       "        vertical-align: top;\n",
       "    }\n",
       "\n",
       "    .dataframe thead th {\n",
       "        text-align: right;\n",
       "    }\n",
       "</style>\n",
       "<table border=\"1\" class=\"dataframe\">\n",
       "  <thead>\n",
       "    <tr style=\"text-align: right;\">\n",
       "      <th></th>\n",
       "      <th>Date</th>\n",
       "      <th>INTC</th>\n",
       "      <th>IBM</th>\n",
       "      <th>FB</th>\n",
       "    </tr>\n",
       "  </thead>\n",
       "  <tbody>\n",
       "    <tr>\n",
       "      <th>3</th>\n",
       "      <td>2020-09-24</td>\n",
       "      <td>47.211861</td>\n",
       "      <td>104.691208</td>\n",
       "      <td>249.529999</td>\n",
       "    </tr>\n",
       "    <tr>\n",
       "      <th>4</th>\n",
       "      <td>2020-09-25</td>\n",
       "      <td>47.960945</td>\n",
       "      <td>105.453621</td>\n",
       "      <td>254.820007</td>\n",
       "    </tr>\n",
       "  </tbody>\n",
       "</table>\n",
       "</div>"
      ],
      "text/plain": [
       "         Date       INTC         IBM          FB\n",
       "3  2020-09-24  47.211861  104.691208  249.529999\n",
       "4  2020-09-25  47.960945  105.453621  254.820007"
      ]
     },
     "execution_count": 45,
     "metadata": {},
     "output_type": "execute_result"
    }
   ],
   "source": [
    "df2.tail(2)"
   ]
  },
  {
   "cell_type": "code",
   "execution_count": null,
   "id": "bb5a161c",
   "metadata": {},
   "outputs": [],
   "source": []
  }
 ],
 "metadata": {
  "kernelspec": {
   "display_name": "Python 3 (ipykernel)",
   "language": "python",
   "name": "python3"
  },
  "language_info": {
   "codemirror_mode": {
    "name": "ipython",
    "version": 3
   },
   "file_extension": ".py",
   "mimetype": "text/x-python",
   "name": "python",
   "nbconvert_exporter": "python",
   "pygments_lexer": "ipython3",
   "version": "3.9.7"
  }
 },
 "nbformat": 4,
 "nbformat_minor": 5
}
