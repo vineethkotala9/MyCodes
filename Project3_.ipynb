{
 "cells": [
  {
   "cell_type": "code",
   "execution_count": 1,
   "id": "e45d9f21",
   "metadata": {},
   "outputs": [],
   "source": [
    "import pandas as pd\n",
    "import numpy as np\n",
    "from scipy.optimize import minimize\n",
    "\n",
    "df = pd.read_excel(r' Graded_HW01_data.xlsx')\n",
    "cols = ['SPY', 'XLB', 'XLE', 'XLF']\n",
    "returns = df[cols].dropna()\n",
    "\n",
    "def garch_log(paras, r):\n",
    "    omega, alpha, beta = paras\n",
    "    T = len(r)\n",
    "    s = np.zeros(T)\n",
    "    s[0] = np.var(r)\n",
    "    for t in range(1, T):\n",
    "        s[t] = omega + alpha * r[t-1]**2 + beta * s[t-1]\n",
    "    log = -0.5 * np.sum(np.log(2 * np.pi * s) + r**2 / s)\n",
    "    return -log\n",
    "\n",
    "garch_paras = {}\n",
    "for col in cols:\n",
    "    r = returns[col].values\n",
    "    garch_result = minimize(garch_log, [0.1, 0.1, 0.8], args=(r,), method='BFGS')\n",
    "    garch_paras[col] = {'omega': garch_result.x[0], 'alpha': garch_result.x[1], 'beta': garch_result.x[2]}\n",
    "    \n",
    "def dcc_log(paras, r, garch_paras):\n",
    "    alpha, beta = paras\n",
    "    T = len(r)\n",
    "    s = np.zeros((T, 4))\n",
    "    corr = np.zeros((T, 4, 4))\n",
    "    s[0,:] = np.array([garch_paras[col]['omega'] for col in cols])\n",
    "    corr[0,:,:] = np.eye(4)\n",
    "    for t in range(1, T):\n",
    "        s[t,:] = (1 - alpha - beta) * s[t-1,:] + alpha * r[t-1,:]**2 + beta * s[t-1,:]\n",
    "        std = np.sqrt(s[t,:])\n",
    "        for i in range(4):\n",
    "            for j in range(i+1, 4):\n",
    "            corr[t,i,j] = corr[t-1,i,j] + alpha * (r[t-1,i] / std[i]) * (r[t-1,j] / std[j]) * (corr[t-1,i,j] - corr[t-1,j,i])\n",
    "            corr[t,j,i] = corr[t,i,j]\n",
    "        log = -0.5 * np.sum(np.log(1 - alpha - beta) + r**2 / s + np.log(s))\n",
    "        return -log\n",
    "\n",
    "r = returns.values\n",
    "dcc_result = minimize(dcc_log, [0.01, 0.98], args=(r, garch_paras), method='BFGS')\n",
    "dcc_paras = {'alpha': dcc_result.x[0], 'beta': dcc_result.x[1]}\n",
    "for col, paras in garch_paras.items():\n",
    "    print(col)\n",
    "    print(f\"omega = {paras['omega']:.4f}, alpha = {paras['alpha']:.4f}, beta = {paras['beta']:.4f}\")\n",
    "print(\"DCC\")\n",
    "print(f\"alpha = {dcc_paras['alpha']:.4f}, beta = {dcc_paras['beta']:.4f}\")"
   ]
  },
  {
   "cell_type": "code",
   "execution_count": null,
   "id": "d4089043",
   "metadata": {},
   "outputs": [],
   "source": [
    "\n"
   ]
  },
  {
   "cell_type": "code",
   "execution_count": null,
   "id": "92c238f7",
   "metadata": {},
   "outputs": [],
   "source": []
  }
 ],
 "metadata": {
  "kernelspec": {
   "display_name": "Python 3 (ipykernel)",
   "language": "python",
   "name": "python3"
  },
  "language_info": {
   "codemirror_mode": {
    "name": "ipython",
    "version": 3
   },
   "file_extension": ".py",
   "mimetype": "text/x-python",
   "name": "python",
   "nbconvert_exporter": "python",
   "pygments_lexer": "ipython3",
   "version": "3.9.7"
  }
 },
 "nbformat": 4,
 "nbformat_minor": 5
}
