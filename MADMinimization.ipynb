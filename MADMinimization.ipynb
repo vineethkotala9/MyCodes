{
 "cells": [
  {
   "cell_type": "code",
   "execution_count": 2,
   "metadata": {},
   "outputs": [],
   "source": [
    "import pandas as pd\n",
    "import numpy as np\n",
    "import pandas_datareader as pdr\n",
    "import scipy.optimize as opt"
   ]
  },
  {
   "cell_type": "code",
   "execution_count": 3,
   "metadata": {},
   "outputs": [],
   "source": [
    "STARTDATE = '01/01/2015'\n",
    "ENDDATE = '12/31/2021'\n",
    "INTERVAL = 'm' # monthly intervals"
   ]
  },
  {
   "cell_type": "markdown",
   "metadata": {},
   "source": [
    "## Retrieving Data and Calculating Log Returns and Mean Returns"
   ]
  },
  {
   "cell_type": "markdown",
   "metadata": {},
   "source": [
    "Value Stocks: AT&T, Intel, Meta, Google, Apple <br>\n",
    "Growth Stocks: Adobe, Costco, Walmart, Tesla"
   ]
  },
  {
   "cell_type": "code",
   "execution_count": 4,
   "metadata": {},
   "outputs": [],
   "source": [
    "valueStocks = ['T', 'INTC', 'META', 'GOOGL', 'AAPL', 'ADBE']\n",
    "growthStocks = [\"COST\", \"WMT\", \"TSLA\"]"
   ]
  },
  {
   "cell_type": "code",
   "execution_count": 5,
   "metadata": {},
   "outputs": [],
   "source": [
    "df = pdr.get_data_yahoo(valueStocks + growthStocks, start = STARTDATE, end = ENDDATE, interval = INTERVAL)['Adj Close']"
   ]
  },
  {
   "cell_type": "code",
   "execution_count": 6,
   "metadata": {},
   "outputs": [],
   "source": [
    "returnsDF = np.log(df/df.shift(1)).dropna()*100 # converted to percent"
   ]
  },
  {
   "cell_type": "code",
   "execution_count": 7,
   "metadata": {},
   "outputs": [
    {
     "name": "stdout",
     "output_type": "stream",
     "text": [
      "The mean return for T is 0.345%\n",
      "The mean return for INTC is 0.691%\n",
      "The mean return for META is 1.687%\n",
      "The mean return for GOOGL is 1.924%\n",
      "The mean return for AAPL is 2.245%\n",
      "The mean return for ADBE is 2.417%\n",
      "The mean return for COST is 1.702%\n",
      "The mean return for WMT is 0.780%\n",
      "The mean return for TSLA is 3.733%\n"
     ]
    }
   ],
   "source": [
    "assets = returnsDF.columns.values\n",
    "meanReturnList = []\n",
    "for asset in assets:\n",
    "    print(f'The mean return for {asset} is {returnsDF[asset].mean():.3f}%')\n",
    "    meanReturnList.append(returnsDF[asset].mean())"
   ]
  },
  {
   "cell_type": "markdown",
   "metadata": {},
   "source": [
    "## MAD Minimization"
   ]
  },
  {
   "cell_type": "markdown",
   "metadata": {},
   "source": [
    "The Mean Absolute Deviation is defined as:\n",
    "\\begin{equation*}\n",
    "\\sum\\limits_{t = 1}^T\\left|\\sum\\limits_{i = 1}^n(r_{it} - \\mu_i)x_i)\\right|\n",
    "\\end{equation*}\n",
    "Where there are $i = 1,\\dots,n$-many assets over periods $t = 1,\\dots,T$"
   ]
  },
  {
   "cell_type": "markdown",
   "metadata": {},
   "source": [
    "In order to restructure this equation such that it can be formulated as a Linear Program, we use the following transformation:"
   ]
  },
  {
   "cell_type": "markdown",
   "metadata": {},
   "source": [
    "\\begin{gather*}\n",
    "y_t - z_t = \\sum\\limits_{i=1}^n(r_{it} - \\mu_{i})x_i\\\\\n",
    " y_t\\geq 0, z_t\\geq 0\n",
    "\\end{gather*}"
   ]
  },
  {
   "cell_type": "markdown",
   "metadata": {},
   "source": [
    "This yields the following linear program model:\n",
    "\\begin{gather*}\n",
    "\\min_{y\\geq 0, z\\geq 0, x}\\sum_{t=1}^T(y_t+z_t)\\\\\n",
    "y_t-z_t = \\sum_{i=1}^n(r_{it} - \\mu_i)x_i, t = 1,\\dots,T\n",
    "\\end{gather*}"
   ]
  },
  {
   "cell_type": "code",
   "execution_count": 8,
   "metadata": {},
   "outputs": [],
   "source": [
    "minReturn = 1 # desired minimum return as a percentage as an additional constraint"
   ]
  },
  {
   "cell_type": "markdown",
   "metadata": {},
   "source": [
    "We use the ``linprog`` class within ``scipy.optimize``. It should be noted that this class takes on optimization problems of the form:\n",
    "\n",
    "\\begin{gather*}\n",
    "\\min_x c^Tx \\\\\n",
    "\\text{s.t. } A_{ub}x \\leq b_{ub}\\\\\n",
    "A_{eq}x = b_{eq}\\\\\n",
    "l \\leq x \\leq u\n",
    "\\end{gather*}\n",
    "\n",
    "We must therefore convert the specified MAD minimization problem to take on a similar form. We begin by nothing that there are $T$-many values for each $y$ and $z$ and 4 $x$ values for each of the respective assets, resulting in the $\\tilde{x}$ vector:\n",
    "\n",
    "\\begin{equation*}\n",
    "\\tilde{x} = \\begin{bmatrix} y\\\\ x\\\\ z \\end{bmatrix} \\in \\mathbb{R}^{(2T + 4)\\times 1}\n",
    "\\end{equation*}\n",
    "\n",
    "We restructure the MAD minimization problem as such:\n",
    "\n",
    "\\begin{gather*}\n",
    "\\min_{y\\geq 0, z\\geq 0,x\\geq 0} \\left\\{\\sum_{t=1}^T (y_t + z_t)\\right\\} \\\\\n",
    "\\text{s.t. } y_t - z_t - \\sum_{i = 1}^n (r_{it}-\\mu_i)x_i = 0 \\text{ for } t = 1,\\dots, T\\\\\n",
    "\\sum_{i}^n x_i = 1\\\\\n",
    "-\\sum_{i}^n\\mu_ix_i \\leq -\\text{desired minimum return}\n",
    "\\end{gather*}"
   ]
  },
  {
   "cell_type": "code",
   "execution_count": 9,
   "metadata": {},
   "outputs": [],
   "source": [
    "x0 = np.random.randn((2*len(returnsDF) + 9)) # specifying a dummy variable to hold x vector size"
   ]
  },
  {
   "cell_type": "code",
   "execution_count": 10,
   "metadata": {},
   "outputs": [],
   "source": [
    "Aeq = np.zeros((len(returnsDF),len(x0)))"
   ]
  },
  {
   "cell_type": "markdown",
   "metadata": {},
   "source": [
    "Noting that the middle 9 coefficients of the $A_{eq}$ matrix are attached to $x$, we can account for each $y_t - z_t$ as such:"
   ]
  },
  {
   "cell_type": "code",
   "execution_count": 11,
   "metadata": {},
   "outputs": [],
   "source": [
    "for i in range(len(returnsDF)): Aeq[i,i] = 1 # holds the y variables\n",
    "Aeq = Aeq - np.flip(Aeq,1) # flip negative holds the z variables"
   ]
  },
  {
   "cell_type": "markdown",
   "metadata": {},
   "source": [
    "Next, we account for the $\\sum_{i = 1}^n (r_{it}-\\mu_i)x_i\\text{ for }$ term for each $t$, parametrized by the rows of the $A_{eq}$ matrix. We also add a row of zeros to the entire matrix to hold the \"weights\" constraint."
   ]
  },
  {
   "cell_type": "code",
   "execution_count": 12,
   "metadata": {},
   "outputs": [],
   "source": [
    "for i in range(len(returnsDF)):\n",
    "    for j in range(len(assets)):\n",
    "        Aeq[i,len(returnsDF) + j] = -(returnsDF.iloc[i][assets[j]] - meanReturnList[j])\n",
    "Aeq = np.append(Aeq,np.zeros((1,Aeq.shape[1])), axis = 0) # adding row of zeros to hold the =1 weights equality constraint"
   ]
  },
  {
   "cell_type": "markdown",
   "metadata": {},
   "source": [
    "We can now construct the $A_{ub}$ matrix and finish constructing the $A_{eq}$ matrix by noting that the $x_i$'s are located at the middle four values of the $\\tilde{x}$ vector:"
   ]
  },
  {
   "cell_type": "code",
   "execution_count": 13,
   "metadata": {},
   "outputs": [],
   "source": [
    "Aub = np.zeros((1,len(x0)))"
   ]
  },
  {
   "cell_type": "code",
   "execution_count": 14,
   "metadata": {},
   "outputs": [],
   "source": [
    "for i in range(len(meanReturnList)):\n",
    "    # mean return constraint\n",
    "    Aub[0,len(returnsDF) + i] = -meanReturnList[i]\n",
    "    # adding the summation constraint, with strict equality\n",
    "    Aeq[-1,len(returnsDF) + i] = 1"
   ]
  },
  {
   "cell_type": "markdown",
   "metadata": {},
   "source": [
    "Now, noting that the objective function is simply the sum of all $y_t$ and $z_t$, can simply specify the $c$ vector to take on ones at these locations, with the middle four values corresponding to $x_i$ to be equal to zero."
   ]
  },
  {
   "cell_type": "code",
   "execution_count": 15,
   "metadata": {},
   "outputs": [],
   "source": [
    "c = np.zeros(Aeq.shape[1]); c[0:len(returnsDF)] = 1\n",
    "c[len(returnsDF)+9:] = 1\n",
    "c = np.reshape(c,(len(c),1))"
   ]
  },
  {
   "cell_type": "markdown",
   "metadata": {},
   "source": [
    "Lastly, the $b_{eq}$ vector would take on zeros at all rows except for the last, corresponding with our specification of $A_{eq}$:"
   ]
  },
  {
   "cell_type": "code",
   "execution_count": 16,
   "metadata": {},
   "outputs": [],
   "source": [
    "beq = np.zeros(Aeq.shape[0]); beq[-1] = 1 # summation equal to 1 constraint"
   ]
  },
  {
   "cell_type": "code",
   "execution_count": 17,
   "metadata": {},
   "outputs": [],
   "source": [
    "res = opt.linprog(c,A_ub = Aub, b_ub = [minReturn], A_eq = Aeq, b_eq = beq)"
   ]
  },
  {
   "cell_type": "code",
   "execution_count": 18,
   "metadata": {},
   "outputs": [
    {
     "name": "stdout",
     "output_type": "stream",
     "text": [
      "The optimal value is 216.23\n"
     ]
    }
   ],
   "source": [
    "print(f'The optimal value is {res.fun:.2f}')"
   ]
  },
  {
   "cell_type": "markdown",
   "metadata": {},
   "source": [
    "Verifying that the weights all sum to 1:"
   ]
  },
  {
   "cell_type": "code",
   "execution_count": 19,
   "metadata": {},
   "outputs": [
    {
     "name": "stdout",
     "output_type": "stream",
     "text": [
      "1.0000000001676068\n"
     ]
    }
   ],
   "source": [
    "print(sum(res.x[len(returnsDF):len(returnsDF)+9]))"
   ]
  },
  {
   "cell_type": "markdown",
   "metadata": {},
   "source": [
    "Verifying that the minimum expected return constraint is also met:"
   ]
  },
  {
   "cell_type": "code",
   "execution_count": 20,
   "metadata": {},
   "outputs": [
    {
     "name": "stdout",
     "output_type": "stream",
     "text": [
      "1.0345832733893492\n"
     ]
    }
   ],
   "source": [
    "sumCount = 0\n",
    "for i in range(len(assets)):\n",
    "    sumCount += meanReturnList[i]*res.x[len(returnsDF):len(returnsDF)+9][i]\n",
    "print(sumCount)"
   ]
  },
  {
   "cell_type": "code",
   "execution_count": 21,
   "metadata": {},
   "outputs": [
    {
     "name": "stdout",
     "output_type": "stream",
     "text": [
      "The optimal percent to invest in T is 33.11%\n",
      "The optimal percent to invest in INTC is 10.07%\n",
      "The optimal percent to invest in META is 1.52%\n",
      "The optimal percent to invest in GOOGL is 3.75%\n",
      "The optimal percent to invest in AAPL is 0.00%\n",
      "The optimal percent to invest in ADBE is 11.26%\n",
      "The optimal percent to invest in COST is 11.62%\n",
      "The optimal percent to invest in WMT is 26.66%\n",
      "The optimal percent to invest in TSLA is 2.01%\n"
     ]
    }
   ],
   "source": [
    "printing = [print(f'The optimal percent to invest in {assets[i]} is {res.x[len(returnsDF):len(returnsDF)+9][i]*100:.2f}%') for i in range(len(assets))]"
   ]
  },
  {
   "cell_type": "markdown",
   "metadata": {},
   "source": [
    "## Benchmark Portfolios"
   ]
  },
  {
   "cell_type": "code",
   "execution_count": 22,
   "metadata": {},
   "outputs": [],
   "source": [
    "# can uncomment the code below to retrieve all tickers of the S&P 500\n",
    "# URL = 'https://en.wikipedia.org/wiki/List_of_S%26P_500_companies'\n",
    "# tickers = pd.read_html(URL)[0]['Symbol'].tolist()"
   ]
  },
  {
   "cell_type": "markdown",
   "metadata": {},
   "source": [
    "We benchmark against the S&P500 index as well as the SPDR S&P 500 ETF Trust (SPY)"
   ]
  },
  {
   "cell_type": "code",
   "execution_count": 23,
   "metadata": {},
   "outputs": [],
   "source": [
    "spIndexDF = pdr.get_data_yahoo('^GSPC', start = STARTDATE, end = ENDDATE, interval = INTERVAL)['Adj Close']\n",
    "spyDF = pdr.get_data_yahoo('SPY', start = STARTDATE, end = ENDDATE, interval = INTERVAL)['Adj Close']"
   ]
  },
  {
   "cell_type": "code",
   "execution_count": 24,
   "metadata": {},
   "outputs": [],
   "source": [
    "spIndexReturnsDF = pd.DataFrame(np.log(spIndexDF/spIndexDF.shift(1)).dropna()) # note that we do not convert to percentage here\n",
    "spyReturnsDF = pd.DataFrame(np.log(spyDF/spyDF.shift(1)).dropna())"
   ]
  },
  {
   "cell_type": "code",
   "execution_count": 25,
   "metadata": {},
   "outputs": [],
   "source": [
    "spIndexReturnsDF['CReturns'] = ((1+spIndexReturnsDF['Adj Close']).cumprod())\n",
    "spyReturnsDF['CReturns'] = ((1+spyReturnsDF['Adj Close']).cumprod())"
   ]
  },
  {
   "cell_type": "code",
   "execution_count": 26,
   "metadata": {},
   "outputs": [
    {
     "data": {
      "text/plain": [
       "<AxesSubplot:xlabel='Date'>"
      ]
     },
     "execution_count": 26,
     "metadata": {},
     "output_type": "execute_result"
    },
    {
     "data": {
      "image/png": "[encoded data removed]",
      "text/plain": [
       "<Figure size 432x288 with 1 Axes>"
      ]
     },
     "metadata": {
      "needs_background": "light"
     },
     "output_type": "display_data"
    }
   ],
   "source": [
    "spIndexReturnsDF.CReturns.plot()"
   ]
  },
  {
   "cell_type": "code",
   "execution_count": 27,
   "metadata": {},
   "outputs": [
    {
     "data": {
      "text/plain": [
       "<AxesSubplot:xlabel='Date'>"
      ]
     },
     "execution_count": 27,
     "metadata": {},
     "output_type": "execute_result"
    },
    {
     "data": {
      "image/png": "[encoded data removed]",
      "text/plain": [
       "<Figure size 432x288 with 1 Axes>"
      ]
     },
     "metadata": {
      "needs_background": "light"
     },
     "output_type": "display_data"
    }
   ],
   "source": [
    "spyReturnsDF.CReturns.plot()"
   ]
  },
  {
   "cell_type": "code",
   "execution_count": 28,
   "metadata": {},
   "outputs": [],
   "source": [
    "returnsDF = np.log(df/df.shift(1)).dropna()"
   ]
  },
  {
   "cell_type": "code",
   "execution_count": 29,
   "metadata": {},
   "outputs": [],
   "source": [
    "weightsMADmin = res.x[len(returnsDF):len(returnsDF)+9]"
   ]
  },
  {
   "cell_type": "code",
   "execution_count": 30,
   "metadata": {},
   "outputs": [],
   "source": [
    "returnsDFArray = returnsDF.to_numpy()"
   ]
  },
  {
   "cell_type": "code",
   "execution_count": 31,
   "metadata": {},
   "outputs": [],
   "source": [
    "madPortfolioReturn = np.matmul(returnsDFArray, weightsMADmin)"
   ]
  },
  {
   "cell_type": "code",
   "execution_count": 32,
   "metadata": {},
   "outputs": [],
   "source": [
    "madPortfolioReturnDF = pd.DataFrame(index = returnsDF.index, data = madPortfolioReturn, columns = ['return'])"
   ]
  },
  {
   "cell_type": "code",
   "execution_count": 33,
   "metadata": {},
   "outputs": [],
   "source": [
    "madPortfolioReturnDF['CReturns'] = ((1+madPortfolioReturnDF['return']).cumprod())"
   ]
  },
  {
   "cell_type": "code",
   "execution_count": 34,
   "metadata": {},
   "outputs": [
    {
     "data": {
      "text/plain": [
       "<AxesSubplot:xlabel='Date'>"
      ]
     },
     "execution_count": 34,
     "metadata": {},
     "output_type": "execute_result"
    },
    {
     "data": {
      "image/png": "[encoded data removed]",
      "text/plain": [
       "<Figure size 432x288 with 1 Axes>"
      ]
     },
     "metadata": {
      "needs_background": "light"
     },
     "output_type": "display_data"
    }
   ],
   "source": [
    "madPortfolioReturnDF.CReturns.plot()"
   ]
  },
  {
   "cell_type": "markdown",
   "metadata": {},
   "source": [
    "### Overlaying Cumulative Returns Plot"
   ]
  },
  {
   "cell_type": "code",
   "execution_count": 35,
   "metadata": {},
   "outputs": [],
   "source": [
    "import matplotlib.pyplot as plt"
   ]
  },
  {
   "cell_type": "code",
   "execution_count": 36,
   "metadata": {},
   "outputs": [
    {
     "data": {
      "image/png": "[encoded data removed]",
      "text/plain": [
       "<Figure size 936x360 with 1 Axes>"
      ]
     },
     "metadata": {
      "needs_background": "light"
     },
     "output_type": "display_data"
    }
   ],
   "source": [
    "plt.figure(figsize=(13,5))\n",
    "plt.plot(spIndexReturnsDF['CReturns'], label = 'S&P 500 Index')\n",
    "plt.plot(spyReturnsDF['CReturns'], label = 'SPY')\n",
    "plt.plot(madPortfolioReturnDF['CReturns'], label = 'MAD Minimization')\n",
    "plt.legend()\n",
    "plt.grid()\n",
    "plt.title('Cumulative Returns')\n",
    "plt.show()\n",
    "plt.close()"
   ]
  },
  {
   "cell_type": "markdown",
   "metadata": {},
   "source": [
    "### Calculating Relevant Porfolio Metrics"
   ]
  },
  {
   "cell_type": "code",
   "execution_count": 37,
   "metadata": {},
   "outputs": [],
   "source": [
    "rf = 0.035 # we assume a risk free rate of 3.5% percent"
   ]
  },
  {
   "cell_type": "code",
   "execution_count": 45,
   "metadata": {},
   "outputs": [],
   "source": [
    "volSP500 = np.std(spIndexReturnsDF['Adj Close'])*np.sqrt(12) # note that we annualize using sqrt(12) since we have monthly closing prices\n",
    "volSPY = np.std(spyReturnsDF['Adj Close'])*np.sqrt(12)\n",
    "volMAD = np.std(madPortfolioReturnDF['return'])*np.sqrt(12)\n",
    "\n",
    "annReturnSP500 = np.mean(spIndexReturnsDF['Adj Close'])*12\n",
    "annReturnSPY = np.mean(spyReturnsDF['Adj Close'])*12\n",
    "annReturnMAD = np.mean(madPortfolioReturnDF['return'])*12\n",
    "\n",
    "sharpeRatioSP500 = (annReturnSP500 - rf)/volSP500\n",
    "sharpeRatioSPY = (annReturnSPY - rf)/volSPY\n",
    "sharpeRatioMAD = (annReturnMAD - rf)/volMAD"
   ]
  },
  {
   "cell_type": "code",
   "execution_count": 47,
   "metadata": {},
   "outputs": [
    {
     "name": "stdout",
     "output_type": "stream",
     "text": [
      "The annualized volatility of the S&P500 Index is: 14.518555377089843%\n",
      "The annualized volatility of SPY is: 14.80852384630366%\n",
      "The annualized volatility of MAD Minimized Portfolio is: 11.939088062734028%\n",
      "*****\n",
      "The annualized expected return of the S&P500 Index is: 11.66982742088735%\n",
      "The annualized expected return of SPY is: 13.481868355319119%\n",
      "The annualized expected return of MAD Minimized Portfolio is: 12.414999280672188%\n",
      "*****\n",
      "The Sharpe Ratio of the S&P500 Index is: 0.5627162764264596\n",
      "The Sharpe Ratio of SPY is: 0.6740623480719641\n",
      "The Sharpe Ratio of MAD Minimized Portfolio is: 0.7467068869773182\n"
     ]
    }
   ],
   "source": [
    "print(f'The annualized volatility of the S&P500 Index is: {volSP500*100}%')\n",
    "print(f'The annualized volatility of SPY is: {volSPY*100}%')\n",
    "print(f'The annualized volatility of MAD Minimized Portfolio is: {volMAD*100}%')\n",
    "\n",
    "print('*****')\n",
    "\n",
    "print(f'The annualized expected return of the S&P500 Index is: {annReturnSP500*100}%')\n",
    "print(f'The annualized expected return of SPY is: {annReturnSPY*100}%')\n",
    "print(f'The annualized expected return of MAD Minimized Portfolio is: {annReturnMAD*100}%')\n",
    "\n",
    "print('*****')\n",
    "\n",
    "print(f'The Sharpe Ratio of the S&P500 Index is: {sharpeRatioSP500}')\n",
    "print(f'The Sharpe Ratio of SPY is: {sharpeRatioSPY}')\n",
    "print(f'The Sharpe Ratio of MAD Minimized Portfolio is: {sharpeRatioMAD}')"
   ]
  },
  {
   "cell_type": "markdown",
   "metadata": {},
   "source": [
    "We see in the above results that annualized volatility for the MAD-minimized portfolio is the lowest, as expected. It, however, does not contain the highest Sharpe Ratio nor the highest expected returns."
   ]
  }
 ],
 "metadata": {
  "kernelspec": {
   "display_name": "Python 3 (ipykernel)",
   "language": "python",
   "name": "python3"
  },
  "language_info": {
   "codemirror_mode": {
    "name": "ipython",
    "version": 3
   },
   "file_extension": ".py",
   "mimetype": "text/x-python",
   "name": "python",
   "nbconvert_exporter": "python",
   "pygments_lexer": "ipython3",
   "version": "3.9.7"
  },
  "vscode": {
   "interpreter": {
    "hash": "0359b4785db930eb8f1ea876bf7ba349bace0e70fea48707a8a08ed9921e0151"
   }
  }
 },
 "nbformat": 4,
 "nbformat_minor": 2
}
