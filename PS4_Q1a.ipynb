{
 "cells": [
  {
   "cell_type": "markdown",
   "metadata": {},
   "source": [
    "## Fall 2022 PS4 Q1 Part a)\n",
    "\n"
   ]
  },
  {
   "cell_type": "code",
   "execution_count": 1,
   "metadata": {},
   "outputs": [],
   "source": [
    "import numpy as np\n",
    "import pandas as pd\n",
    "import scipy.stats as st\n",
    "import matplotlib.pyplot as plt"
   ]
  },
  {
   "cell_type": "code",
   "execution_count": 6,
   "metadata": {},
   "outputs": [],
   "source": [
    "# input parameters\n",
    "\n",
    "start_step = 10001\n",
    "N = 10005\n",
    "S0 = 100.0\n",
    "K = 105.0\n",
    "sigma = 0.3\n",
    "r = 0.04 \n",
    "T = 0.5 \n",
    "q = 0 # dividend rate"
   ]
  },
  {
   "cell_type": "markdown",
   "metadata": {},
   "source": [
    "## LR Function"
   ]
  },
  {
   "cell_type": "code",
   "execution_count": 7,
   "metadata": {},
   "outputs": [],
   "source": [
    "\n",
    "def LR_fun(S0, K, T, r, sigma, start_step, N):\n",
    "    \n",
    "    \n",
    "    # LIST TO SAVE RESULTS\n",
    "    lr_result = []\n",
    "        \n",
    "    # CREATE ARRAY OF SIZE [N+1] TO STORE ALL STEPS\n",
    "    option_value = np.zeros([N+1])\n",
    "    stock_value = np.zeros([N+1])    \n",
    "    \n",
    "    # FOR LOOP STATEMENT: For a Binomial Tree from start_step to N\n",
    "    for n in range(start_step, N+1,2):\n",
    "        delta = T / n\n",
    "        d1 = (np.log(S0 / K) + (r - q + 0.5 * sigma ** 2) * T) / (sigma * np.sqrt(T))\n",
    "        d2 = (np.log(S0 / K) + (r - q - 0.5 * sigma ** 2) * T) / (sigma * np.sqrt(T))\n",
    "        qu = 0.5 + np.sqrt(0.25-0.25*np.exp(-(d2/(n+1/3))**2*(n+1/6)))\n",
    "        if d2 < 0: \n",
    "            qu = 0.5 - np.sqrt(0.25-0.25*np.exp(-(d2/(n+1/3))**2*(n+1/6)))\n",
    "        qd = 1 - qu    \n",
    "        qstar = 0.5 + np.sqrt(0.25-0.25*np.exp(-(d1/(n+1/3))**2*(n+1/6)))\n",
    "        if d1 < 0: \n",
    "            qstar = 0.5 - np.sqrt(0.25-0.25*np.exp(-(d1/(n+1/3))**2*(n+1/6)))\n",
    "        u = np.exp((r-q)*delta)*qstar/qu\n",
    "        d = (np.exp((r-q)*delta)-qu*u)/(1-qu)\n",
    "        \n",
    "    # CALCULATE OPTION VALUES AT CERTAIN STEPS AND POSITIONS WITHIN THE BINOMIAL TREE:\n",
    "\n",
    "        j = n \n",
    "        \n",
    "        for i in range(0, j):    \n",
    "            stock_value[i] = S0 * (u**i) * (d**(j - i))\n",
    "            option_value[i] = np.maximum(K - stock_value[i], 0)\n",
    "\n",
    "        for j in range(n-1, -1, -1):\n",
    "            for i in range(0, j+1):\n",
    "                stock_value[i] = S0 * (u**i) * (d**(j - i))\n",
    "                pv = np.exp(-r * delta) * (qu * option_value[i + 1] + qd * option_value[i])\n",
    "                option_value[i] = np.maximum(pv, K - stock_value[i])\n",
    "    # RELAY OUTPUTS TO DICTIONARY\n",
    "        output = {'num_steps': n, 'LR_conv': option_value[0]}\n",
    "        lr_result.append(output)\n",
    "\n",
    "    return lr_result\n"
   ]
  },
  {
   "cell_type": "code",
   "execution_count": 8,
   "metadata": {},
   "outputs": [],
   "source": [
    "lr_conv = LR_fun(S0, K, T, r, sigma, start_step, N)"
   ]
  },
  {
   "cell_type": "code",
   "execution_count": 12,
   "metadata": {},
   "outputs": [
    {
     "data": {
      "text/html": [
       "<div>\n",
       "<style scoped>\n",
       "    .dataframe tbody tr th:only-of-type {\n",
       "        vertical-align: middle;\n",
       "    }\n",
       "\n",
       "    .dataframe tbody tr th {\n",
       "        vertical-align: top;\n",
       "    }\n",
       "\n",
       "    .dataframe thead th {\n",
       "        text-align: right;\n",
       "    }\n",
       "</style>\n",
       "<table border=\"1\" class=\"dataframe\">\n",
       "  <thead>\n",
       "    <tr style=\"text-align: right;\">\n",
       "      <th></th>\n",
       "      <th>num_steps</th>\n",
       "      <th>LR_conv</th>\n",
       "    </tr>\n",
       "  </thead>\n",
       "  <tbody>\n",
       "    <tr>\n",
       "      <th>0</th>\n",
       "      <td>10001</td>\n",
       "      <td>10.37597</td>\n",
       "    </tr>\n",
       "    <tr>\n",
       "      <th>1</th>\n",
       "      <td>10003</td>\n",
       "      <td>10.37597</td>\n",
       "    </tr>\n",
       "    <tr>\n",
       "      <th>2</th>\n",
       "      <td>10005</td>\n",
       "      <td>10.37597</td>\n",
       "    </tr>\n",
       "  </tbody>\n",
       "</table>\n",
       "</div>"
      ],
      "text/plain": [
       "   num_steps   LR_conv\n",
       "0      10001  10.37597\n",
       "1      10003  10.37597\n",
       "2      10005  10.37597"
      ]
     },
     "execution_count": 12,
     "metadata": {},
     "output_type": "execute_result"
    }
   ],
   "source": [
    "# CREATE A DATAFRAME FROM THE BINOMIAL MODEL OUTPUT\n",
    "df = pd.DataFrame.from_dict(lr_conv)\n",
    "df.to_csv(\"PS4_Q1a\", index=False)\n",
    "df"
   ]
  },
  {
   "cell_type": "code",
   "execution_count": 15,
   "metadata": {},
   "outputs": [
    {
     "data": {
      "text/plain": [
       "10.375970030737209"
      ]
     },
     "execution_count": 15,
     "metadata": {},
     "output_type": "execute_result"
    }
   ],
   "source": [
    "exact = df['LR_conv'][0]\n",
    "exact"
   ]
  }
 ],
 "metadata": {
  "kernelspec": {
   "display_name": "Python 3 (ipykernel)",
   "language": "python",
   "name": "python3"
  },
  "language_info": {
   "codemirror_mode": {
    "name": "ipython",
    "version": 3
   },
   "file_extension": ".py",
   "mimetype": "text/x-python",
   "name": "python",
   "nbconvert_exporter": "python",
   "pygments_lexer": "ipython3",
   "version": "3.9.12"
  }
 },
 "nbformat": 4,
 "nbformat_minor": 4
}
