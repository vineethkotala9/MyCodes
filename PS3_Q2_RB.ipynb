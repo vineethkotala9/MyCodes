{
 "cells": [
  {
   "cell_type": "markdown",
   "metadata": {},
   "source": [
    "# FIN 514 - PS3 Q2 RB\n",
    "**Spring 2023**\n",
    "\n",
    "This notebook provides the graphs for PS3 Q1 for the RB model\n",
    "\n",
    "## Packages and Configurations\n",
    "\n",
    "The following common packages will be use on this notebook.\n",
    "\n",
    "* numpy - [https://numpy.org/](https://numpy.org/)\n",
    "* Pandas - [https://pandas.pydata.org/](https://pandas.pydata.org/)\n",
    "* matplotlib - [https://matplotlib.org/](https://matplotlib.org/)\n",
    "* Scipy Statistical functions - [https://docs.scipy.org/doc/scipy/reference/stats.html](https://docs.scipy.org/doc/scipy/reference/stats.html)\n"
   ]
  },
  {
   "cell_type": "code",
   "execution_count": 1,
   "metadata": {},
   "outputs": [],
   "source": [
    "import numpy as np\n",
    "import pandas as pd\n",
    "import scipy.stats as st\n",
    "import matplotlib.pyplot as plt"
   ]
  },
  {
   "cell_type": "markdown",
   "metadata": {},
   "source": []
  },
  {
   "cell_type": "markdown",
   "metadata": {},
   "source": [
    "\n"
   ]
  },
  {
   "cell_type": "markdown",
   "metadata": {},
   "source": []
  },
  {
   "cell_type": "code",
   "execution_count": 2,
   "metadata": {},
   "outputs": [],
   "source": [
    "# ENTER INPUT FOR: start_step\n",
    "\n",
    "start_step = 50"
   ]
  },
  {
   "cell_type": "code",
   "execution_count": 3,
   "metadata": {},
   "outputs": [],
   "source": [
    "# ENTER INPUT FOR: N = num_steps\n",
    "\n",
    "N = 1000"
   ]
  },
  {
   "cell_type": "code",
   "execution_count": 4,
   "metadata": {},
   "outputs": [],
   "source": [
    "# ENTER INPUT FOR: S0 = Original Stock Price\n",
    "\n",
    "S0 = 100.0"
   ]
  },
  {
   "cell_type": "code",
   "execution_count": 5,
   "metadata": {},
   "outputs": [],
   "source": [
    "# ENTER INPUT FOR: K = Excercise Price of Call Option\n",
    "\n",
    "K = 105"
   ]
  },
  {
   "cell_type": "code",
   "execution_count": 6,
   "metadata": {},
   "outputs": [],
   "source": [
    "# ENTER INPUT FOR: sigma = Annualized (Future) Volatility of Stock Price Returns\n",
    "\n",
    "sigma = 0.2"
   ]
  },
  {
   "cell_type": "code",
   "execution_count": 7,
   "metadata": {},
   "outputs": [],
   "source": [
    "# ENTER INPUT FOR: r = Annualized Continously Compounded Risk-free Rate\n",
    "\n",
    "r = 0.01"
   ]
  },
  {
   "cell_type": "code",
   "execution_count": 8,
   "metadata": {},
   "outputs": [],
   "source": [
    "# ENTER INPUT FOR: T = Time Length of Option in which to Exercise (In Years)\n",
    "\n",
    "T = 0.5"
   ]
  },
  {
   "cell_type": "code",
   "execution_count": 9,
   "metadata": {},
   "outputs": [],
   "source": [
    "# ENTER INPUT FOR: q = Rate of continuous dividend paying asset \n",
    "\n",
    "q = 0"
   ]
  },
  {
   "cell_type": "code",
   "execution_count": 10,
   "metadata": {},
   "outputs": [],
   "source": [
    "# ENTER INPUT FOR: whether option is call (1) or put (0)\n",
    "cp = 0"
   ]
  },
  {
   "cell_type": "markdown",
   "metadata": {},
   "source": [
    "## Black-Sholes Model "
   ]
  },
  {
   "cell_type": "code",
   "execution_count": 11,
   "metadata": {},
   "outputs": [],
   "source": [
    "def black_scholes(S0, K, T, r, q, sigma, cp):\n",
    "    \"\"\"\n",
    "    Function to calculates the value of a European Call Option using Black Scholes \n",
    "    \n",
    "    S0: Original Stock Price\n",
    "    K: Excercise Price of Call Option\n",
    "    T: Time Length of Option in which to Exercise (In Years)\n",
    "    r: Annualized Continously Compounded Risk-free Rate\n",
    "    q: Rate of continuous dividend paying asset \n",
    "    sigma: Annualized (Future) Volatility of Stock Price Returns\n",
    "    \n",
    "    \"\"\"\n",
    "    \n",
    "    cdf_mean = 0.0\n",
    "    cdf_sd = 1.0\n",
    "    \n",
    "    d1 = (np.log(S0 / K) + (r - q + 0.5 * sigma ** 2) * T) / (sigma * np.sqrt(T))\n",
    "    d2 = (np.log(S0 / K) + (r - q - 0.5 * sigma ** 2) * T) / (sigma * np.sqrt(T))\n",
    "    \n",
    "    if cp == 1:\n",
    "        value = S0 * np.exp(-q * T) * st.norm.cdf(d1, cdf_mean, cdf_sd) \n",
    "        value = value - K * np.exp(-r * T) * st.norm.cdf(d2, cdf_mean, cdf_sd) \n",
    "    else:\n",
    "        value = -S0 * np.exp(-q * T) * st.norm.cdf(-d1, cdf_mean, cdf_sd) \n",
    "        value = value + K * np.exp(-r * T) * st.norm.cdf(-d2, cdf_mean, cdf_sd) \n",
    "    \n",
    "    return value"
   ]
  },
  {
   "cell_type": "markdown",
   "metadata": {},
   "source": [
    "## Binomial Model Function"
   ]
  },
  {
   "cell_type": "code",
   "execution_count": 12,
   "metadata": {},
   "outputs": [],
   "source": [
    "\n",
    "def RBE_model(S0, K, T, r, sigma, start_step, N):\n",
    "    \"\"\"\n",
    "    Function to calculates the value of a European Put Option using the CRR Binomial Model \n",
    "    \n",
    "    S0: Original Stock Price\n",
    "    K: Excercise Price of Call Option\n",
    "    T: Time Length of Option in which to Exercise (In Years)\n",
    "    r: Annualized Continously Compounded Risk-free Rate\n",
    "    sigma: Annualized (Future) Volatility of Stock Price Returns\n",
    "    start_step: Starting time step\n",
    "    N: Number of time steps\n",
    "    \n",
    "    \"\"\"    \n",
    "    \n",
    "    # LIST TO SAVE RESULTS\n",
    "    rbe_result = []\n",
    "        \n",
    "    # CREATE TWO DIMENSIONAL ARRAY OF SIZE [N+1,N+1] TO STORE ALL STEPS\n",
    "    option_value = np.zeros([N+1, N+1])\n",
    "    stock_value = np.zeros([N+1, N+1])    \n",
    "    \n",
    "    # FOR LOOP STATEMENT: For a Binomial Tree from start_step to N\n",
    "    for n in range(start_step, N+1):\n",
    "        delta = T / n\n",
    "        u = np.exp((r-q-0.5*sigma**2)*delta + sigma * (delta)**0.5)\n",
    "        d = np.exp((r-q-0.5*sigma**2)*delta - sigma * (delta)**0.5)\n",
    "        qu = (np.exp(r * delta) - d) / (u - d)\n",
    "        qd = 1 - qu\n",
    "        \n",
    "    # CALCULATE OPTION VALUES AT CERTAIN STEPS AND POSITIONS WITHIN THE BINOMIAL TREE:\n",
    "        j = n \n",
    "        \n",
    "        for i in range(0, j):    \n",
    "            stock_value[j, i] = S0 * (u**i) * (d**(j - i))\n",
    "            option_value[j, i] = np.maximum(K - stock_value[j, i], 0)\n",
    "\n",
    "        for j in range(n-1, -1, -1):\n",
    "            for i in range(j, -1, -1):\n",
    "                pv = np.exp(-r * delta) * (qu * option_value[j + 1, i + 1] + qd * option_value[j + 1, i])\n",
    "                option_value[j, i] = pv\n",
    "    # RELAY OUTPUTS TO DICTIONARY\n",
    "        output = {'num_steps': n, 'RB': option_value[0,0]}\n",
    "        rbe_result.append(output)\n",
    "\n",
    "    return rbe_result\n"
   ]
  },
  {
   "cell_type": "code",
   "execution_count": 13,
   "metadata": {},
   "outputs": [],
   "source": [
    "rb = RBE_model(S0, K, T, r, sigma, start_step, N)"
   ]
  },
  {
   "cell_type": "code",
   "execution_count": 14,
   "metadata": {},
   "outputs": [
    {
     "data": {
      "text/plain": [
       "8.27511717853504"
      ]
     },
     "execution_count": 14,
     "metadata": {},
     "output_type": "execute_result"
    }
   ],
   "source": [
    "bsc_value = black_scholes(S0, K, T, r, q, sigma,cp)\n",
    "bsc_value"
   ]
  },
  {
   "cell_type": "code",
   "execution_count": 15,
   "metadata": {},
   "outputs": [],
   "source": [
    "# CREATE A DATAFRAME FROM THE BINOMIAL MODEL OUTPUT\n",
    "df = pd.DataFrame.from_dict(rb)"
   ]
  },
  {
   "cell_type": "code",
   "execution_count": 16,
   "metadata": {},
   "outputs": [],
   "source": [
    "# CALCULATE THE ERROR FROM BINOMIAL MODEL COMPARED WITH BLACK-SHCOLES\n",
    "df['error_RB'] = df[\"RB\"] - bsc_value "
   ]
  },
  {
   "cell_type": "code",
   "execution_count": 17,
   "metadata": {},
   "outputs": [
    {
     "data": {
      "text/html": [
       "<div>\n",
       "<style scoped>\n",
       "    .dataframe tbody tr th:only-of-type {\n",
       "        vertical-align: middle;\n",
       "    }\n",
       "\n",
       "    .dataframe tbody tr th {\n",
       "        vertical-align: top;\n",
       "    }\n",
       "\n",
       "    .dataframe thead th {\n",
       "        text-align: right;\n",
       "    }\n",
       "</style>\n",
       "<table border=\"1\" class=\"dataframe\">\n",
       "  <thead>\n",
       "    <tr style=\"text-align: right;\">\n",
       "      <th></th>\n",
       "      <th>num_steps</th>\n",
       "      <th>RB</th>\n",
       "      <th>error_RB</th>\n",
       "    </tr>\n",
       "  </thead>\n",
       "  <tbody>\n",
       "    <tr>\n",
       "      <th>0</th>\n",
       "      <td>50</td>\n",
       "      <td>8.294866</td>\n",
       "      <td>0.019749</td>\n",
       "    </tr>\n",
       "    <tr>\n",
       "      <th>1</th>\n",
       "      <td>51</td>\n",
       "      <td>8.272990</td>\n",
       "      <td>-0.002127</td>\n",
       "    </tr>\n",
       "    <tr>\n",
       "      <th>2</th>\n",
       "      <td>52</td>\n",
       "      <td>8.295774</td>\n",
       "      <td>0.020656</td>\n",
       "    </tr>\n",
       "    <tr>\n",
       "      <th>3</th>\n",
       "      <td>53</td>\n",
       "      <td>8.268957</td>\n",
       "      <td>-0.006160</td>\n",
       "    </tr>\n",
       "    <tr>\n",
       "      <th>4</th>\n",
       "      <td>54</td>\n",
       "      <td>8.296306</td>\n",
       "      <td>0.021189</td>\n",
       "    </tr>\n",
       "  </tbody>\n",
       "</table>\n",
       "</div>"
      ],
      "text/plain": [
       "   num_steps        RB  error_RB\n",
       "0         50  8.294866  0.019749\n",
       "1         51  8.272990 -0.002127\n",
       "2         52  8.295774  0.020656\n",
       "3         53  8.268957 -0.006160\n",
       "4         54  8.296306  0.021189"
      ]
     },
     "execution_count": 17,
     "metadata": {},
     "output_type": "execute_result"
    }
   ],
   "source": [
    "# INSPECT THE FIRST ROWS OF THE DATAFRAME\n",
    "df.head()"
   ]
  },
  {
   "cell_type": "code",
   "execution_count": 18,
   "metadata": {},
   "outputs": [
    {
     "data": {
      "text/html": [
       "<div>\n",
       "<style scoped>\n",
       "    .dataframe tbody tr th:only-of-type {\n",
       "        vertical-align: middle;\n",
       "    }\n",
       "\n",
       "    .dataframe tbody tr th {\n",
       "        vertical-align: top;\n",
       "    }\n",
       "\n",
       "    .dataframe thead th {\n",
       "        text-align: right;\n",
       "    }\n",
       "</style>\n",
       "<table border=\"1\" class=\"dataframe\">\n",
       "  <thead>\n",
       "    <tr style=\"text-align: right;\">\n",
       "      <th></th>\n",
       "      <th>num_steps</th>\n",
       "      <th>RB</th>\n",
       "      <th>error_RB</th>\n",
       "    </tr>\n",
       "  </thead>\n",
       "  <tbody>\n",
       "    <tr>\n",
       "      <th>946</th>\n",
       "      <td>996</td>\n",
       "      <td>8.273661</td>\n",
       "      <td>-0.001456</td>\n",
       "    </tr>\n",
       "    <tr>\n",
       "      <th>947</th>\n",
       "      <td>997</td>\n",
       "      <td>8.276392</td>\n",
       "      <td>0.001275</td>\n",
       "    </tr>\n",
       "    <tr>\n",
       "      <th>948</th>\n",
       "      <td>998</td>\n",
       "      <td>8.273729</td>\n",
       "      <td>-0.001388</td>\n",
       "    </tr>\n",
       "    <tr>\n",
       "      <th>949</th>\n",
       "      <td>999</td>\n",
       "      <td>8.276389</td>\n",
       "      <td>0.001272</td>\n",
       "    </tr>\n",
       "    <tr>\n",
       "      <th>950</th>\n",
       "      <td>1000</td>\n",
       "      <td>8.273796</td>\n",
       "      <td>-0.001321</td>\n",
       "    </tr>\n",
       "  </tbody>\n",
       "</table>\n",
       "</div>"
      ],
      "text/plain": [
       "     num_steps        RB  error_RB\n",
       "946        996  8.273661 -0.001456\n",
       "947        997  8.276392  0.001275\n",
       "948        998  8.273729 -0.001388\n",
       "949        999  8.276389  0.001272\n",
       "950       1000  8.273796 -0.001321"
      ]
     },
     "execution_count": 18,
     "metadata": {},
     "output_type": "execute_result"
    }
   ],
   "source": [
    "# INSPECT THE LAST ROWS OF THE DATAFRAME\n",
    "df.tail()"
   ]
  },
  {
   "cell_type": "code",
   "execution_count": 19,
   "metadata": {},
   "outputs": [],
   "source": [
    "# EXPORT THE DATA TO A CSV FILE\n",
    "df.to_csv(\"Data/Q1rbe.csv\", index=False)"
   ]
  },
  {
   "cell_type": "markdown",
   "metadata": {},
   "source": [
    "### Binomial Model Error Rate"
   ]
  },
  {
   "cell_type": "code",
   "execution_count": 20,
   "metadata": {},
   "outputs": [
    {
     "data": {
      "image/png": "[encoded data removed]",
      "text/plain": [
       "<Figure size 1008x720 with 1 Axes>"
      ]
     },
     "metadata": {
      "needs_background": "light"
     },
     "output_type": "display_data"
    }
   ],
   "source": [
    "plt.figure(figsize=(14,10))\n",
    "plt.plot(df['num_steps'], df['error_RB'], 'o', markersize=3)\n",
    "plt.savefig('Images/Q1_rbe.png')\n",
    "plt.show()"
   ]
  }
 ],
 "metadata": {
  "kernelspec": {
   "display_name": "Python 3 (ipykernel)",
   "language": "python",
   "name": "python3"
  },
  "language_info": {
   "codemirror_mode": {
    "name": "ipython",
    "version": 3
   },
   "file_extension": ".py",
   "mimetype": "text/x-python",
   "name": "python",
   "nbconvert_exporter": "python",
   "pygments_lexer": "ipython3",
   "version": "3.9.12"
  }
 },
 "nbformat": 4,
 "nbformat_minor": 4
}
