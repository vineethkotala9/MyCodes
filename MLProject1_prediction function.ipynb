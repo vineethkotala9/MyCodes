{
 "cells": [
  {
   "cell_type": "code",
   "execution_count": 4,
   "id": "99274a4c",
   "metadata": {},
   "outputs": [],
   "source": [
    "import jax.numpy as jnp"
   ]
  },
  {
   "cell_type": "code",
   "execution_count": 36,
   "id": "83c5856c",
   "metadata": {},
   "outputs": [],
   "source": [
    "# loading theta values generated from earlier file\n",
    "\n",
    "θ = jnp.load(\"theta_values.npy\")\n",
    "\n",
    "# function for predicting values based on input data X\n",
    "\n",
    "def f(X):\n",
    "    \n",
    "    ones = jnp.ones_like(X[:,0])\n",
    "    Xmat = jnp.column_stack([ones, X])\n",
    "    \n",
    "    prediction = Xmat @ θ\n",
    "    return prediction"
   ]
  }
 ],
 "metadata": {
  "kernelspec": {
   "display_name": "Python 3 (ipykernel)",
   "language": "python",
   "name": "python3"
  },
  "language_info": {
   "codemirror_mode": {
    "name": "ipython",
    "version": 3
   },
   "file_extension": ".py",
   "mimetype": "text/x-python",
   "name": "python",
   "nbconvert_exporter": "python",
   "pygments_lexer": "ipython3",
   "version": "3.9.7"
  }
 },
 "nbformat": 4,
 "nbformat_minor": 5
}
