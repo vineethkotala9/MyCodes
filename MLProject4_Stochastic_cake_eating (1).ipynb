{
  "nbformat": 4,
  "nbformat_minor": 0,
  "metadata": {
    "colab": {
      "provenance": []
    },
    "kernelspec": {
      "name": "python3",
      "display_name": "Python 3"
    },
    "language_info": {
      "name": "python"
    },
    "accelerator": "GPU",
    "gpuClass": "standard"
  },
  "cells": [
    {
      "cell_type": "code",
      "execution_count": null,
      "metadata": {
        "id": "T-bnrm_jRjBW"
      },
      "outputs": [],
      "source": [
        "pip install -q optax dm-haiku"
      ]
    },
    {
      "cell_type": "code",
      "source": [
        "import jax\n",
        "import jax.numpy as jnp\n",
        "import optax\n",
        "import haiku as hk"
      ],
      "metadata": {
        "id": "7no4en8ORmN3"
      },
      "execution_count": null,
      "outputs": []
    },
    {
      "cell_type": "code",
      "source": [
        "γ = 2.\n",
        "β = 0.95\n",
        "rf = 1.0104\n",
        "\n",
        "def stock_return(rng):\n",
        "  μs = 0.06\n",
        "  σs = 0.2\n",
        "  ε = jax.random.normal(rng, ())\n",
        "  log_return = μs + σs * ε\n",
        "  return jnp.exp(log_return)\n",
        "\n",
        "def U(c):\n",
        "    return c**(1 - γ) / (1 - γ)\n",
        "\n",
        "optimizer = optax.adam\n",
        "lr = 1e-3\n",
        "T = 50\n",
        "\n",
        "def nnet(x,a):\n",
        "  X, A = jnp.column_stack([x]), jnp.column_stack([a])\n",
        "  X, A = hk.Linear(32)(X), hk.Linear(32)(A)\n",
        "  X, A = jnp.tanh(X), jnp.tanh(A)\n",
        "  X, A = hk.Linear(1)(X), hk.Linear(1)(A)\n",
        "  X, A = jnp.squeeze(X), jnp.squeeze(A)\n",
        "  return X, A\n",
        "\n",
        "init, nnet = hk.without_apply_rng(hk.transform(nnet))\n",
        "rng = jax.random.PRNGKey(0)\n",
        "Θ = init(rng, jnp.array(1.), jnp.array(.5))\n",
        "\n",
        "opt_state = optimizer(lr).init(Θ)"
      ],
      "metadata": {
        "id": "FFIHTsLZ2WPe"
      },
      "execution_count": 232,
      "outputs": []
    },
    {
      "cell_type": "code",
      "source": [
        "########## Loss function\n",
        "def L(Θ, rng):\n",
        "\n",
        "  x = 1.\n",
        "  α = .5\n",
        "  G = 0.\n",
        "\n",
        "  state = x, α\n",
        "\n",
        "  inputs = jnp.arange(T)\n",
        "##########################################################\n",
        "\n",
        "# creating a vector of returns for different time\n",
        "\n",
        "  def ret(rng, inputs):\n",
        "    rng, _ = jax.random.split(rng)\n",
        "    R = stock_return(rng)\n",
        "    return rng, R\n",
        "  rng, R = jax.lax.scan(ret, rng, inputs) \n",
        "##########################################################\n",
        "    \n",
        "  def core(state, inputs):\n",
        "    t = inputs\n",
        "    xt, at = state\n",
        "    r = R[inputs-1]# selecting a randomly generated return \n",
        "    ct = jax.nn.sigmoid(nnet(Θ, xt, at)[0] - 4.) * xt\n",
        "    αt = jax.nn.sigmoid(nnet(Θ, xt, at)[1]) \n",
        "    ut = U(ct)\n",
        "    st = xt - ct # savings = st\n",
        "    rfinv = (1 - αt) * (st) * (rf) # riskfree investment\n",
        "    rinv = (αt) * (st) * (r) # risky investment\n",
        "    x_tp1 = rfinv + rinv # generating new state with savings growing at rate r\n",
        "    s_tp1 = x_tp1, αt\n",
        "\n",
        "    discounted_utility = β**t * ut\n",
        "    return s_tp1, discounted_utility\n",
        "\n",
        "  state, discounted_utility = jax.lax.scan(core, state, inputs)\n",
        "  G = discounted_utility.sum()\n",
        "  return -G\n",
        "\n",
        "\n",
        "@jax.jit\n",
        "def evaluation(Θ, rng):\n",
        "  return -L(Θ, rng)\n",
        "\n",
        "\n",
        "@jax.jit\n",
        "def update_gradient_descent(Θ, opt_state, rng):\n",
        "  rng, _ = jax.random.split(rng)\n",
        "  grad = jax.grad(L)(Θ,rng)\n",
        "  updates, opt_state = optimizer(lr).update(grad, opt_state)\n",
        "  Θ = optax.apply_updates(Θ, updates)\n",
        "  return Θ, opt_state, rng"
      ],
      "metadata": {
        "id": "DKi0JZGRRpir"
      },
      "execution_count": null,
      "outputs": []
    },
    {
      "cell_type": "code",
      "source": [
        "for iteration in range(100000):\n",
        "  rng = jax.random.PRNGKey(0)\n",
        "  Θ, opt_state, rng = update_gradient_descent(Θ, opt_state, rng)\n",
        "  \n",
        "\n",
        "  if iteration % 1000 == 0:\n",
        "    print(evaluation(Θ, rng))"
      ],
      "metadata": {
        "colab": {
          "base_uri": "https://localhost:8080/"
        },
        "id": "EOmXR7ET2oVj",
        "outputId": "968c1322-bdac-4d15-fe41-fd25add8d538"
      },
      "execution_count": null,
      "outputs": [
        {
          "output_type": "stream",
          "name": "stdout",
          "text": [
            "-1730.3457\n",
            "-447.62466\n",
            "-442.90622\n",
            "-442.17316\n",
            "-440.96854\n",
            "-438.41586\n",
            "-437.33203\n",
            "-436.87802\n",
            "-436.7887\n",
            "-436.22086\n",
            "-436.0071\n",
            "-435.90558\n",
            "-435.7611\n",
            "-435.6327\n",
            "-435.51956\n",
            "-435.4186\n",
            "-435.32953\n",
            "-435.24622\n",
            "-435.17224\n",
            "-435.10455\n",
            "-435.04028\n",
            "-434.98523\n",
            "-434.9312\n",
            "-434.87988\n",
            "-434.8335\n",
            "-434.79266\n",
            "-434.7522\n",
            "-434.71255\n",
            "-434.6795\n",
            "-434.6464\n",
            "-434.61462\n",
            "-434.58508\n",
            "-434.55746\n",
            "-434.52866\n",
            "-434.50467\n",
            "-434.48047\n",
            "-434.45837\n",
            "-434.43744\n",
            "-434.41644\n",
            "-434.3971\n",
            "-434.3772\n",
            "-434.3601\n",
            "-434.34186\n",
            "-434.32422\n",
            "-434.30847\n",
            "-434.29587\n",
            "-434.2782\n",
            "-434.2635\n",
            "-434.25394\n",
            "-434.23953\n",
            "-434.2257\n",
            "-434.21338\n",
            "-434.20053\n",
            "-434.193\n",
            "-434.1789\n",
            "-434.17004\n",
            "-434.16003\n",
            "-434.14746\n",
            "-434.1416\n",
            "-434.13013\n",
            "-434.11853\n",
            "-434.1101\n",
            "-434.10367\n",
            "-434.09705\n",
            "-434.08902\n",
            "-434.07867\n",
            "-434.07373\n",
            "-434.065\n",
            "-434.05798\n",
            "-434.05066\n",
            "-434.04248\n",
            "-434.0375\n",
            "-434.02823\n",
            "-434.02603\n",
            "-434.0171\n",
            "-434.01413\n",
            "-434.0066\n",
            "-433.99988\n",
            "-433.9958\n",
            "-433.98737\n",
            "-433.98254\n",
            "-433.9809\n",
            "-433.97498\n",
            "-433.9702\n",
            "-433.96396\n",
            "-433.96378\n",
            "-433.95605\n",
            "-433.9506\n",
            "-433.94843\n",
            "-433.94376\n",
            "-433.9393\n",
            "-433.93237\n",
            "-433.92938\n",
            "-433.92444\n",
            "-433.9233\n",
            "-433.91788\n",
            "-433.91412\n",
            "-433.9093\n",
            "-433.91068\n",
            "-433.904\n"
          ]
        }
      ]
    },
    {
      "cell_type": "code",
      "source": [
        "\n",
        "def rplot(Θ, rng):\n",
        "\n",
        "  x = 1.\n",
        "  α = .5\n",
        "  G = 0.\n",
        "\n",
        "  state = x, α\n",
        "\n",
        "  inputs = jnp.arange(T)\n",
        "##########################################################\n",
        "\n",
        "# creating a vector of returns for different time\n",
        "\n",
        "  def ret(rng, inputs):\n",
        "    rng, _ = jax.random.split(rng)\n",
        "    R = stock_return(rng)\n",
        "    return rng, R\n",
        "  rng, R = jax.lax.scan(ret, rng, inputs) \n",
        "##########################################################\n",
        "    \n",
        "  def core2(state, inputs):\n",
        "    t = inputs\n",
        "    xt, at = state\n",
        "    r = R[inputs-1]# selecting a randomly generated return \n",
        "    ct = jax.nn.sigmoid(nnet(Θ, xt, at)[0] - 4.) * xt\n",
        "    αt = jax.nn.sigmoid(nnet(Θ, xt, at)[1])\n",
        "    ut = U(ct)\n",
        "    st = xt - ct # savings = st\n",
        "    rfinv = (1-αt) * (st) * (rf) # riskfree investment\n",
        "    rinv = (αt) * (st) * (r) # risky investment\n",
        "    x_tp1 = rfinv + rinv # generating new state with savings growing at rate r\n",
        "    c2x = ct/xt\n",
        "\n",
        "    s_tp1 = x_tp1, αt    \n",
        "    results = c2x, αt\n",
        "    \n",
        "    return s_tp1, results\n",
        "\n",
        "  state, results = jax.lax.scan(core2, state, inputs)\n",
        "  \n",
        "  return results"
      ],
      "metadata": {
        "id": "5IXOcREPoRsp"
      },
      "execution_count": null,
      "outputs": []
    },
    {
      "cell_type": "code",
      "source": [
        "import matplotlib.pyplot as plt\n",
        "from matplotlib import cm"
      ],
      "metadata": {
        "id": "eYnfVzFn8Dp9"
      },
      "execution_count": null,
      "outputs": []
    },
    {
      "cell_type": "code",
      "source": [
        "plt.title(\"Average consumption-wealth ratio ( c/x)  for each time period\")\n",
        "plt.plot(rplot(Θ, rng)[0]);"
      ],
      "metadata": {
        "colab": {
          "base_uri": "https://localhost:8080/",
          "height": 281
        },
        "id": "Gy6gR3Kb6yfb",
        "outputId": "2fe87298-b056-4d7a-b949-c223962f83c6"
      },
      "execution_count": null,
      "outputs": [
        {
          "output_type": "display_data",
          "data": {
            "text/plain": [
              "<Figure size 432x288 with 1 Axes>"
            ],
            "image/png": "[encoded data removed]"
          },
          "metadata": {
            "needs_background": "light"
          }
        }
      ]
    },
    {
      "cell_type": "code",
      "source": [
        "plt.title(\"Average asset allocation in the risky asset( α)  for each time period\")\n",
        "\n",
        "plt.plot(rplot(Θ, rng)[1]);"
      ],
      "metadata": {
        "colab": {
          "base_uri": "https://localhost:8080/",
          "height": 281
        },
        "id": "oSSKUqil82jL",
        "outputId": "102befc2-6ed9-4ccc-9b93-561b553b66d2"
      },
      "execution_count": 220,
      "outputs": [
        {
          "output_type": "display_data",
          "data": {
            "text/plain": [
              "<Figure size 432x288 with 1 Axes>"
            ],
            "image/png": "[encoded data removed]"
          },
          "metadata": {
            "needs_background": "light"
          }
        }
      ]
    },
    {
      "cell_type": "code",
      "source": [
        "theta_1 = Θ\n",
        "rplot(theta_1, rng)[1]"
      ],
      "metadata": {
        "colab": {
          "base_uri": "https://localhost:8080/"
        },
        "id": "ZjxWLw133QiT",
        "outputId": "071285fb-662d-4df2-8f2c-17d41ff171fd"
      },
      "execution_count": 228,
      "outputs": [
        {
          "output_type": "execute_result",
          "data": {
            "text/plain": [
              "DeviceArray([1., 1., 1., 1., 1., 1., 1., 1., 1., 1., 1., 1., 1., 1., 1.,\n",
              "             1., 1., 1., 1., 1., 1., 1., 1., 1., 1., 1., 1., 1., 1., 1.,\n",
              "             1., 1., 1., 1., 1., 1., 1., 1., 1., 1., 1., 1., 1., 1., 1.,\n",
              "             1., 1., 1., 1., 1.], dtype=float32)"
            ]
          },
          "metadata": {},
          "execution_count": 228
        }
      ]
    },
    {
      "cell_type": "code",
      "source": [
        "plt.title(\"Average asset allocation in the risky asset( α)  for each time period\")\n",
        "\n",
        "plt.plot(rplot(theta_1, rng)[1]); "
      ],
      "metadata": {
        "colab": {
          "base_uri": "https://localhost:8080/",
          "height": 281
        },
        "id": "sUrhmDUy3ctP",
        "outputId": "771a544c-8f86-4ce8-dea7-b2a10ce658f6"
      },
      "execution_count": 229,
      "outputs": [
        {
          "output_type": "display_data",
          "data": {
            "text/plain": [
              "<Figure size 432x288 with 1 Axes>"
            ],
            "image/png": "[encoded data removed]"
          },
          "metadata": {
            "needs_background": "light"
          }
        }
      ]
    },
    {
      "cell_type": "code",
      "source": [],
      "metadata": {
        "id": "VIfavQND5DS-"
      },
      "execution_count": null,
      "outputs": []
    },
    {
      "cell_type": "code",
      "source": [],
      "metadata": {
        "id": "QHxiQE__51Vu"
      },
      "execution_count": null,
      "outputs": []
    },
    {
      "cell_type": "markdown",
      "source": [
        "***It is observed that after million iterations the alpha value has remained constant at 1, while when the iternations it can be observed that it is getting closer to 1 as illustrated below***"
      ],
      "metadata": {
        "id": "_Yl38Wfx52Mx"
      }
    },
    {
      "cell_type": "code",
      "source": [
        "for iteration in range(10000):\n",
        "  rng = jax.random.PRNGKey(0)\n",
        "  Θ, opt_state, rng = update_gradient_descent(Θ, opt_state, rng)\n",
        "  \n",
        "\n",
        "  if iteration % 1000 == 0:\n",
        "    print(evaluation(Θ, rng))"
      ],
      "metadata": {
        "colab": {
          "base_uri": "https://localhost:8080/"
        },
        "id": "wBD1KPwE4AS6",
        "outputId": "30308e3f-ed6d-4e24-a43d-981058cb79ce"
      },
      "execution_count": 233,
      "outputs": [
        {
          "output_type": "stream",
          "name": "stdout",
          "text": [
            "-1730.3457\n",
            "-447.62466\n",
            "-442.90622\n",
            "-442.17316\n",
            "-440.96854\n",
            "-438.41586\n",
            "-437.33203\n",
            "-436.87802\n",
            "-436.7887\n",
            "-436.22086\n"
          ]
        }
      ]
    },
    {
      "cell_type": "markdown",
      "source": [],
      "metadata": {
        "id": "sIXsOaCZ5Pnc"
      }
    },
    {
      "cell_type": "code",
      "source": [
        "theta_2 = Θ\n",
        "rplot(theta_2, rng)[1]"
      ],
      "metadata": {
        "colab": {
          "base_uri": "https://localhost:8080/"
        },
        "id": "zgEDJK224Mut",
        "outputId": "5f9d3e95-0252-493c-909b-f9b9669b7d18"
      },
      "execution_count": 234,
      "outputs": [
        {
          "output_type": "execute_result",
          "data": {
            "text/plain": [
              "DeviceArray([0.9999713, 0.9999945, 0.9999945, 0.9999945, 0.9999945,\n",
              "             0.9999945, 0.9999945, 0.9999945, 0.9999945, 0.9999945,\n",
              "             0.9999945, 0.9999945, 0.9999945, 0.9999945, 0.9999945,\n",
              "             0.9999945, 0.9999945, 0.9999945, 0.9999945, 0.9999945,\n",
              "             0.9999945, 0.9999945, 0.9999945, 0.9999945, 0.9999945,\n",
              "             0.9999945, 0.9999945, 0.9999945, 0.9999945, 0.9999945,\n",
              "             0.9999945, 0.9999945, 0.9999945, 0.9999945, 0.9999945,\n",
              "             0.9999945, 0.9999945, 0.9999945, 0.9999945, 0.9999945,\n",
              "             0.9999945, 0.9999945, 0.9999945, 0.9999945, 0.9999945,\n",
              "             0.9999945, 0.9999945, 0.9999945, 0.9999945, 0.9999945],            dtype=float32)"
            ]
          },
          "metadata": {},
          "execution_count": 234
        }
      ]
    },
    {
      "cell_type": "code",
      "source": [
        "plt.title(\"α_ trend when iterations are low\")\n",
        "plt.plot(rplot(theta_2, rng)[1]); "
      ],
      "metadata": {
        "colab": {
          "base_uri": "https://localhost:8080/",
          "height": 281
        },
        "id": "-2RKFBpS6ICY",
        "outputId": "47a3d6ad-d361-4407-f7fe-93042c7cb506"
      },
      "execution_count": 235,
      "outputs": [
        {
          "output_type": "display_data",
          "data": {
            "text/plain": [
              "<Figure size 432x288 with 1 Axes>"
            ],
            "image/png": "[encoded data removed]"
          },
          "metadata": {
            "needs_background": "light"
          }
        }
      ]
    },
    {
      "cell_type": "code",
      "source": [],
      "metadata": {
        "id": "mSepIbtl6T5v"
      },
      "execution_count": null,
      "outputs": []
    }
  ]
}