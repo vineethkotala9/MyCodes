{
 "cells": [
  {
   "cell_type": "code",
   "execution_count": null,
   "metadata": {
    "id": "hEXJWimu2wTT"
   },
   "outputs": [],
   "source": []
  },
  {
   "cell_type": "markdown",
   "metadata": {
    "id": "S7nAWsd62wTV"
   },
   "source": [
    "# FIN 514 - PS3 Q1 - Airbag Autocallable\n",
    "\n",
    "**Spring 2023**\n",
    "\n",
    "This notebook provides Python codes for the valuation in PS3 Q1\n",
    "\n",
    "## Packages and Configurations\n",
    "\n",
    "The following common packages will be use on this notebook.\n",
    "\n",
    "* numpy - [https://numpy.org/](https://numpy.org/)\n",
    "* Pandas - [https://pandas.pydata.org/](https://pandas.pydata.org/)\n",
    "* matplotlib - [https://matplotlib.org/](https://matplotlib.org/)\n",
    "* Scipy Statistical functions - [https://docs.scipy.org/doc/scipy/reference/stats.html](https://docs.scipy.org/doc/scipy/reference/stats.html)\n"
   ]
  },
  {
   "cell_type": "code",
   "execution_count": 1,
   "metadata": {
    "id": "7v9_JsCq2wTX"
   },
   "outputs": [],
   "source": [
    "import numpy as np\n",
    "import pandas as pd\n",
    "import scipy.stats as st\n",
    "import matplotlib.pyplot as plt"
   ]
  },
  {
   "cell_type": "markdown",
   "metadata": {
    "id": "feXWtTa02wTY"
   },
   "source": [
    "\n"
   ]
  },
  {
   "cell_type": "markdown",
   "metadata": {
    "id": "Y4dsJOSz2wTZ"
   },
   "source": [
    "### Parameter Set up"
   ]
  },
  {
   "cell_type": "code",
   "execution_count": 2,
   "metadata": {
    "id": "5EFCvzUO2wTZ"
   },
   "outputs": [],
   "source": [
    "# ENTER INPUT FOR: N = num_steps\n",
    "\n",
    "N = 100"
   ]
  },
  {
   "cell_type": "code",
   "execution_count": 3,
   "metadata": {
    "id": "DAFkkTKq2wTa"
   },
   "outputs": [],
   "source": [
    "# ENTER INPUT FOR: S0 = Original Stock Price\n",
    "\n",
    "S0 = 227.29"
   ]
  },
  {
   "cell_type": "code",
   "execution_count": 4,
   "metadata": {
    "id": "vXDFQsLW2wTa"
   },
   "outputs": [],
   "source": [
    "# ENTER INPUT FOR: sigma = Annualized (Future) Volatility of Stock Price Returns\n",
    "\n",
    "sigma = 0.3573"
   ]
  },
  {
   "cell_type": "code",
   "execution_count": 5,
   "metadata": {
    "id": "cxRXWtBM2wTb"
   },
   "outputs": [],
   "source": [
    "# ENTER INPUT FOR: r = Annualized Continously Compounded Risk-free Rate\n",
    "\n",
    "r = 0.048"
   ]
  },
  {
   "cell_type": "code",
   "execution_count": 6,
   "metadata": {
    "id": "ZVfiVksH2wTb"
   },
   "outputs": [],
   "source": [
    "# ENTER INPUT FOR: T = Option maturity\n",
    "\n",
    "T = 367/365"
   ]
  },
  {
   "cell_type": "code",
   "execution_count": 7,
   "metadata": {
    "id": "y7y7C5ZP2wTc"
   },
   "outputs": [],
   "source": [
    "# ENTER INPUT FOR: DIV = Size of proportional dividend\n",
    "# ND as number of dividend dates\n",
    "DIV = 0.0219/4\n",
    "ND = 4"
   ]
  },
  {
   "cell_type": "code",
   "execution_count": 8,
   "metadata": {
    "id": "gUtxDIR_2wTc"
   },
   "outputs": [],
   "source": [
    "#Enter INPUT FOR: Dates when dividends are paid, here assuming the equivalent dates as in 2020. That is \n",
    "TD = np.zeros([ND])\n",
    "TD = [41/365, 136/365, 221/365, 315/365]\n"
   ]
  },
  {
   "cell_type": "code",
   "execution_count": 9,
   "metadata": {
    "id": "ExDQ9T8S2wTc"
   },
   "outputs": [],
   "source": [
    "# ENTER INPUT FOR: whether option is call (1) or put (0)\n",
    "cp = 0"
   ]
  },
  {
   "cell_type": "markdown",
   "metadata": {
    "id": "yte9MLLJ2wTd"
   },
   "source": [
    "### Stock price tree"
   ]
  },
  {
   "cell_type": "code",
   "execution_count": 10,
   "metadata": {
    "id": "YBt2zKd42wTd"
   },
   "outputs": [],
   "source": [
    "def Stock_tree(N, S0, sigma, r, T, DIV, TD):\n",
    "    \n",
    "    stock_value = np.zeros([N+1, N+1])    \n",
    "    \n",
    "    delta = T / N\n",
    "    u = np.exp(r*delta + sigma * (delta)**0.5)\n",
    "    d = np.exp(r*delta - sigma * (delta)**0.5)\n",
    "    print(\"u = \", u, \"d=\", d)\n",
    "\n",
    "    # FIRST LET'S BUILD A STOCK PRICE TREE WITH DIVIDENDS  \n",
    "    # Let's have dividends at grid points rather than times\n",
    "    jD1 = [i/delta for i in TD]\n",
    "    #print(jD1)\n",
    "    jD = [np.ceil(i) for i in jD1]\n",
    "    print(jD)\n",
    "    \n",
    "    stock_value[0,0] = S0\n",
    "    #print(stock_value[0,0])\n",
    "    for j in range (1,N+1):\n",
    "        stock_value[j, 0] = stock_value[j-1, 0]*d \n",
    "        for i in range(1, j+1):    \n",
    "            stock_value[j, i] = stock_value[j-1, i-1]*u      \n",
    "\n",
    "    # This adjusts all stock prices for that j by the size of the dividend    \n",
    "        if j in jD: stock_value[j, :] *= (1-DIV)\n",
    "    print(stock_value[3,0], stock_value[4,0], stock_value[5,0])        \n",
    "    return stock_value"
   ]
  },
  {
   "cell_type": "code",
   "execution_count": 11,
   "metadata": {
    "colab": {
     "base_uri": "https://localhost:8080/"
    },
    "id": "7F70PlI42wTd",
    "outputId": "f48f5a3f-0fc3-4b21-9dd7-5b27bedbe4c3"
   },
   "outputs": [
    {
     "name": "stdout",
     "output_type": "stream",
     "text": [
      "u =  1.0369776607409562 d= 0.9652722176988613\n",
      "[12.0, 38.0, 61.0, 86.0]\n",
      "204.42299572308679 197.3238384302688 190.47121912643738\n"
     ]
    }
   ],
   "source": [
    "stock = Stock_tree(N, S0, sigma, r, T, DIV, TD)\n",
    "\n"
   ]
  },
  {
   "cell_type": "code",
   "execution_count": 12,
   "metadata": {
    "colab": {
     "base_uri": "https://localhost:8080/"
    },
    "id": "DVKKIOG62wTe",
    "outputId": "e3d82eee-a953-424b-82c0-04ecd38885d0"
   },
   "outputs": [
    {
     "name": "stdout",
     "output_type": "stream",
     "text": [
      "[[2.27290000e+02 0.00000000e+00 0.00000000e+00 ... 0.00000000e+00\n",
      "  0.00000000e+00 0.00000000e+00]\n",
      " [2.19396722e+02 2.35694653e+02 0.00000000e+00 ... 0.00000000e+00\n",
      "  0.00000000e+00 0.00000000e+00]\n",
      " [2.11777561e+02 2.27509500e+02 2.44410089e+02 ... 0.00000000e+00\n",
      "  0.00000000e+00 0.00000000e+00]\n",
      " ...\n",
      " [6.96184248e+00 7.47900436e+00 8.03458372e+00 ... 7.80628512e+03\n",
      "  0.00000000e+00 0.00000000e+00]\n",
      " [6.72007313e+00 7.21927513e+00 7.75556045e+00 ... 7.53519015e+03\n",
      "  8.09494328e+03 0.00000000e+00]\n",
      " [6.48669989e+00 6.96856571e+00 7.48622703e+00 ... 7.27350970e+03\n",
      "  7.81382385e+03 8.39427535e+03]]\n"
     ]
    }
   ],
   "source": [
    "print(stock)"
   ]
  },
  {
   "cell_type": "markdown",
   "metadata": {
    "id": "GKvzMqY32wTe"
   },
   "source": [
    "### Airbag autocallable valuation "
   ]
  },
  {
   "cell_type": "code",
   "execution_count": 13,
   "metadata": {
    "id": "FOyPwjx-2wTf"
   },
   "outputs": [],
   "source": [
    "#key details\n",
    "Face = 1000\n",
    "ratio = 1000/(0.85*S0)"
   ]
  },
  {
   "cell_type": "code",
   "execution_count": 14,
   "metadata": {
    "id": "OzEvPFNy2wTf"
   },
   "outputs": [],
   "source": [
    "#Size of coupon and number of coupons per year\n",
    "cpn = 0.1185\n",
    "nc = 12"
   ]
  },
  {
   "cell_type": "code",
   "execution_count": 15,
   "metadata": {
    "id": "7BYTUMdd2wTf"
   },
   "outputs": [],
   "source": [
    "#Coupon only dates\n",
    "tco = [33/365, 66/365, 124/365, 153/365, 215/365, 245/365, 307/365, 339/365]"
   ]
  },
  {
   "cell_type": "code",
   "execution_count": 16,
   "metadata": {
    "id": "nAr09_AZ2wTf"
   },
   "outputs": [],
   "source": [
    "#autocall observation dates\n",
    "tac = [90/365, 182/365, 276/365]"
   ]
  },
  {
   "cell_type": "code",
   "execution_count": 17,
   "metadata": {
    "id": "XFaJmQ_n2wTf"
   },
   "outputs": [],
   "source": [
    "#autocall payment dates\n",
    "tacp = [94/365, 186/365, 278/365]"
   ]
  },
  {
   "cell_type": "code",
   "execution_count": 18,
   "metadata": {
    "id": "7hUYPvuF2wTg"
   },
   "outputs": [],
   "source": [
    "\n",
    "def Bin_autocall(N, S0, Face, ratio, sigma, r, T, stock_value, cpn, nc, tco, tac, tacp):\n",
    "\n",
    "    # LIST TO SAVE RESULTS\n",
    "    autocall_result = []\n",
    "        \n",
    "    # CREATE TWO DIMENSIONAL ARRAY OF SIZE [N+1,N+1] TO STORE ALL STEPS\n",
    "    # option_value[N+1, N+1]\n",
    "    option_value = np.zeros([N+2, N+2])\n",
    "    \n",
    "    delta = T / N\n",
    "    u = np.exp(r*delta+sigma * (delta)**0.5)\n",
    "    d = np.exp(r*delta-sigma * (delta)**0.5)\n",
    "    q = (np.exp(r * delta) - d) / (u - d)\n",
    "\n",
    "    #First, let's calculate the coupon dates and accrued interest\n",
    "\n",
    "    #jC1 are the exact values of j where the coupons are paid\n",
    "    #jC are the values of j where we first factor in the coupons - \n",
    "    #where int will give us the j immediately before or on the call date\n",
    "    jco1 = [j/delta for j in tco]\n",
    "    jco = [int(j) for j in jco1]\n",
    "    \n",
    "    jac1 = [j/delta for j in tac]\n",
    "    jac = [int(j) for j in jac1]\n",
    "    #This converts the call times into times steps, \n",
    "    #where int will give us the j immediately before the call date\n",
    "    \n",
    "    j = N\n",
    "    for i in range(0, j+1): \n",
    "        option_value[j, i] = (ratio*stock_value[j,i]+Face*cpn/nc)*np.exp(-r*3/365) \n",
    "        if stock_value[j,i] > 0.85*S0: option_value[j, i] = Face*(1+cpn/nc)*np.exp(-r*3/365) \n",
    "        \n",
    "        \n",
    "    for j in range(N-1, -1, -1):\n",
    "        if j in jco: print(\"coupon only\",j,jco.index(j))\n",
    "        if j in jac: print(\"autocall\",j,jac.index(j))    \n",
    "        for i in range(0, j+1):           \n",
    "            cont = np.exp(-r * delta) * (q * option_value[j + 1, i + 1] + (1-q) * option_value[j + 1, i])\n",
    "            if j in jco: \n",
    "                cont = cont + Face*cpn/nc*np.exp(-r*(tco[jco.index(j)]-delta*j))  \n",
    "            # the \"if j in jC\" is a really great Python command as it will check whether the entry ever occurs \n",
    "            # in the array jC. The index command is a little erratic but here will find the equivalent entry in \n",
    "            # the tc array - again a feature that may be helpful in future projects.\n",
    "            if j in jac:\n",
    "                if stock_value[j,i]>=S0: \n",
    "                    cont = Face*(1+cpn/nc)*np.exp(-r*(tacp[jac.index(j)]-delta*j))\n",
    "                else:\n",
    "                    cont = cont + Face*cpn/nc*np.exp(-r*(tacp[jac.index(j)]-delta*j))\n",
    "            option_value[j,i] = cont\n",
    "            \n",
    "      \n",
    "    output = {'num_steps': N, 'Value': option_value[0,0]}\n",
    "    autocall_result.append(output)\n",
    "\n",
    "    return autocall_result\n"
   ]
  },
  {
   "cell_type": "code",
   "execution_count": 19,
   "metadata": {
    "colab": {
     "base_uri": "https://localhost:8080/"
    },
    "id": "UuGwOXkv2wTg",
    "outputId": "d73a6165-2190-4a67-9551-60005390f73c"
   },
   "outputs": [
    {
     "name": "stdout",
     "output_type": "stream",
     "text": [
      "coupon only 92 7\n",
      "coupon only 83 6\n",
      "autocall 75 2\n",
      "coupon only 66 5\n",
      "coupon only 58 4\n",
      "autocall 49 1\n",
      "coupon only 41 3\n",
      "coupon only 33 2\n",
      "autocall 24 0\n",
      "coupon only 17 1\n",
      "coupon only 8 0\n"
     ]
    }
   ],
   "source": [
    "Autocall = Bin_autocall(N, S0, Face, ratio, sigma, r, T, stock, cpn, nc, tco, tac, tacp)"
   ]
  },
  {
   "cell_type": "code",
   "execution_count": 20,
   "metadata": {
    "id": "UrnYp09P2wTg"
   },
   "outputs": [],
   "source": [
    "# CREATE A DATAFRAME FROM THE BINOMIAL MODEL OUTPUT\n",
    "df = pd.DataFrame.from_dict(Autocall)"
   ]
  },
  {
   "cell_type": "code",
   "execution_count": 21,
   "metadata": {
    "colab": {
     "base_uri": "https://localhost:8080/",
     "height": 80
    },
    "id": "yezklpsw2wTh",
    "outputId": "4b089500-c20e-4e06-9c16-f784a33b00fa"
   },
   "outputs": [
    {
     "data": {
      "text/html": [
       "<div>\n",
       "<style scoped>\n",
       "    .dataframe tbody tr th:only-of-type {\n",
       "        vertical-align: middle;\n",
       "    }\n",
       "\n",
       "    .dataframe tbody tr th {\n",
       "        vertical-align: top;\n",
       "    }\n",
       "\n",
       "    .dataframe thead th {\n",
       "        text-align: right;\n",
       "    }\n",
       "</style>\n",
       "<table border=\"1\" class=\"dataframe\">\n",
       "  <thead>\n",
       "    <tr style=\"text-align: right;\">\n",
       "      <th></th>\n",
       "      <th>num_steps</th>\n",
       "      <th>Value</th>\n",
       "    </tr>\n",
       "  </thead>\n",
       "  <tbody>\n",
       "    <tr>\n",
       "      <th>0</th>\n",
       "      <td>100</td>\n",
       "      <td>986.456313</td>\n",
       "    </tr>\n",
       "  </tbody>\n",
       "</table>\n",
       "</div>"
      ],
      "text/plain": [
       "   num_steps       Value\n",
       "0        100  986.456313"
      ]
     },
     "execution_count": 21,
     "metadata": {},
     "output_type": "execute_result"
    }
   ],
   "source": [
    "# INSPECT THE FIRST ROWS OF THE DATAFRAME\n",
    "df.head()"
   ]
  },
  {
   "cell_type": "code",
   "execution_count": null,
   "metadata": {},
   "outputs": [],
   "source": []
  }
 ],
 "metadata": {
  "colab": {
   "name": "2022_PS3_Q1_Python.ipynb",
   "provenance": []
  },
  "kernelspec": {
   "display_name": "Python 3 (ipykernel)",
   "language": "python",
   "name": "python3"
  },
  "language_info": {
   "codemirror_mode": {
    "name": "ipython",
    "version": 3
   },
   "file_extension": ".py",
   "mimetype": "text/x-python",
   "name": "python",
   "nbconvert_exporter": "python",
   "pygments_lexer": "ipython3",
   "version": "3.9.12"
  }
 },
 "nbformat": 4,
 "nbformat_minor": 1
}
