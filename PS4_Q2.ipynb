{
 "cells": [
  {
   "cell_type": "markdown",
   "metadata": {},
   "source": [
    "# FIN 514 - PS4 Q2 LR\n",
    "**Spring 2022**\n",
    "\n"
   ]
  },
  {
   "cell_type": "code",
   "execution_count": 1,
   "metadata": {},
   "outputs": [],
   "source": [
    "import numpy as np\n",
    "import pandas as pd\n",
    "import scipy.stats as st\n",
    "import matplotlib.pyplot as plt"
   ]
  },
  {
   "cell_type": "code",
   "execution_count": 2,
   "metadata": {},
   "outputs": [],
   "source": [
    "# input parameters\n",
    "\n",
    "start_step = 50\n",
    "N = 1000\n",
    "S0 = 100.0\n",
    "K = 100.0\n",
    "B = 95\n",
    "r = 0.01\n",
    "q = 0\n",
    "sigma = 0.3\n",
    "T = 0.2 "
   ]
  },
  {
   "cell_type": "markdown",
   "metadata": {},
   "source": [
    "## Black-Sholes Model "
   ]
  },
  {
   "cell_type": "code",
   "execution_count": 4,
   "metadata": {},
   "outputs": [],
   "source": [
    "def bsm(S0, K, B, T, r, q, sigma):\n",
    "\n",
    "    cdf_mean = 0.0\n",
    "    cdf_sd = 1.0\n",
    "    \n",
    "    d1 = (np.log(S0 / K) + (r - q + 0.5 * sigma ** 2) * T) / (sigma * np.sqrt(T))\n",
    "    d2 = (np.log(S0 / K) + (r - q - 0.5 * sigma ** 2) * T) / (sigma * np.sqrt(T))\n",
    "    h1 = (np.log(B**2 / (K*S0)) + (r - q + 0.5 * sigma ** 2) * T) / (sigma * np.sqrt(T))\n",
    "    h2 = (np.log(B**2 / (K*S0)) + (r - q - 0.5 * sigma ** 2) * T) / (sigma * np.sqrt(T))\n",
    "    \n",
    "    value = S0 * np.exp(-q * T) * st.norm.cdf(d1, cdf_mean, cdf_sd) \n",
    "    value = value - K * np.exp(-r * T) * st.norm.cdf(d2, cdf_mean, cdf_sd) \n",
    "    value = value - (B/S0)**(1+2*r/sigma**2)*S0*st.norm.cdf(h1,cdf_mean,cdf_sd)\n",
    "    value = value + (B/S0)**(-1+2*r/sigma**2)*K*np.exp(-r * T)*st.norm.cdf(h2,cdf_mean,cdf_sd)     \n",
    " \n",
    "    return value"
   ]
  },
  {
   "cell_type": "markdown",
   "metadata": {},
   "source": [
    "## Binomial Model Function"
   ]
  },
  {
   "cell_type": "code",
   "execution_count": 5,
   "metadata": {},
   "outputs": [],
   "source": [
    "def LR_CB_fun(S0, K, B, T, r, sigma, start_step, N):\n",
    "    \n",
    "    \n",
    "    # LIST TO SAVE RESULTS\n",
    "    lr_result = []\n",
    "        \n",
    "    # CREATE ARRAY OF SIZE [N+1] TO STORE ALL STEPS\n",
    "    option_value = np.zeros([N+1])\n",
    "    stock_value = np.zeros([N+1])    \n",
    "    \n",
    "    # FOR LOOP STATEMENT: For a Binomial Tree from start_step to N\n",
    "    for n in range(start_step, N+1,1):\n",
    "        delta = T / n\n",
    "        d1 = (np.log(S0 / K) + (r - q + 0.5 * sigma ** 2) * T) / (sigma * np.sqrt(T))\n",
    "        d2 = (np.log(S0 / K) + (r - q - 0.5 * sigma ** 2) * T) / (sigma * np.sqrt(T))\n",
    "        qu = 0.5 + np.sqrt(0.25-0.25*np.exp(-(d2/(n+1/3))**2*(n+1/6)))\n",
    "        if d2 < 0: \n",
    "            qu = 0.5 - np.sqrt(0.25-0.25*np.exp(-(d2/(n+1/3))**2*(n+1/6)))\n",
    "        qd = 1 - qu    \n",
    "        qstar = 0.5 + np.sqrt(0.25-0.25*np.exp(-(d1/(n+1/3))**2*(n+1/6)))\n",
    "        if d1 < 0: \n",
    "            qstar = 0.5 - np.sqrt(0.25-0.25*np.exp(-(d1/(n+1/3))**2*(n+1/6)))\n",
    "        u = np.exp((r-q)*delta)*qstar/qu\n",
    "        d = (np.exp((r-q)*delta)-qu*u)/(1-qu)\n",
    "        \n",
    "    # CALCULATE OPTION VALUES AT CERTAIN STEPS AND POSITIONS WITHIN THE BINOMIAL TREE:\n",
    "\n",
    "        j = n \n",
    "        \n",
    "        for i in range(0, j):    \n",
    "            stock_value[i] = S0 * (u**i) * (d**(j - i))\n",
    "            option_value[i] = np.maximum(stock_value[i]-K, 0)\n",
    "            \n",
    "            if stock_value[i] < B:\n",
    "                sd = stock_value[i]\n",
    "        \n",
    "        lamda = (sd*u*u - B)/(sd*u*u - sd)\n",
    "\n",
    "        for j in range(n-1, -1, -1):\n",
    "            for i in range(0, j+1):\n",
    "                stock_value[i] = S0 * (u**i) * (d**(j - i))\n",
    "                pv = np.exp(-r * delta) * (qu * option_value[i + 1] + qd * option_value[i])\n",
    "                option_value[i] = pv\n",
    "\n",
    "                if stock_value[i] < B:\n",
    "                        option_value[i] = 0\n",
    "                        \n",
    "    # RELAY OUTPUTS TO DICTIONARY\n",
    "        output = {'num_steps': n, 'LR': option_value[0], 'lambda': lamda, 'sd': sd, 'su': sd*u*u}\n",
    "        lr_result.append(output)\n",
    "\n",
    "    return lr_result"
   ]
  },
  {
   "cell_type": "code",
   "execution_count": 7,
   "metadata": {},
   "outputs": [],
   "source": [
    "lr = LR_CB_fun(S0, K, B, T, r, sigma, start_step, N)"
   ]
  },
  {
   "cell_type": "code",
   "execution_count": 8,
   "metadata": {
    "scrolled": true
   },
   "outputs": [
    {
     "data": {
      "text/plain": [
       "3.706847906251113"
      ]
     },
     "execution_count": 8,
     "metadata": {},
     "output_type": "execute_result"
    }
   ],
   "source": [
    "bsm_value = bsm(S0, K, B, T, r, q, sigma)\n",
    "bsm_value"
   ]
  },
  {
   "cell_type": "code",
   "execution_count": 9,
   "metadata": {},
   "outputs": [
    {
     "data": {
      "text/html": [
       "<div>\n",
       "<style scoped>\n",
       "    .dataframe tbody tr th:only-of-type {\n",
       "        vertical-align: middle;\n",
       "    }\n",
       "\n",
       "    .dataframe tbody tr th {\n",
       "        vertical-align: top;\n",
       "    }\n",
       "\n",
       "    .dataframe thead th {\n",
       "        text-align: right;\n",
       "    }\n",
       "</style>\n",
       "<table border=\"1\" class=\"dataframe\">\n",
       "  <thead>\n",
       "    <tr style=\"text-align: right;\">\n",
       "      <th></th>\n",
       "      <th>num_steps</th>\n",
       "      <th>LR</th>\n",
       "      <th>lambda</th>\n",
       "      <th>sd</th>\n",
       "      <th>su</th>\n",
       "      <th>error_LR</th>\n",
       "    </tr>\n",
       "  </thead>\n",
       "  <tbody>\n",
       "    <tr>\n",
       "      <th>0</th>\n",
       "      <td>50</td>\n",
       "      <td>3.924110</td>\n",
       "      <td>0.363325</td>\n",
       "      <td>92.728120</td>\n",
       "      <td>96.296472</td>\n",
       "      <td>0.217262</td>\n",
       "    </tr>\n",
       "    <tr>\n",
       "      <th>1</th>\n",
       "      <td>51</td>\n",
       "      <td>3.917400</td>\n",
       "      <td>0.874413</td>\n",
       "      <td>94.547611</td>\n",
       "      <td>98.149813</td>\n",
       "      <td>0.210552</td>\n",
       "    </tr>\n",
       "    <tr>\n",
       "      <th>2</th>\n",
       "      <td>52</td>\n",
       "      <td>3.880372</td>\n",
       "      <td>0.389993</td>\n",
       "      <td>92.862826</td>\n",
       "      <td>96.366349</td>\n",
       "      <td>0.173524</td>\n",
       "    </tr>\n",
       "    <tr>\n",
       "      <th>3</th>\n",
       "      <td>53</td>\n",
       "      <td>3.873355</td>\n",
       "      <td>0.900375</td>\n",
       "      <td>94.647656</td>\n",
       "      <td>98.184367</td>\n",
       "      <td>0.166507</td>\n",
       "    </tr>\n",
       "    <tr>\n",
       "      <th>4</th>\n",
       "      <td>54</td>\n",
       "      <td>3.838086</td>\n",
       "      <td>0.416131</td>\n",
       "      <td>92.990228</td>\n",
       "      <td>96.432392</td>\n",
       "      <td>0.131238</td>\n",
       "    </tr>\n",
       "    <tr>\n",
       "      <th>...</th>\n",
       "      <td>...</td>\n",
       "      <td>...</td>\n",
       "      <td>...</td>\n",
       "      <td>...</td>\n",
       "      <td>...</td>\n",
       "      <td>...</td>\n",
       "    </tr>\n",
       "    <tr>\n",
       "      <th>946</th>\n",
       "      <td>996</td>\n",
       "      <td>3.877909</td>\n",
       "      <td>0.034642</td>\n",
       "      <td>94.223534</td>\n",
       "      <td>95.027864</td>\n",
       "      <td>0.171061</td>\n",
       "    </tr>\n",
       "    <tr>\n",
       "      <th>947</th>\n",
       "      <td>997</td>\n",
       "      <td>3.877525</td>\n",
       "      <td>0.538583</td>\n",
       "      <td>94.627465</td>\n",
       "      <td>95.434837</td>\n",
       "      <td>0.170677</td>\n",
       "    </tr>\n",
       "    <tr>\n",
       "      <th>948</th>\n",
       "      <td>998</td>\n",
       "      <td>3.875605</td>\n",
       "      <td>0.040718</td>\n",
       "      <td>94.229151</td>\n",
       "      <td>95.032720</td>\n",
       "      <td>0.168758</td>\n",
       "    </tr>\n",
       "    <tr>\n",
       "      <th>949</th>\n",
       "      <td>999</td>\n",
       "      <td>3.875221</td>\n",
       "      <td>0.544629</td>\n",
       "      <td>94.632696</td>\n",
       "      <td>95.439301</td>\n",
       "      <td>0.168373</td>\n",
       "    </tr>\n",
       "    <tr>\n",
       "      <th>950</th>\n",
       "      <td>1000</td>\n",
       "      <td>3.873306</td>\n",
       "      <td>0.046788</td>\n",
       "      <td>94.234752</td>\n",
       "      <td>95.037562</td>\n",
       "      <td>0.166458</td>\n",
       "    </tr>\n",
       "  </tbody>\n",
       "</table>\n",
       "<p>951 rows × 6 columns</p>\n",
       "</div>"
      ],
      "text/plain": [
       "     num_steps        LR    lambda         sd         su  error_LR\n",
       "0           50  3.924110  0.363325  92.728120  96.296472  0.217262\n",
       "1           51  3.917400  0.874413  94.547611  98.149813  0.210552\n",
       "2           52  3.880372  0.389993  92.862826  96.366349  0.173524\n",
       "3           53  3.873355  0.900375  94.647656  98.184367  0.166507\n",
       "4           54  3.838086  0.416131  92.990228  96.432392  0.131238\n",
       "..         ...       ...       ...        ...        ...       ...\n",
       "946        996  3.877909  0.034642  94.223534  95.027864  0.171061\n",
       "947        997  3.877525  0.538583  94.627465  95.434837  0.170677\n",
       "948        998  3.875605  0.040718  94.229151  95.032720  0.168758\n",
       "949        999  3.875221  0.544629  94.632696  95.439301  0.168373\n",
       "950       1000  3.873306  0.046788  94.234752  95.037562  0.166458\n",
       "\n",
       "[951 rows x 6 columns]"
      ]
     },
     "execution_count": 9,
     "metadata": {},
     "output_type": "execute_result"
    }
   ],
   "source": [
    "df = pd.DataFrame.from_dict(lr)\n",
    "df['error_LR'] = df[\"LR\"] - bsm_value \n",
    "df.to_csv(\"PS4_Q2\", index=False)\n",
    "df"
   ]
  },
  {
   "cell_type": "markdown",
   "metadata": {},
   "source": [
    "### Binomial Model Error Rate"
   ]
  },
  {
   "cell_type": "code",
   "execution_count": 10,
   "metadata": {},
   "outputs": [
    {
     "data": {
      "image/png": "[encoded data removed]",
      "text/plain": [
       "<Figure size 1008x720 with 2 Axes>"
      ]
     },
     "metadata": {
      "needs_background": "light"
     },
     "output_type": "display_data"
    }
   ],
   "source": [
    "fig, ax1 = plt.subplots(figsize=(14,10))\n",
    "ax1.set_ylabel('Error')\n",
    "ax1.plot(df['num_steps'], df['error_LR'], 'o', markersize=3, color = 'tab:red')\n",
    "ax2 = ax1.twinx()\n",
    "ax2.set_ylabel('lambda')\n",
    "ax2.plot(df['num_steps'], df['lambda'], 'x', markersize=2, color = 'tab:blue')\n",
    "plt.savefig('PS4_Q2_lr.png')\n",
    "plt.show()"
   ]
  },
  {
   "cell_type": "markdown",
   "metadata": {},
   "source": [
    "### We can observe from the above figure error rates are minimum at labda = 0\n",
    "\n",
    "Improving the convergence to the correct value:<br>\n",
    "-by increasing the number of steps we can acheive convergence or \n",
    "<br>\n",
    "-by selecting steps which shall give a constant lambda convergence can be further improved"
   ]
  }
 ],
 "metadata": {
  "kernelspec": {
   "display_name": "Python 3 (ipykernel)",
   "language": "python",
   "name": "python3"
  },
  "language_info": {
   "codemirror_mode": {
    "name": "ipython",
    "version": 3
   },
   "file_extension": ".py",
   "mimetype": "text/x-python",
   "name": "python",
   "nbconvert_exporter": "python",
   "pygments_lexer": "ipython3",
   "version": "3.9.12"
  }
 },
 "nbformat": 4,
 "nbformat_minor": 4
}
