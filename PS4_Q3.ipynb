{
 "cells": [
  {
   "cell_type": "markdown",
   "metadata": {},
   "source": [
    "# FIN 514 - PS4 Q3 LR\n",
    "**Spring 2022**\n",
    "\n"
   ]
  },
  {
   "cell_type": "code",
   "execution_count": 1,
   "metadata": {},
   "outputs": [],
   "source": [
    "import numpy as np\n",
    "import pandas as pd\n",
    "import scipy.stats as st\n",
    "import matplotlib.pyplot as plt"
   ]
  },
  {
   "cell_type": "code",
   "execution_count": 14,
   "metadata": {},
   "outputs": [],
   "source": [
    "# input parameters\n",
    "\n",
    "start_step = 5\n",
    "N = 100\n",
    "S0 = 100.0\n",
    "K = 100.0\n",
    "B = 95\n",
    "r = 0.1\n",
    "q = 0\n",
    "sigma = 0.3\n",
    "T = 0.2 "
   ]
  },
  {
   "cell_type": "markdown",
   "metadata": {},
   "source": [
    "## Binomial Model Function"
   ]
  },
  {
   "cell_type": "code",
   "execution_count": 15,
   "metadata": {},
   "outputs": [],
   "source": [
    "\n",
    "def LR_DB_fun(S0, K, B, T, r, sigma, start_step, N):\n",
    "\n",
    "    # LIST TO SAVE RESULTS\n",
    "    lr_result = []\n",
    "        \n",
    "    # CREATE ARRAY OF SIZE [N+1] TO STORE ALL STEPS\n",
    "    option_value = np.zeros([10*N+1])\n",
    "    stock_value = np.zeros([10*N+1])  \n",
    "    \n",
    "        \n",
    "    # FOR LOOP STATEMENT: For a Binomial Tree from start_step to N\n",
    "    for n1 in range(start_step, N+1,1):\n",
    "        \n",
    "        n = n1*10\n",
    "        j1 = n1*2\n",
    "        j2 = n1*4\n",
    "        j3 = n1*6\n",
    "        j4 = n1*8        \n",
    "        \n",
    "        delta = T / n\n",
    "        d1 = (np.log(S0 / K) + (r - q + 0.5 * sigma ** 2) * T) / (sigma * np.sqrt(T))\n",
    "        d2 = (np.log(S0 / K) + (r - q - 0.5 * sigma ** 2) * T) / (sigma * np.sqrt(T))\n",
    "        qu = 0.5 + np.sqrt(0.25-0.25*np.exp(-(d2/(n+1/3))**2*(n+1/6)))\n",
    "        if d2 < 0: \n",
    "            qu = 0.5 - np.sqrt(0.25-0.25*np.exp(-(d2/(n+1/3))**2*(n+1/6)))\n",
    "        qd = 1 - qu    \n",
    "        qstar = 0.5 + np.sqrt(0.25-0.25*np.exp(-(d1/(n+1/3))**2*(n+1/6)))\n",
    "        if d1 < 0: \n",
    "            qstar = 0.5 - np.sqrt(0.25-0.25*np.exp(-(d1/(n+1/3))**2*(n+1/6)))\n",
    "        u = np.exp((r-q)*delta)*qstar/qu\n",
    "        d = (np.exp((r-q)*delta)-qu*u)/(1-qu)\n",
    "        \n",
    "        \n",
    "        \n",
    "    # CALCULATE OPTION VALUES AT CERTAIN STEPS AND POSITIONS WITHIN THE BINOMIAL TREE:\n",
    "\n",
    "        j = n \n",
    "        \n",
    "        \n",
    "        for i in range(0, j):    \n",
    "            stock_value[i] = S0 * (u**i) * (d**(j - i))\n",
    "            option_value[i] = np.maximum(stock_value[i]-K, 0)\n",
    "            \n",
    "            if stock_value[i] < B:\n",
    "                sd = stock_value[i]\n",
    "        \n",
    "        lamda = (sd*u*u - B)/(sd*u*u - sd)\n",
    "\n",
    "        for j in range(n-1, -1, -1):\n",
    "            for i in range(0, j+1):\n",
    "                stock_value[i] = S0 * (u**i) * (d**(j - i))\n",
    "                pv = np.exp(-r * delta) * (qu * option_value[i + 1] + qd * option_value[i])\n",
    "                option_value[i] = pv\n",
    "\n",
    "                if (j == j1 or j == j2 or j == j3 or j == j4):\n",
    "                    if stock_value[i] < B:\n",
    "                            option_value[i] = 0\n",
    "\n",
    "        \n",
    "    # RELAY OUTPUTS TO DICTIONARY\n",
    "        output = {'num_steps': n, 'LR': option_value[0], 'lambda': lamda}\n",
    "        lr_result.append(output)\n",
    "\n",
    "    return lr_result\n"
   ]
  },
  {
   "cell_type": "code",
   "execution_count": 16,
   "metadata": {},
   "outputs": [],
   "source": [
    "lr = LR_DB_fun(S0, K, B, T, r, sigma, start_step, N)"
   ]
  },
  {
   "cell_type": "code",
   "execution_count": 17,
   "metadata": {
    "scrolled": true
   },
   "outputs": [],
   "source": [
    "exact = 5.6711051343"
   ]
  },
  {
   "cell_type": "code",
   "execution_count": 18,
   "metadata": {},
   "outputs": [
    {
     "data": {
      "text/html": [
       "<div>\n",
       "<style scoped>\n",
       "    .dataframe tbody tr th:only-of-type {\n",
       "        vertical-align: middle;\n",
       "    }\n",
       "\n",
       "    .dataframe tbody tr th {\n",
       "        vertical-align: top;\n",
       "    }\n",
       "\n",
       "    .dataframe thead th {\n",
       "        text-align: right;\n",
       "    }\n",
       "</style>\n",
       "<table border=\"1\" class=\"dataframe\">\n",
       "  <thead>\n",
       "    <tr style=\"text-align: right;\">\n",
       "      <th></th>\n",
       "      <th>num_steps</th>\n",
       "      <th>LR</th>\n",
       "      <th>lambda</th>\n",
       "      <th>error_LR</th>\n",
       "    </tr>\n",
       "  </thead>\n",
       "  <tbody>\n",
       "    <tr>\n",
       "      <th>0</th>\n",
       "      <td>50</td>\n",
       "      <td>5.763879</td>\n",
       "      <td>0.368047</td>\n",
       "      <td>0.092774</td>\n",
       "    </tr>\n",
       "    <tr>\n",
       "      <th>1</th>\n",
       "      <td>60</td>\n",
       "      <td>5.678316</td>\n",
       "      <td>0.495916</td>\n",
       "      <td>0.007211</td>\n",
       "    </tr>\n",
       "    <tr>\n",
       "      <th>2</th>\n",
       "      <td>70</td>\n",
       "      <td>5.603877</td>\n",
       "      <td>0.613212</td>\n",
       "      <td>-0.067228</td>\n",
       "    </tr>\n",
       "    <tr>\n",
       "      <th>3</th>\n",
       "      <td>80</td>\n",
       "      <td>5.538694</td>\n",
       "      <td>0.722188</td>\n",
       "      <td>-0.132411</td>\n",
       "    </tr>\n",
       "    <tr>\n",
       "      <th>4</th>\n",
       "      <td>90</td>\n",
       "      <td>5.481154</td>\n",
       "      <td>0.824396</td>\n",
       "      <td>-0.189951</td>\n",
       "    </tr>\n",
       "    <tr>\n",
       "      <th>...</th>\n",
       "      <td>...</td>\n",
       "      <td>...</td>\n",
       "      <td>...</td>\n",
       "      <td>...</td>\n",
       "    </tr>\n",
       "    <tr>\n",
       "      <th>91</th>\n",
       "      <td>960</td>\n",
       "      <td>5.596286</td>\n",
       "      <td>0.925846</td>\n",
       "      <td>-0.074819</td>\n",
       "    </tr>\n",
       "    <tr>\n",
       "      <th>92</th>\n",
       "      <td>970</td>\n",
       "      <td>5.591073</td>\n",
       "      <td>0.956482</td>\n",
       "      <td>-0.080032</td>\n",
       "    </tr>\n",
       "    <tr>\n",
       "      <th>93</th>\n",
       "      <td>980</td>\n",
       "      <td>5.585914</td>\n",
       "      <td>0.986954</td>\n",
       "      <td>-0.085191</td>\n",
       "    </tr>\n",
       "    <tr>\n",
       "      <th>94</th>\n",
       "      <td>990</td>\n",
       "      <td>5.748214</td>\n",
       "      <td>0.017414</td>\n",
       "      <td>0.077109</td>\n",
       "    </tr>\n",
       "    <tr>\n",
       "      <th>95</th>\n",
       "      <td>1000</td>\n",
       "      <td>5.743242</td>\n",
       "      <td>0.047821</td>\n",
       "      <td>0.072137</td>\n",
       "    </tr>\n",
       "  </tbody>\n",
       "</table>\n",
       "<p>96 rows × 4 columns</p>\n",
       "</div>"
      ],
      "text/plain": [
       "    num_steps        LR    lambda  error_LR\n",
       "0          50  5.763879  0.368047  0.092774\n",
       "1          60  5.678316  0.495916  0.007211\n",
       "2          70  5.603877  0.613212 -0.067228\n",
       "3          80  5.538694  0.722188 -0.132411\n",
       "4          90  5.481154  0.824396 -0.189951\n",
       "..        ...       ...       ...       ...\n",
       "91        960  5.596286  0.925846 -0.074819\n",
       "92        970  5.591073  0.956482 -0.080032\n",
       "93        980  5.585914  0.986954 -0.085191\n",
       "94        990  5.748214  0.017414  0.077109\n",
       "95       1000  5.743242  0.047821  0.072137\n",
       "\n",
       "[96 rows x 4 columns]"
      ]
     },
     "execution_count": 18,
     "metadata": {},
     "output_type": "execute_result"
    }
   ],
   "source": [
    "df = pd.DataFrame.from_dict(lr)\n",
    "df['error_LR'] = df[\"LR\"] - exact\n",
    "df.to_csv(\"PS4_Q3\", index=False)\n",
    "df"
   ]
  },
  {
   "cell_type": "markdown",
   "metadata": {},
   "source": [
    "### Binomial Model Error Rate"
   ]
  },
  {
   "cell_type": "code",
   "execution_count": 20,
   "metadata": {},
   "outputs": [
    {
     "data": {
      "image/png": "[encoded data removed]",
      "text/plain": [
       "<Figure size 1008x720 with 2 Axes>"
      ]
     },
     "metadata": {
      "needs_background": "light"
     },
     "output_type": "display_data"
    }
   ],
   "source": [
    "fig, ax1 = plt.subplots(figsize=(14,10))\n",
    "ax1.set_ylabel('Error')\n",
    "ax1.plot(df['num_steps'], df['error_LR'], 'o', markersize=3, color = 'tab:red')\n",
    "ax2 = ax1.twinx()\n",
    "ax2.set_ylabel('lambda')\n",
    "ax2.plot(df['num_steps'], df['lambda'], 'x', markersize=2, color = 'tab:blue')\n",
    "plt.savefig('PS4_Q3_lr.png')\n",
    "plt.show()"
   ]
  },
  {
   "cell_type": "markdown",
   "metadata": {},
   "source": [
    "### It can be observed from the above figure that the error is minimum around lambda = 0.5; and thus the tree generating more accurate values"
   ]
  }
 ],
 "metadata": {
  "kernelspec": {
   "display_name": "Python 3 (ipykernel)",
   "language": "python",
   "name": "python3"
  },
  "language_info": {
   "codemirror_mode": {
    "name": "ipython",
    "version": 3
   },
   "file_extension": ".py",
   "mimetype": "text/x-python",
   "name": "python",
   "nbconvert_exporter": "python",
   "pygments_lexer": "ipython3",
   "version": "3.9.12"
  }
 },
 "nbformat": 4,
 "nbformat_minor": 4
}
