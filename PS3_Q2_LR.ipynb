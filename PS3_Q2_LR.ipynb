{
 "cells": [
  {
   "cell_type": "markdown",
   "metadata": {},
   "source": [
    "# FIN 514 - PS3 Q2 LR\n",
    "**Fall 2022**\n",
    "\n",
    "This notebook provides the graphs for PS3 Q1 for the LR model\n",
    "\n",
    "## Packages and Configurations\n",
    "\n",
    "The following common packages will be use on this notebook.\n",
    "\n",
    "* numpy - [https://numpy.org/](https://numpy.org/)\n",
    "* Pandas - [https://pandas.pydata.org/](https://pandas.pydata.org/)\n",
    "* matplotlib - [https://matplotlib.org/](https://matplotlib.org/)\n",
    "* Scipy Statistical functions - [https://docs.scipy.org/doc/scipy/reference/stats.html](https://docs.scipy.org/doc/scipy/reference/stats.html)\n"
   ]
  },
  {
   "cell_type": "code",
   "execution_count": 1,
   "metadata": {},
   "outputs": [],
   "source": [
    "import numpy as np\n",
    "import pandas as pd\n",
    "import scipy.stats as st\n",
    "import matplotlib.pyplot as plt"
   ]
  },
  {
   "cell_type": "markdown",
   "metadata": {},
   "source": []
  },
  {
   "cell_type": "markdown",
   "metadata": {},
   "source": [
    "\n"
   ]
  },
  {
   "cell_type": "markdown",
   "metadata": {},
   "source": []
  },
  {
   "cell_type": "code",
   "execution_count": 2,
   "metadata": {},
   "outputs": [],
   "source": [
    "# ENTER INPUT FOR: start_step\n",
    "\n",
    "start_step = 51"
   ]
  },
  {
   "cell_type": "code",
   "execution_count": 3,
   "metadata": {},
   "outputs": [],
   "source": [
    "# ENTER INPUT FOR: N = num_steps\n",
    "\n",
    "N = 1000"
   ]
  },
  {
   "cell_type": "code",
   "execution_count": 4,
   "metadata": {},
   "outputs": [],
   "source": [
    "# ENTER INPUT FOR: S0 = Original Stock Price\n",
    "\n",
    "S0 = 100.0"
   ]
  },
  {
   "cell_type": "code",
   "execution_count": 5,
   "metadata": {},
   "outputs": [],
   "source": [
    "# ENTER INPUT FOR: K = Excercise Price of Call Option\n",
    "\n",
    "K = 105"
   ]
  },
  {
   "cell_type": "code",
   "execution_count": 6,
   "metadata": {},
   "outputs": [],
   "source": [
    "# ENTER INPUT FOR: sigma = Annualized (Future) Volatility of Stock Price Returns\n",
    "\n",
    "sigma = 0.3"
   ]
  },
  {
   "cell_type": "code",
   "execution_count": 7,
   "metadata": {},
   "outputs": [],
   "source": [
    "# ENTER INPUT FOR: r = Annualized Continously Compounded Risk-free Rate\n",
    "\n",
    "r = 0.04"
   ]
  },
  {
   "cell_type": "code",
   "execution_count": 8,
   "metadata": {},
   "outputs": [],
   "source": [
    "# ENTER INPUT FOR: T = Time Length of Option in which to Exercise (In Years)\n",
    "\n",
    "T = 0.5"
   ]
  },
  {
   "cell_type": "code",
   "execution_count": 9,
   "metadata": {},
   "outputs": [],
   "source": [
    "# ENTER INPUT FOR: q = Rate of continuous dividend paying asset \n",
    "\n",
    "q = 0"
   ]
  },
  {
   "cell_type": "code",
   "execution_count": 10,
   "metadata": {},
   "outputs": [],
   "source": [
    "# ENTER INPUT FOR: whether option is call (1) or put (0)\n",
    "cp = 0"
   ]
  },
  {
   "cell_type": "markdown",
   "metadata": {},
   "source": [
    "## Black-Sholes Model "
   ]
  },
  {
   "cell_type": "code",
   "execution_count": 11,
   "metadata": {},
   "outputs": [],
   "source": [
    "def black_scholes(S0, K, T, r, q, sigma, cp):\n",
    "    \"\"\"\n",
    "    Function to calculates the value of a European Call Option using Black Scholes \n",
    "    \n",
    "    S0: Original Stock Price\n",
    "    K: Excercise Price of Call Option\n",
    "    T: Time Length of Option in which to Exercise (In Years)\n",
    "    r: Annualized Continously Compounded Risk-free Rate\n",
    "    q: Rate of continuous dividend paying asset \n",
    "    sigma: Annualized (Future) Volatility of Stock Price Returns\n",
    "    \n",
    "    \"\"\"\n",
    "    \n",
    "    cdf_mean = 0.0\n",
    "    cdf_sd = 1.0\n",
    "    \n",
    "    d1 = (np.log(S0 / K) + (r - q + 0.5 * sigma ** 2) * T) / (sigma * np.sqrt(T))\n",
    "    d2 = (np.log(S0 / K) + (r - q - 0.5 * sigma ** 2) * T) / (sigma * np.sqrt(T))\n",
    "    \n",
    "    if cp == 1:\n",
    "        value = S0 * np.exp(-q * T) * st.norm.cdf(d1, cdf_mean, cdf_sd) \n",
    "        value = value - K * np.exp(-r * T) * st.norm.cdf(d2, cdf_mean, cdf_sd) \n",
    "    else:\n",
    "        value = -S0 * np.exp(-q * T) * st.norm.cdf(-d1, cdf_mean, cdf_sd) \n",
    "        value = value + K * np.exp(-r * T) * st.norm.cdf(-d2, cdf_mean, cdf_sd) \n",
    "    \n",
    "    return value"
   ]
  },
  {
   "cell_type": "markdown",
   "metadata": {},
   "source": [
    "## Binomial Model Function"
   ]
  },
  {
   "cell_type": "code",
   "execution_count": 12,
   "metadata": {},
   "outputs": [],
   "source": [
    "\n",
    "def LRE_model(S0, K, T, r, sigma, start_step, N):\n",
    "    \"\"\"\n",
    "    Function to calculates the value of a European Put Option using the CRR Binomial Model \n",
    "    \n",
    "    S0: Original Stock Price\n",
    "    K: Excercise Price of Call Option\n",
    "    T: Time Length of Option in which to Exercise (In Years)\n",
    "    r: Annualized Continously Compounded Risk-free Rate\n",
    "    sigma: Annualized (Future) Volatility of Stock Price Returns\n",
    "    start_step: Starting time step\n",
    "    N: Number of time steps\n",
    "    \n",
    "    \"\"\"    \n",
    "    \n",
    "    # LIST TO SAVE RESULTS\n",
    "    lre_result = []\n",
    "        \n",
    "    # CREATE TWO DIMENSIONAL ARRAY OF SIZE [N+1,N+1] TO STORE ALL STEPS\n",
    "    # option_value[N+1, N+1]\n",
    "    option_value = np.zeros([N+1, N+1])\n",
    "\n",
    "    # CREATE ARRAY FOR STOCK PRICES OF SIZE N+1,N+1\n",
    "    # stock_value[N+1, N+1]\n",
    "    stock_value = np.zeros([N+1, N+1])    \n",
    "    \n",
    "    # FOR LOOP STATEMENT: For a Binomial Tree from start_step to N\n",
    "    for n in range(start_step, N+1,2):\n",
    "        delta = T / n\n",
    "        d1 = (np.log(S0 / K) + (r - q + 0.5 * sigma ** 2) * T) / (sigma * np.sqrt(T))\n",
    "        d2 = (np.log(S0 / K) + (r - q - 0.5 * sigma ** 2) * T) / (sigma * np.sqrt(T))\n",
    "        qu = 0.5 + np.sqrt(0.25-0.25*np.exp(-(d2/(n+1/3))**2*(n+1/6)))\n",
    "        if d2 < 0: \n",
    "            qu = 0.5 - np.sqrt(0.25-0.25*np.exp(-(d2/(n+1/3))**2*(n+1/6)))\n",
    "        qd = 1 - qu    \n",
    "        qstar = 0.5 + np.sqrt(0.25-0.25*np.exp(-(d1/(n+1/3))**2*(n+1/6)))\n",
    "        if d1 < 0: \n",
    "            qstar = 0.5 - np.sqrt(0.25-0.25*np.exp(-(d1/(n+1/3))**2*(n+1/6)))\n",
    "        u = np.exp((r-q)*delta)*qstar/qu\n",
    "        d = (np.exp((r-q)*delta)-qu*u)/(1-qu)\n",
    "        \n",
    "    # CALCULATE OPTION VALUES AT CERTAIN STEPS AND POSITIONS WITHIN THE BINOMIAL TREE:\n",
    "        j = n \n",
    "        \n",
    "        for i in range(0, j):    \n",
    "            stock_value[j, i] = S0 * (u**i) * (d**(j - i))\n",
    "            option_value[j, i] = np.maximum(K - stock_value[j, i], 0)\n",
    "\n",
    "        for j in range(n-1, -1, -1):\n",
    "            for i in range(j, -1, -1):\n",
    "                pv = np.exp(-r * delta) * (qu * option_value[j + 1, i + 1] + qd * option_value[j + 1, i])\n",
    "                option_value[j, i] = pv\n",
    "    # RELAY OUTPUTS TO DICTIONARY\n",
    "        output = {'num_steps': n, 'LR': option_value[0,0]}\n",
    "        lre_result.append(output)\n",
    "\n",
    "    return lre_result\n"
   ]
  },
  {
   "cell_type": "code",
   "execution_count": 13,
   "metadata": {},
   "outputs": [],
   "source": [
    "lr = LRE_model(S0, K, T, r, sigma, start_step, N)"
   ]
  },
  {
   "cell_type": "code",
   "execution_count": 14,
   "metadata": {},
   "outputs": [
    {
     "data": {
      "text/plain": [
       "10.109303344957468"
      ]
     },
     "execution_count": 14,
     "metadata": {},
     "output_type": "execute_result"
    }
   ],
   "source": [
    "bsc_value = black_scholes(S0, K, T, r, q, sigma,cp)\n",
    "bsc_value"
   ]
  },
  {
   "cell_type": "code",
   "execution_count": 15,
   "metadata": {},
   "outputs": [],
   "source": [
    "# CREATE A DATAFRAME FROM THE BINOMIAL MODEL OUTPUT\n",
    "df = pd.DataFrame.from_dict(lr)"
   ]
  },
  {
   "cell_type": "code",
   "execution_count": 16,
   "metadata": {},
   "outputs": [],
   "source": [
    "# CALCULATE THE ERROR FROM BINOMIAL MODEL COMPARED WITH BLACK-SHCOLES\n",
    "df['error_LR'] = df[\"LR\"] - bsc_value "
   ]
  },
  {
   "cell_type": "code",
   "execution_count": 17,
   "metadata": {},
   "outputs": [
    {
     "data": {
      "text/html": [
       "<div>\n",
       "<style scoped>\n",
       "    .dataframe tbody tr th:only-of-type {\n",
       "        vertical-align: middle;\n",
       "    }\n",
       "\n",
       "    .dataframe tbody tr th {\n",
       "        vertical-align: top;\n",
       "    }\n",
       "\n",
       "    .dataframe thead th {\n",
       "        text-align: right;\n",
       "    }\n",
       "</style>\n",
       "<table border=\"1\" class=\"dataframe\">\n",
       "  <thead>\n",
       "    <tr style=\"text-align: right;\">\n",
       "      <th></th>\n",
       "      <th>num_steps</th>\n",
       "      <th>LR</th>\n",
       "      <th>error_LR</th>\n",
       "    </tr>\n",
       "  </thead>\n",
       "  <tbody>\n",
       "    <tr>\n",
       "      <th>0</th>\n",
       "      <td>51</td>\n",
       "      <td>10.109462</td>\n",
       "      <td>0.000159</td>\n",
       "    </tr>\n",
       "    <tr>\n",
       "      <th>1</th>\n",
       "      <td>53</td>\n",
       "      <td>10.109451</td>\n",
       "      <td>0.000147</td>\n",
       "    </tr>\n",
       "    <tr>\n",
       "      <th>2</th>\n",
       "      <td>55</td>\n",
       "      <td>10.109440</td>\n",
       "      <td>0.000137</td>\n",
       "    </tr>\n",
       "    <tr>\n",
       "      <th>3</th>\n",
       "      <td>57</td>\n",
       "      <td>10.109431</td>\n",
       "      <td>0.000128</td>\n",
       "    </tr>\n",
       "    <tr>\n",
       "      <th>4</th>\n",
       "      <td>59</td>\n",
       "      <td>10.109423</td>\n",
       "      <td>0.000119</td>\n",
       "    </tr>\n",
       "  </tbody>\n",
       "</table>\n",
       "</div>"
      ],
      "text/plain": [
       "   num_steps         LR  error_LR\n",
       "0         51  10.109462  0.000159\n",
       "1         53  10.109451  0.000147\n",
       "2         55  10.109440  0.000137\n",
       "3         57  10.109431  0.000128\n",
       "4         59  10.109423  0.000119"
      ]
     },
     "execution_count": 17,
     "metadata": {},
     "output_type": "execute_result"
    }
   ],
   "source": [
    "# INSPECT THE FIRST ROWS OF THE DATAFRAME\n",
    "df.head()"
   ]
  },
  {
   "cell_type": "code",
   "execution_count": 18,
   "metadata": {},
   "outputs": [
    {
     "data": {
      "text/html": [
       "<div>\n",
       "<style scoped>\n",
       "    .dataframe tbody tr th:only-of-type {\n",
       "        vertical-align: middle;\n",
       "    }\n",
       "\n",
       "    .dataframe tbody tr th {\n",
       "        vertical-align: top;\n",
       "    }\n",
       "\n",
       "    .dataframe thead th {\n",
       "        text-align: right;\n",
       "    }\n",
       "</style>\n",
       "<table border=\"1\" class=\"dataframe\">\n",
       "  <thead>\n",
       "    <tr style=\"text-align: right;\">\n",
       "      <th></th>\n",
       "      <th>num_steps</th>\n",
       "      <th>LR</th>\n",
       "      <th>error_LR</th>\n",
       "    </tr>\n",
       "  </thead>\n",
       "  <tbody>\n",
       "    <tr>\n",
       "      <th>470</th>\n",
       "      <td>991</td>\n",
       "      <td>10.109304</td>\n",
       "      <td>4.301465e-07</td>\n",
       "    </tr>\n",
       "    <tr>\n",
       "      <th>471</th>\n",
       "      <td>993</td>\n",
       "      <td>10.109304</td>\n",
       "      <td>4.284603e-07</td>\n",
       "    </tr>\n",
       "    <tr>\n",
       "      <th>472</th>\n",
       "      <td>995</td>\n",
       "      <td>10.109304</td>\n",
       "      <td>4.267261e-07</td>\n",
       "    </tr>\n",
       "    <tr>\n",
       "      <th>473</th>\n",
       "      <td>997</td>\n",
       "      <td>10.109304</td>\n",
       "      <td>4.250004e-07</td>\n",
       "    </tr>\n",
       "    <tr>\n",
       "      <th>474</th>\n",
       "      <td>999</td>\n",
       "      <td>10.109304</td>\n",
       "      <td>4.232947e-07</td>\n",
       "    </tr>\n",
       "  </tbody>\n",
       "</table>\n",
       "</div>"
      ],
      "text/plain": [
       "     num_steps         LR      error_LR\n",
       "470        991  10.109304  4.301465e-07\n",
       "471        993  10.109304  4.284603e-07\n",
       "472        995  10.109304  4.267261e-07\n",
       "473        997  10.109304  4.250004e-07\n",
       "474        999  10.109304  4.232947e-07"
      ]
     },
     "execution_count": 18,
     "metadata": {},
     "output_type": "execute_result"
    }
   ],
   "source": [
    "# INSPECT THE LAST ROWS OF THE DATAFRAME\n",
    "df.tail()"
   ]
  },
  {
   "cell_type": "code",
   "execution_count": 20,
   "metadata": {},
   "outputs": [],
   "source": [
    "# EXPORT THE DATA TO A CSV FILE\n",
    "df.to_csv(\"Q1lre.csv\", index=False)"
   ]
  },
  {
   "cell_type": "markdown",
   "metadata": {},
   "source": [
    "### Binomial Model Error Rate"
   ]
  },
  {
   "cell_type": "code",
   "execution_count": 21,
   "metadata": {},
   "outputs": [
    {
     "data": {
      "image/png": "[encoded data removed]",
      "text/plain": [
       "<Figure size 1008x720 with 1 Axes>"
      ]
     },
     "metadata": {
      "needs_background": "light"
     },
     "output_type": "display_data"
    }
   ],
   "source": [
    "plt.figure(figsize=(14,10))\n",
    "plt.plot(df['num_steps'], df['error_LR'], 'o', markersize=3)\n",
    "plt.show()"
   ]
  },
  {
   "cell_type": "code",
   "execution_count": null,
   "metadata": {},
   "outputs": [],
   "source": []
  }
 ],
 "metadata": {
  "kernelspec": {
   "display_name": "Python 3 (ipykernel)",
   "language": "python",
   "name": "python3"
  },
  "language_info": {
   "codemirror_mode": {
    "name": "ipython",
    "version": 3
   },
   "file_extension": ".py",
   "mimetype": "text/x-python",
   "name": "python",
   "nbconvert_exporter": "python",
   "pygments_lexer": "ipython3",
   "version": "3.9.12"
  }
 },
 "nbformat": 4,
 "nbformat_minor": 4
}
