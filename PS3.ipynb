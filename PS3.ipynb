{
 "cells": [
  {
   "cell_type": "markdown",
   "metadata": {},
   "source": [
    "# FIN 514 - Lecture 3 Python Codes\n",
    "**Spring 2022**\n",
    "\n",
    "This notebook provides the values for European options, American options and the callable notes from Lecture 3\n",
    "\n",
    "## Packages and Configurations\n",
    "\n",
    "The following common packages will be use on this notebook.\n",
    "\n",
    "* numpy - [https://numpy.org/](https://numpy.org/)\n",
    "* Pandas - [https://pandas.pydata.org/](https://pandas.pydata.org/)\n",
    "* matplotlib - [https://matplotlib.org/](https://matplotlib.org/)\n",
    "* Scipy Statistical functions - [https://docs.scipy.org/doc/scipy/reference/stats.html](https://docs.scipy.org/doc/scipy/reference/stats.html)\n"
   ]
  },
  {
   "cell_type": "code",
   "execution_count": 1,
   "metadata": {},
   "outputs": [],
   "source": [
    "import numpy as np\n",
    "import pandas as pd\n",
    "import scipy.stats as st\n",
    "import matplotlib.pyplot as plt"
   ]
  },
  {
   "cell_type": "markdown",
   "metadata": {},
   "source": []
  },
  {
   "cell_type": "markdown",
   "metadata": {},
   "source": [
    "\n"
   ]
  },
  {
   "cell_type": "markdown",
   "metadata": {},
   "source": []
  },
  {
   "cell_type": "code",
   "execution_count": 72,
   "metadata": {},
   "outputs": [],
   "source": [
    "# ENTER INPUT FOR: start_step\n",
    "N = 100"
   ]
  },
  {
   "cell_type": "code",
   "execution_count": 76,
   "metadata": {},
   "outputs": [],
   "source": [
    "# ENTER INPUT FOR: S0 = Original Stock Price\n",
    "S0 = 227.29\n",
    "# ENTER INPUT FOR: K = Excercise Price of Call Option\n",
    "K = 193.20\n",
    "# ENTER INPUT FOR: sigma = Annualized (Future) Volatility of Stock Price Returns\n",
    "sigma = 0.3573\n",
    "# ENTER INPUT FOR: r = Annualized Continously Compounded Risk-free Rate\n",
    "r = 0.048\n",
    "# ENTER INPUT FOR: T = Time Length of Option in which to Exercise (In Years)\n",
    "T = 1\n",
    "# ENTER INPUT FOR: D = proportional dividend\n",
    "D = 0.0219\n",
    "# ENTER INPUT FOR: ND = number of dividends and TD = array of dividend dates\n",
    "ND = 4\n",
    "TD = np.zeros([ND]) #creates an array with 4 entries\n",
    "TD = [0.125, 0.375, 0.625, 0.875]"
   ]
  },
  {
   "cell_type": "markdown",
   "metadata": {},
   "source": [
    "## Stock value tree"
   ]
  },
  {
   "cell_type": "code",
   "execution_count": 77,
   "metadata": {},
   "outputs": [],
   "source": [
    "def Stock_tree(N, S0, sigma, r, T, D, TD):\n",
    "    \n",
    "    stock_value = np.zeros([N+1, N+1])    \n",
    "    \n",
    "    delta = T / N\n",
    "    u = np.exp(r*delta + sigma * (delta)**0.5)\n",
    "    d = np.exp(r*delta - sigma * (delta)**0.5)\n",
    "    print(\"u = \", u, \"d=\", d)\n",
    "\n",
    "    # FIRST LET'S BUILD A STOCK PRICE TREE WITH DIVIDENDS  \n",
    "    # Let's have dividends at grid points rather than times\n",
    "    jD1 = [i/delta for i in TD]\n",
    "    jD = [np.ceil(i) for i in jD1]\n",
    "    print(jD)\n",
    "    \n",
    "    stock_value[0,0] = S0\n",
    "    for j in range (1,N+1):\n",
    "        stock_value[j, 0] = stock_value[j-1, 0]*d \n",
    "        for i in range(1, j+1):    \n",
    "            stock_value[j, i] = stock_value[j-1, i-1]*u      \n",
    "\n",
    "    # This adjusts all stock prices for that j by the size of the dividend    \n",
    "        if j in jD: stock_value[j, :] *= (1-D)\n",
    "    print(stock_value[3,0], stock_value[4,0], stock_value[50,50])        \n",
    "    return stock_value"
   ]
  },
  {
   "cell_type": "code",
   "execution_count": 78,
   "metadata": {},
   "outputs": [
    {
     "name": "stdout",
     "output_type": "stream",
     "text": [
      "u =  1.0368735670785485 d= 0.9653640450761569\n",
      "[13.0, 38.0, 63.0, 88.0]\n",
      "204.48134220721911 197.39893565576295 1329.3428558939984\n"
     ]
    }
   ],
   "source": [
    "stock = Stock_tree(N, S0, sigma, r, T, D, TD)"
   ]
  },
  {
   "cell_type": "code",
   "execution_count": 79,
   "metadata": {},
   "outputs": [
    {
     "data": {
      "text/plain": [
       "array([[2.27290000e+02, 0.00000000e+00, 0.00000000e+00, ...,\n",
       "        0.00000000e+00, 0.00000000e+00, 0.00000000e+00],\n",
       "       [2.19417594e+02, 2.35670993e+02, 0.00000000e+00, ...,\n",
       "        0.00000000e+00, 0.00000000e+00, 0.00000000e+00],\n",
       "       [2.11817856e+02, 2.27508303e+02, 2.44361023e+02, ...,\n",
       "        0.00000000e+00, 0.00000000e+00, 0.00000000e+00],\n",
       "       ...,\n",
       "       [6.57420249e+00, 7.06118777e+00, 7.58424657e+00, ...,\n",
       "        7.23172790e+03, 0.00000000e+00, 0.00000000e+00],\n",
       "       [6.34649871e+00, 6.81661679e+00, 7.32155895e+00, ...,\n",
       "        6.98125010e+03, 7.49838750e+03, 0.00000000e+00],\n",
       "       [6.12668167e+00, 6.58051675e+00, 7.06796976e+00, ...,\n",
       "        6.73944783e+03, 7.23867369e+03, 7.77487979e+03]])"
      ]
     },
     "execution_count": 79,
     "metadata": {},
     "output_type": "execute_result"
    }
   ],
   "source": [
    "stock"
   ]
  },
  {
   "cell_type": "code",
   "execution_count": 80,
   "metadata": {},
   "outputs": [
    {
     "data": {
      "text/plain": [
       "7774.879794607819"
      ]
     },
     "execution_count": 80,
     "metadata": {},
     "output_type": "execute_result"
    }
   ],
   "source": [
    "stock[N,N]"
   ]
  },
  {
   "cell_type": "code",
   "execution_count": 56,
   "metadata": {},
   "outputs": [],
   "source": [
    "\n",
    "def Lect3_European(S0, K, T, r, sigma, N, stock_value):\n",
    "    \n",
    "    # LIST TO SAVE RESULTS\n",
    "    Euro_result = []\n",
    "        \n",
    "    # CREATE TWO DIMENSIONAL ARRAY OF SIZE [N+1,N+1] TO STORE ALL STEPS\n",
    "    # option_value[N+1, N+1]\n",
    "    option_value = np.zeros([N+1, N+1])\n",
    "    \n",
    "    # FOR LOOP STATEMENT: For a Binomial Tree from start_step to N\n",
    "    \n",
    "    Deltat = T / N\n",
    "    u = np.exp(r*Deltat + sigma*(Deltat)**0.5)\n",
    "    d = np.exp(r*Deltat - sigma*(Deltat)**0.5)\n",
    "    q = (np.exp(r * Deltat) - d) / (u - d)\n",
    "        \n",
    "    # Start at the last step number because we are going to be moving backwards from step number n to step number 0\n",
    "    j = N \n",
    "    for i in range(0, j+1):    \n",
    "    # Then, calculate the value of the option at that exact position within the binomial tree\n",
    " \n",
    "        option_value[j, i] = np.maximum(stock_value[j, i] - K, 0)\n",
    "    \n",
    "    # Now, lets calculate the option value at each position (i) within the binomial tree at each previous step number (j) until time zero\n",
    "    for j in range(N-1, -1, -1):\n",
    "\n",
    "    # Then, create a FOR iteration on the position number (i), from the top position all the way down to the bottom position of 0 (all down jumps)\n",
    "        for i in range(j, -1, -1):\n",
    "            \n",
    "    # Now, calculation the continuation value of the option at that specific position and step number           \n",
    "            cv = np.exp(-r * Deltat) * (q*option_value[j+1,i+1] + (1-q)* option_value[j+1,i])\n",
    "            option_value[j, i] = cv\n",
    "    # RELAY OUTPUTS TO DICTIONARY\n",
    "    output = {'num_steps': N, 'CRR': option_value[0,0]}\n",
    "    Euro_result.append(output)\n",
    "    print(Euro_result)\n",
    "\n",
    "    return option_value\n"
   ]
  },
  {
   "cell_type": "code",
   "execution_count": 57,
   "metadata": {},
   "outputs": [
    {
     "name": "stdout",
     "output_type": "stream",
     "text": [
      "[{'num_steps': 50, 'CRR': 4.555653320003178}]\n"
     ]
    }
   ],
   "source": [
    "value = Lect3_European(S0, K, T, r, sigma, N, stock)\n"
   ]
  },
  {
   "cell_type": "code",
   "execution_count": 66,
   "metadata": {},
   "outputs": [],
   "source": [
    "\n",
    "def Lect3_American(S0, K, T, r, sigma, N, stock_value):\n",
    "    \n",
    "    # LIST TO SAVE RESULTS\n",
    "    American_result = []\n",
    "        \n",
    "    # CREATE TWO DIMENSIONAL ARRAY OF SIZE [N+1,N+1] TO STORE ALL STEPS\n",
    "    # option_value[N+1, N+1]\n",
    "    option_value = np.zeros([N+1, N+1])\n",
    "    \n",
    "    # FOR LOOP STATEMENT: For a Binomial Tree from start_step to N\n",
    "    \n",
    "    Deltat = T / N\n",
    "    u = np.exp(r*Deltat + sigma*(Deltat)**0.5)\n",
    "    d = np.exp(r*Deltat - sigma*(Deltat)**0.5)\n",
    "    q = (np.exp(r * Deltat) - d) / (u - d)\n",
    "        \n",
    "    # Start at the last step number because we are going to be moving backwards from step number n to step number 0\n",
    "    j = N \n",
    "    for i in range(0, j+1):    \n",
    "    # Then, calculate the value of the option at that exact position within the binomial tree\n",
    " \n",
    "        option_value[j, i] = np.maximum(stock_value[j, i] - K, 0)\n",
    "    \n",
    "    # Now, lets calculate the option value at each position (i) within the binomial tree at each previous step number (j) until time zero\n",
    "    for j in range(N-1, -1, -1):\n",
    "\n",
    "    # Then, create a FOR iteration on the position number (i), from the top position all the way down to the bottom position of 0 (all down jumps)\n",
    "        for i in range(j, -1, -1):\n",
    "            \n",
    "    # Now, calculation the continuation and exercise values of the option at that specific position and step number\n",
    "    # the option value is the larger of the two\n",
    "            cv = np.exp(-r * Deltat) * (q*option_value[j+1,i+1] + (1-q)* option_value[j+1,i])\n",
    "            ex = stock_value[j,i] - K\n",
    "            option_value[j, i] = np.maximum(cv,ex)\n",
    "    # RELAY OUTPUTS TO DICTIONARY\n",
    "    output = {'num_steps': N, 'CRR': option_value[0,0]}\n",
    "    American_result.append(output)\n",
    "\n",
    "    return American_result, option_value\n"
   ]
  },
  {
   "cell_type": "code",
   "execution_count": 70,
   "metadata": {},
   "outputs": [],
   "source": [
    "\n",
    "def Lect3_Barrier(S0, K, T, r, sigma, N, stock_value, B):\n",
    "    \n",
    "    # LIST TO SAVE RESULTS\n",
    "    Barrier_result = []\n",
    "        \n",
    "    # CREATE TWO DIMENSIONAL ARRAY OF SIZE [N+1,N+1] TO STORE ALL STEPS\n",
    "    # option_value[N+1, N+1]\n",
    "    option_value = np.zeros([N+1, N+1])\n",
    "    \n",
    "    # FOR LOOP STATEMENT: For a Binomial Tree from start_step to N\n",
    "    \n",
    "    Deltat = T / N\n",
    "    u = np.exp(r*Deltat + sigma*(Deltat)**0.5)\n",
    "    d = np.exp(r*Deltat - sigma*(Deltat)**0.5)\n",
    "    q = (np.exp(r * Deltat) - d) / (u - d)\n",
    "        \n",
    "    # Start at the last step number because we are going to be moving backwards from step number n to step number 0\n",
    "    j = N \n",
    "    for i in range(0, j+1):    \n",
    "    # Then, calculate the value of the option at that exact position within the binomial tree\n",
    " \n",
    "        option_value[j, i] = np.maximum(stock_value[j, i] - K, 0)\n",
    "    \n",
    "    # Now, lets calculate the option value at each position (i) within the binomial tree at each previous step number (j) until time zero\n",
    "    for j in range(N-1, -1, -1):\n",
    "\n",
    "    # Then, create a FOR iteration on the position number (i), from the top position all the way down to the bottom position of 0 (all down jumps)\n",
    "        for i in range(j, -1, -1):\n",
    "            \n",
    "    # Now, calculation the continuation value of the option at that specific position and step number but replace the option\n",
    "    #value with 0 if the stock price is below the barrier level\n",
    "            cv = np.exp(-r * Deltat) * (q*option_value[j+1,i+1] + (1-q)* option_value[j+1,i])\n",
    "            option_value[j, i] = cv\n",
    "            if stock_value[j, i] < B: option_value[j, i] = 0\n",
    "    # RELAY OUTPUTS TO DICTIONARY\n",
    "    output = {'num_steps': N, 'CRR': option_value[0,0]}\n",
    "    Barrier_result.append(output)\n",
    "\n",
    "    return Barrier_result\n"
   ]
  },
  {
   "cell_type": "code",
   "execution_count": 95,
   "metadata": {},
   "outputs": [],
   "source": [
    "#Coupon dates\n",
    "Cpn = 0.1185\n",
    "NC = 12\n",
    "TC = np.zeros([NC]) #creates an array with 3 entries\n",
    "TC = list(np.linspace(1/12,1,12))\n",
    "N = 100\n",
    "S0 = 227.29\n",
    "Face = 1000\n",
    "T = 1\n",
    "sigma = .3573\n",
    "r = .048\n"
   ]
  },
  {
   "cell_type": "code",
   "execution_count": 101,
   "metadata": {},
   "outputs": [
    {
     "data": {
      "text/plain": [
       "[8, 16, 25, 33, 41, 49, 58, 66, 75, 83, 91, 100]"
      ]
     },
     "execution_count": 101,
     "metadata": {},
     "output_type": "execute_result"
    }
   ],
   "source": [
    "Deltat = T/N\n",
    "jc1 = [j/Deltat for j in TC]\n",
    "[int(j) for j in jc1]"
   ]
  },
  {
   "cell_type": "code",
   "execution_count": 88,
   "metadata": {},
   "outputs": [],
   "source": [
    "\n",
    "def ac_option(S0, K, Face, T, r, sigma, N, stock_value, Cpn, NC, TC, tcall):\n",
    "    \n",
    "     # LIST TO SAVE RESULTS\n",
    "    convertible_result = []\n",
    "        \n",
    "    # CREATE TWO DIMENSIONAL ARRAY OF SIZE [N+1,N+1] TO STORE ALL STEPS\n",
    "    # option_value[N+1, N+1]\n",
    "    option_value = np.zeros([N+1, N+1])\n",
    "    \n",
    "    Deltat = T / N\n",
    "    u = np.exp(r*Deltat+sigma * (Deltat)**0.5)\n",
    "    d = np.exp(r*Deltat-sigma * (Deltat)**0.5)\n",
    "    q = (np.exp(r * Deltat) - d) / (u - d)\n",
    "\n",
    "    #First, let's calculate the coupon dates and accrued interest\n",
    "\n",
    "    #jC1 are the exact values of j where the coupons are paid\n",
    "    #jC are the values of j where we first factor in the coupons - \n",
    "    #where int will give us the j immediately before or on the coupon/call date\n",
    "    jc1 = [j/Deltat for j in TC]\n",
    "    jc = [int(j) for j in jc1]\n",
    "    jcall = int(tcall/Deltat)\n",
    "    print(\"call period starts\", jcall)\n",
    "    \n",
    "    \n",
    "    \n",
    "    j = N\n",
    "   \n",
    "    for i in range(0, j+1): \n",
    "        if stock[j,i] >= K:\n",
    "            option_value[j,i] = Face*(1+Cpn/NC)\n",
    "        else:\n",
    "            option_value[j,i] = Face/K*stock[j,i] + Face*(Cpn/NC)\n",
    "            \n",
    "            \n",
    "            \n",
    "            \n",
    "        option_value[j, i] = np.maximum(stock_value[j, i] - K, Face*(1+Cpn/NC))\n",
    "                             \n",
    "    for j in range(N-1, -1, -1):\n",
    "        if j >= jcall and j in jc: \n",
    "            nextcpndate = TC[jc.index(j)]\n",
    "            prevcpndate = TC[jc.index(j)-1] \n",
    "            print(\"coupon date\",j,jc.index(j),nextcpndate,prevcpndate) \n",
    "        if j >= jcall: \n",
    "            AI = Face*Cpn/NC*(j*Deltat-prevcpndate)/(nextcpndate-prevcpndate)\n",
    "            print (j, AI)\n",
    "        for i in range(0, j+1):           \n",
    "            cont = np.exp(-r * Deltat) * (q * option_value[j + 1, i + 1] + (1-q) * option_value[j + 1, i])\n",
    "            if j in jc: cont = cont + Face*Cpn/NC*np.exp(-r*(TC[jc.index(j)]-Deltat*j))  \n",
    "            conv = ratio*stock_value[j,i]\n",
    "            call = Face + AI\n",
    "            option_value[j, i] = np.maximum(conv,cont)                           \n",
    "            if j >= jcall: option_value[j, i] = np.minimum(np.maximum(call,conv),np.maximum(conv,cont))\n",
    "                    \n",
    "      \n",
    "    output = {'num_steps': N, 'Value': option_value[0,0]}\n",
    "    convertible_result.append(output)\n",
    "\n",
    "    return convertible_result\n",
    "\n",
    "\n"
   ]
  },
  {
   "cell_type": "code",
   "execution_count": 89,
   "metadata": {},
   "outputs": [
    {
     "name": "stdout",
     "output_type": "stream",
     "text": [
      "call period starts 25\n",
      "49 0.575\n",
      "48 0.5249999999999999\n",
      "47 0.47500000000000014\n",
      "46 0.4250000000000001\n",
      "45 0.37500000000000006\n",
      "44 0.325\n",
      "43 0.27499999999999997\n",
      "42 0.22499999999999992\n",
      "41 0.17500000000000016\n",
      "40 0.1250000000000001\n",
      "39 0.07500000000000007\n",
      "38 0.025000000000000022\n",
      "coupon date 37 2 0.75 0.5\n",
      "37 0.6\n",
      "36 0.5499999999999999\n",
      "35 0.5000000000000002\n",
      "34 0.4500000000000001\n",
      "33 0.4000000000000001\n",
      "32 0.35000000000000003\n",
      "31 0.3\n",
      "30 0.24999999999999994\n",
      "29 0.1999999999999999\n",
      "28 0.15000000000000013\n",
      "27 0.10000000000000009\n",
      "26 0.050000000000000044\n",
      "coupon date 25 1 0.5 0.25\n",
      "25 0.625\n"
     ]
    },
    {
     "data": {
      "text/plain": [
       "[{'num_steps': 50, 'Value': 100.06141753314701}]"
      ]
     },
     "execution_count": 89,
     "metadata": {},
     "output_type": "execute_result"
    }
   ],
   "source": [
    "value = Lect3_Convertible(S0, 100, 2, T, r, sigma, N, stock, Cpn, NC, TC, tcall)\n",
    "value"
   ]
  }
 ],
 "metadata": {
  "kernelspec": {
   "display_name": "Python 3 (ipykernel)",
   "language": "python",
   "name": "python3"
  },
  "language_info": {
   "codemirror_mode": {
    "name": "ipython",
    "version": 3
   },
   "file_extension": ".py",
   "mimetype": "text/x-python",
   "name": "python",
   "nbconvert_exporter": "python",
   "pygments_lexer": "ipython3",
   "version": "3.9.12"
  }
 },
 "nbformat": 4,
 "nbformat_minor": 4
}
