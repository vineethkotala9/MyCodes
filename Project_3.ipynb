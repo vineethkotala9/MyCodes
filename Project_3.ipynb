{
  "nbformat": 4,
  "nbformat_minor": 0,
  "metadata": {
    "colab": {
      "provenance": []
    },
    "kernelspec": {
      "name": "python3",
      "display_name": "Python 3"
    },
    "language_info": {
      "name": "python"
    },
    "accelerator": "TPU",
    "gpuClass": "standard"
  },
  "cells": [
    {
      "cell_type": "code",
      "execution_count": 1,
      "metadata": {
        "id": "Uyb_F3ry50Cn"
      },
      "outputs": [],
      "source": [
        "#vmenday2\n",
        "\n",
        "import jax.numpy as jnp\n",
        "import jax\n",
        "from jax import random\n",
        "import matplotlib.pyplot as plt\n",
        "from jax import lax\n",
        "import jax.scipy.stats as st"
      ]
    },
    {
      "cell_type": "code",
      "source": [
        "n = 1000000 #Number of simulations\n",
        "M = 2192 #Number of observation dates\n",
        "Spot = 32656.70\n",
        "sigma = 0.216\n",
        "r = 0.03875\n",
        "q = 0.01923\n",
        "T = 2192/365\n",
        "dt = T/M\n",
        "ISavg = Spot #(to be replace by the average price of index before pricing date to be captured)\n"
      ],
      "metadata": {
        "id": "ysURFotVCgks"
      },
      "execution_count": 18,
      "outputs": []
    },
    {
      "cell_type": "code",
      "source": [
        "\n",
        "S0 = jnp.ones((1,n))*Spot\n",
        "S0 =S0[0]\n",
        "\n",
        "def Prices(S0,M):\n",
        "  dB = jnp.sqrt(dt) * jax.random.normal(key=random.PRNGKey(M), shape=(1,jnp.size(S0)))[0]\n",
        "  S0 = S0 * jnp.exp((r-q-0.5*sigma**2)*dt+sigma*dB)\n",
        "  \n",
        "  return S0, S0\n",
        "SF, S_list = lax.scan(Prices, S0, jnp.arange(M))"
      ],
      "metadata": {
        "colab": {
          "base_uri": "https://localhost:8080/"
        },
        "id": "w4s_-FVb56NB",
        "outputId": "81ef5b1f-a1d1-4520-a014-7a8f299564c4"
      },
      "execution_count": 2,
      "outputs": [
        {
          "output_type": "stream",
          "name": "stderr",
          "text": [
            "WARNING:jax._src.lib.xla_bridge:No GPU/TPU found, falling back to CPU. (Set TF_CPP_MIN_LOG_LEVEL=0 and rerun for more info.)\n"
          ]
        }
      ]
    },
    {
      "cell_type": "code",
      "source": [
        "ISavg = jnp.ones(n)*ISavg\n",
        "for i in range(5):\n",
        "  ISavg = S_list[i,:]+ ISavg\n",
        "ISavg = ISavg/5\n",
        "FSavg = jnp.zeros(n)\n",
        "for i in range(2094, 2189):\n",
        "  FSavg = S_list[i,:]+ FSavg\n",
        "FSavg = FSavg/(2189-2094)"
      ],
      "metadata": {
        "id": "bPTBycUE6d1E"
      },
      "execution_count": 19,
      "outputs": []
    },
    {
      "cell_type": "code",
      "source": [
        "\n",
        "val_1=(FSavg > 1.32*ISavg)+0\n",
        "\n",
        "V1 = val_1*(17.08 + (10.68*(FSavg - 1.32*ISavg)/ISavg))\n",
        "\n",
        "val_2 = ((FSavg > 0.92* ((val_1)-1)*-1*ISavg)+0)*((((val_1)-1)*-1*ISavg*1.32 >= FSavg)+0) \n",
        "\n",
        "V2 = val_2*(10 + (17.7*(FSavg - 0.92*ISavg)/ISavg))\n",
        "\n",
        "val_3 = ((FSavg >= 0.76* ((val_2)-1)*-1*ISavg)+0)*((((val_2)-1)*-1*ISavg*0.92 >= FSavg)+0) \n",
        "\n",
        "V3 = val_3*(10 + (15*((FSavg - ISavg)/ISavg+0.08)))\n",
        "\n",
        "val_4 = jnp.ones(n) - (val_1 + val_2 + val_3)\n",
        "\n",
        "V4 = val_4*(10 + (10*((FSavg - ISavg)/ISavg)))\n",
        "\n",
        "V = (V1 + V2 + V3 + V4)\n",
        "V = V* jnp.exp(-r*T)\n",
        "\n",
        "jnp.mean(V)"
      ],
      "metadata": {
        "colab": {
          "base_uri": "https://localhost:8080/"
        },
        "id": "2DS0bn1l59jr",
        "outputId": "636eee3e-c2ff-4ca3-b1ae-7c6fa296913c"
      },
      "execution_count": 21,
      "outputs": [
        {
          "output_type": "execute_result",
          "data": {
            "text/plain": [
              "DeviceArray(8.434687, dtype=float32)"
            ]
          },
          "metadata": {},
          "execution_count": 21
        }
      ]
    }
  ]
}